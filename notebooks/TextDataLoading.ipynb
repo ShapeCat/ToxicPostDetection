{
 "cells": [
  {
   "cell_type": "markdown",
   "id": "35c862b8",
   "metadata": {},
   "source": [
    "# Первичная настройка"
   ]
  },
  {
   "cell_type": "markdown",
   "id": "2dbb2901",
   "metadata": {},
   "source": [
    "## Настройка путей"
   ]
  },
  {
   "cell_type": "code",
   "execution_count": 1,
   "id": "d37a6e40",
   "metadata": {},
   "outputs": [],
   "source": [
    "import pandas as pd\n",
    "from pathlib import Path\n",
    "\n",
    "\n",
    "raw_dir = Path(\"../data/raw\")\n",
    "preprocessed_path = Path(\"../data/preprocessed/text_only.csv\")"
   ]
  },
  {
   "cell_type": "markdown",
   "id": "47167282",
   "metadata": {},
   "source": [
    "## Проверка существования "
   ]
  },
  {
   "cell_type": "code",
   "execution_count": 2,
   "id": "bb9b3099",
   "metadata": {},
   "outputs": [],
   "source": [
    "if not preprocessed_path.exists():\n",
    "    main_df = pd.DataFrame(columns=[\"text\", \"blocked\"])\n",
    "else: \n",
    "    main_df = pd.read_csv(preprocessed_path)"
   ]
  },
  {
   "cell_type": "markdown",
   "id": "a9637e3a",
   "metadata": {},
   "source": [
    "# Загрузка данных"
   ]
  },
  {
   "cell_type": "markdown",
   "id": "89020db4",
   "metadata": {},
   "source": [
    "## s-nlp/ru_paradetox_toxicity"
   ]
  },
  {
   "cell_type": "markdown",
   "id": "f1d5668a",
   "metadata": {},
   "source": [
    "### Скачивание датасета"
   ]
  },
  {
   "cell_type": "code",
   "execution_count": 3,
   "id": "5e76e58d",
   "metadata": {},
   "outputs": [
    {
     "data": {
      "text/html": [
       "<div>\n",
       "<style scoped>\n",
       "    .dataframe tbody tr th:only-of-type {\n",
       "        vertical-align: middle;\n",
       "    }\n",
       "\n",
       "    .dataframe tbody tr th {\n",
       "        vertical-align: top;\n",
       "    }\n",
       "\n",
       "    .dataframe thead th {\n",
       "        text-align: right;\n",
       "    }\n",
       "</style>\n",
       "<table border=\"1\" class=\"dataframe\">\n",
       "  <thead>\n",
       "    <tr style=\"text-align: right;\">\n",
       "      <th></th>\n",
       "      <th>Unnamed: 0</th>\n",
       "      <th>neutral</th>\n",
       "      <th>toxic</th>\n",
       "    </tr>\n",
       "  </thead>\n",
       "  <tbody>\n",
       "    <tr>\n",
       "      <th>0</th>\n",
       "      <td>4518</td>\n",
       "      <td>Надоели уже попрашайки классов сколько же тут ...</td>\n",
       "      <td>False</td>\n",
       "    </tr>\n",
       "    <tr>\n",
       "      <th>1</th>\n",
       "      <td>789</td>\n",
       "      <td>Мне не нравяться женщины, которые готовы прода...</td>\n",
       "      <td>False</td>\n",
       "    </tr>\n",
       "    <tr>\n",
       "      <th>2</th>\n",
       "      <td>1490</td>\n",
       "      <td>Эти люди ничего не могут, верхушек нахватали, ...</td>\n",
       "      <td>False</td>\n",
       "    </tr>\n",
       "    <tr>\n",
       "      <th>3</th>\n",
       "      <td>2938</td>\n",
       "      <td>Я то за свои слова отвечу, а вот ответишь ли т...</td>\n",
       "      <td>False</td>\n",
       "    </tr>\n",
       "    <tr>\n",
       "      <th>4</th>\n",
       "      <td>1422</td>\n",
       "      <td>Уничтожить их бы и всех остальных. Туда же и б...</td>\n",
       "      <td>True</td>\n",
       "    </tr>\n",
       "  </tbody>\n",
       "</table>\n",
       "</div>"
      ],
      "text/plain": [
       "   Unnamed: 0                                            neutral  toxic\n",
       "0        4518  Надоели уже попрашайки классов сколько же тут ...  False\n",
       "1         789  Мне не нравяться женщины, которые готовы прода...  False\n",
       "2        1490  Эти люди ничего не могут, верхушек нахватали, ...  False\n",
       "3        2938  Я то за свои слова отвечу, а вот ответишь ли т...  False\n",
       "4        1422  Уничтожить их бы и всех остальных. Туда же и б...   True"
      ]
     },
     "execution_count": 3,
     "metadata": {},
     "output_type": "execute_result"
    }
   ],
   "source": [
    "from vk_mod.data import load_from_hugginface\n",
    "\n",
    "\n",
    "max_rows = 10000\n",
    "dataset_name = \"s-nlp/ru_paradetox_toxicity\"\n",
    "dataset_path = Path(raw_dir, dataset_name.split('/')[-1]).with_suffix(\".csv\")\n",
    "\n",
    "\n",
    "load_from_hugginface(dataset_name, dataset_path, max_rows=max_rows)\n",
    "temp_df = pd.read_csv(dataset_path)\n",
    "temp_df.head(5)"
   ]
  },
  {
   "cell_type": "markdown",
   "id": "21b87d4f",
   "metadata": {},
   "source": [
    "### Приведение колонок у нужному виду"
   ]
  },
  {
   "cell_type": "code",
   "execution_count": 4,
   "id": "a7ff10f5",
   "metadata": {},
   "outputs": [
    {
     "data": {
      "text/html": [
       "<div>\n",
       "<style scoped>\n",
       "    .dataframe tbody tr th:only-of-type {\n",
       "        vertical-align: middle;\n",
       "    }\n",
       "\n",
       "    .dataframe tbody tr th {\n",
       "        vertical-align: top;\n",
       "    }\n",
       "\n",
       "    .dataframe thead th {\n",
       "        text-align: right;\n",
       "    }\n",
       "</style>\n",
       "<table border=\"1\" class=\"dataframe\">\n",
       "  <thead>\n",
       "    <tr style=\"text-align: right;\">\n",
       "      <th></th>\n",
       "      <th>Unnamed: 0</th>\n",
       "      <th>text</th>\n",
       "      <th>blocked</th>\n",
       "    </tr>\n",
       "  </thead>\n",
       "  <tbody>\n",
       "    <tr>\n",
       "      <th>1915</th>\n",
       "      <td>2117</td>\n",
       "      <td>Наказать всех этих плохих людей</td>\n",
       "      <td>False</td>\n",
       "    </tr>\n",
       "    <tr>\n",
       "      <th>4051</th>\n",
       "      <td>2394</td>\n",
       "      <td>да его  надо садить что его отмаэывают адвокат...</td>\n",
       "      <td>False</td>\n",
       "    </tr>\n",
       "    <tr>\n",
       "      <th>5486</th>\n",
       "      <td>449</td>\n",
       "      <td>Зря что от сапогов отказалась</td>\n",
       "      <td>False</td>\n",
       "    </tr>\n",
       "    <tr>\n",
       "      <th>6023</th>\n",
       "      <td>2944</td>\n",
       "      <td>А он не обнаглел?</td>\n",
       "      <td>False</td>\n",
       "    </tr>\n",
       "    <tr>\n",
       "      <th>2801</th>\n",
       "      <td>473</td>\n",
       "      <td>Если мы им не скажем нет, то так и будет</td>\n",
       "      <td>False</td>\n",
       "    </tr>\n",
       "  </tbody>\n",
       "</table>\n",
       "</div>"
      ],
      "text/plain": [
       "      Unnamed: 0                                               text  blocked\n",
       "1915        2117                    Наказать всех этих плохих людей    False\n",
       "4051        2394  да его  надо садить что его отмаэывают адвокат...    False\n",
       "5486         449                      Зря что от сапогов отказалась    False\n",
       "6023        2944                                  А он не обнаглел?    False\n",
       "2801         473           Если мы им не скажем нет, то так и будет    False"
      ]
     },
     "metadata": {},
     "output_type": "display_data"
    },
    {
     "data": {
      "text/html": [
       "<div>\n",
       "<style scoped>\n",
       "    .dataframe tbody tr th:only-of-type {\n",
       "        vertical-align: middle;\n",
       "    }\n",
       "\n",
       "    .dataframe tbody tr th {\n",
       "        vertical-align: top;\n",
       "    }\n",
       "\n",
       "    .dataframe thead th {\n",
       "        text-align: right;\n",
       "    }\n",
       "</style>\n",
       "<table border=\"1\" class=\"dataframe\">\n",
       "  <thead>\n",
       "    <tr style=\"text-align: right;\">\n",
       "      <th></th>\n",
       "      <th>blocked</th>\n",
       "      <th>count</th>\n",
       "    </tr>\n",
       "  </thead>\n",
       "  <tbody>\n",
       "    <tr>\n",
       "      <th>0</th>\n",
       "      <td>False</td>\n",
       "      <td>4848</td>\n",
       "    </tr>\n",
       "    <tr>\n",
       "      <th>1</th>\n",
       "      <td>True</td>\n",
       "      <td>1506</td>\n",
       "    </tr>\n",
       "  </tbody>\n",
       "</table>\n",
       "</div>"
      ],
      "text/plain": [
       "   blocked  count\n",
       "0    False   4848\n",
       "1     True   1506"
      ]
     },
     "metadata": {},
     "output_type": "display_data"
    }
   ],
   "source": [
    "temp_df = temp_df.rename(columns={\"neutral\": \"text\", \"toxic\": \"blocked\"})\n",
    "display(temp_df.sample(5))\n",
    "display(temp_df.loc[:, temp_df.columns == \"blocked\"].value_counts().reset_index(name=\"count\"))"
   ]
  },
  {
   "cell_type": "markdown",
   "id": "ca112e18",
   "metadata": {},
   "source": [
    "### Обьединение с основным датасетом"
   ]
  },
  {
   "cell_type": "code",
   "execution_count": 5,
   "id": "5c714be1",
   "metadata": {},
   "outputs": [
    {
     "data": {
      "text/html": [
       "<div>\n",
       "<style scoped>\n",
       "    .dataframe tbody tr th:only-of-type {\n",
       "        vertical-align: middle;\n",
       "    }\n",
       "\n",
       "    .dataframe tbody tr th {\n",
       "        vertical-align: top;\n",
       "    }\n",
       "\n",
       "    .dataframe thead th {\n",
       "        text-align: right;\n",
       "    }\n",
       "</style>\n",
       "<table border=\"1\" class=\"dataframe\">\n",
       "  <thead>\n",
       "    <tr style=\"text-align: right;\">\n",
       "      <th></th>\n",
       "      <th>text</th>\n",
       "      <th>blocked</th>\n",
       "      <th>Unnamed: 0</th>\n",
       "    </tr>\n",
       "  </thead>\n",
       "  <tbody>\n",
       "    <tr>\n",
       "      <th>0</th>\n",
       "      <td>Надоели уже попрашайки классов сколько же тут ...</td>\n",
       "      <td>False</td>\n",
       "      <td>4518.0</td>\n",
       "    </tr>\n",
       "    <tr>\n",
       "      <th>1</th>\n",
       "      <td>Мне не нравяться женщины, которые готовы прода...</td>\n",
       "      <td>False</td>\n",
       "      <td>789.0</td>\n",
       "    </tr>\n",
       "    <tr>\n",
       "      <th>2</th>\n",
       "      <td>Эти люди ничего не могут, верхушек нахватали, ...</td>\n",
       "      <td>False</td>\n",
       "      <td>1490.0</td>\n",
       "    </tr>\n",
       "    <tr>\n",
       "      <th>3</th>\n",
       "      <td>Я то за свои слова отвечу, а вот ответишь ли т...</td>\n",
       "      <td>False</td>\n",
       "      <td>2938.0</td>\n",
       "    </tr>\n",
       "    <tr>\n",
       "      <th>4</th>\n",
       "      <td>Уничтожить их бы и всех остальных. Туда же и б...</td>\n",
       "      <td>True</td>\n",
       "      <td>1422.0</td>\n",
       "    </tr>\n",
       "  </tbody>\n",
       "</table>\n",
       "</div>"
      ],
      "text/plain": [
       "                                                text blocked  Unnamed: 0\n",
       "0  Надоели уже попрашайки классов сколько же тут ...   False      4518.0\n",
       "1  Мне не нравяться женщины, которые готовы прода...   False       789.0\n",
       "2  Эти люди ничего не могут, верхушек нахватали, ...   False      1490.0\n",
       "3  Я то за свои слова отвечу, а вот ответишь ли т...   False      2938.0\n",
       "4  Уничтожить их бы и всех остальных. Туда же и б...    True      1422.0"
      ]
     },
     "metadata": {},
     "output_type": "display_data"
    }
   ],
   "source": [
    "main_df = pd.concat([main_df, temp_df])\n",
    "display(main_df.head(5))"
   ]
  },
  {
   "cell_type": "markdown",
   "id": "fedb4df7",
   "metadata": {},
   "source": [
    "## marriamaslova/toxic_dvach"
   ]
  },
  {
   "cell_type": "markdown",
   "id": "d732fa6c",
   "metadata": {},
   "source": [
    "### Скачивание датасета"
   ]
  },
  {
   "cell_type": "code",
   "execution_count": 6,
   "id": "3b854871",
   "metadata": {},
   "outputs": [
    {
     "data": {
      "text/html": [
       "<div>\n",
       "<style scoped>\n",
       "    .dataframe tbody tr th:only-of-type {\n",
       "        vertical-align: middle;\n",
       "    }\n",
       "\n",
       "    .dataframe tbody tr th {\n",
       "        vertical-align: top;\n",
       "    }\n",
       "\n",
       "    .dataframe thead th {\n",
       "        text-align: right;\n",
       "    }\n",
       "</style>\n",
       "<table border=\"1\" class=\"dataframe\">\n",
       "  <thead>\n",
       "    <tr style=\"text-align: right;\">\n",
       "      <th></th>\n",
       "      <th>Unnamed: 0</th>\n",
       "      <th>comment</th>\n",
       "      <th>toxic</th>\n",
       "    </tr>\n",
       "  </thead>\n",
       "  <tbody>\n",
       "    <tr>\n",
       "      <th>0</th>\n",
       "      <td>13724</td>\n",
       "      <td>ну вот егор демонстрирует что женщина русского...</td>\n",
       "      <td>1.0</td>\n",
       "    </tr>\n",
       "    <tr>\n",
       "      <th>1</th>\n",
       "      <td>830</td>\n",
       "      <td>Хорошо. Но как-то... По-детски. Тебе сколько л...</td>\n",
       "      <td>0.0</td>\n",
       "    </tr>\n",
       "    <tr>\n",
       "      <th>2</th>\n",
       "      <td>5353</td>\n",
       "      <td>на сии философские вопросы я вряд ли смогу пол...</td>\n",
       "      <td>0.0</td>\n",
       "    </tr>\n",
       "    <tr>\n",
       "      <th>3</th>\n",
       "      <td>3551</td>\n",
       "      <td>Липецк. Не вижу смысла искать новых знакомых о...</td>\n",
       "      <td>0.0</td>\n",
       "    </tr>\n",
       "    <tr>\n",
       "      <th>4</th>\n",
       "      <td>4118</td>\n",
       "      <td>Я тоже работал на подобной машине. По 1500 мет...</td>\n",
       "      <td>0.0</td>\n",
       "    </tr>\n",
       "  </tbody>\n",
       "</table>\n",
       "</div>"
      ],
      "text/plain": [
       "   Unnamed: 0                                            comment  toxic\n",
       "0       13724  ну вот егор демонстрирует что женщина русского...    1.0\n",
       "1         830  Хорошо. Но как-то... По-детски. Тебе сколько л...    0.0\n",
       "2        5353  на сии философские вопросы я вряд ли смогу пол...    0.0\n",
       "3        3551  Липецк. Не вижу смысла искать новых знакомых о...    0.0\n",
       "4        4118  Я тоже работал на подобной машине. По 1500 мет...    0.0"
      ]
     },
     "execution_count": 6,
     "metadata": {},
     "output_type": "execute_result"
    }
   ],
   "source": [
    "from vk_mod.data import load_from_hugginface\n",
    "\n",
    "\n",
    "max_rows = 10000\n",
    "dataset_name = \"marriamaslova/toxic_dvach\"\n",
    "dataset_path = Path(raw_dir, dataset_name.split('/')[-1]).with_suffix(\".csv\")\n",
    "\n",
    "\n",
    "load_from_hugginface(dataset_name, dataset_path, max_rows=max_rows)\n",
    "temp_df = pd.read_csv(dataset_path)\n",
    "temp_df.head(5)"
   ]
  },
  {
   "cell_type": "markdown",
   "id": "bbe52583",
   "metadata": {},
   "source": [
    "### Приведение колонок у нужному виду"
   ]
  },
  {
   "cell_type": "code",
   "execution_count": 7,
   "id": "3465321b",
   "metadata": {},
   "outputs": [
    {
     "data": {
      "text/html": [
       "<div>\n",
       "<style scoped>\n",
       "    .dataframe tbody tr th:only-of-type {\n",
       "        vertical-align: middle;\n",
       "    }\n",
       "\n",
       "    .dataframe tbody tr th {\n",
       "        vertical-align: top;\n",
       "    }\n",
       "\n",
       "    .dataframe thead th {\n",
       "        text-align: right;\n",
       "    }\n",
       "</style>\n",
       "<table border=\"1\" class=\"dataframe\">\n",
       "  <thead>\n",
       "    <tr style=\"text-align: right;\">\n",
       "      <th></th>\n",
       "      <th>Unnamed: 0</th>\n",
       "      <th>text</th>\n",
       "      <th>blocked</th>\n",
       "    </tr>\n",
       "  </thead>\n",
       "  <tbody>\n",
       "    <tr>\n",
       "      <th>2437</th>\n",
       "      <td>13285</td>\n",
       "      <td>А вот с этого момента поподробнее.\\n</td>\n",
       "      <td>0.0</td>\n",
       "    </tr>\n",
       "    <tr>\n",
       "      <th>4865</th>\n",
       "      <td>11939</td>\n",
       "      <td>таки бесплатные,но не трудно переадресовать вы...</td>\n",
       "      <td>0.0</td>\n",
       "    </tr>\n",
       "    <tr>\n",
       "      <th>6175</th>\n",
       "      <td>5217</td>\n",
       "      <td>Не буду же я постоянно в регионы мотаться. Это...</td>\n",
       "      <td>0.0</td>\n",
       "    </tr>\n",
       "    <tr>\n",
       "      <th>2087</th>\n",
       "      <td>6005</td>\n",
       "      <td>Мало тут чубатых околачивается, теперь еще и о...</td>\n",
       "      <td>1.0</td>\n",
       "    </tr>\n",
       "    <tr>\n",
       "      <th>8883</th>\n",
       "      <td>6723</td>\n",
       "      <td>Крысы валят с корабля. На бал.\\n</td>\n",
       "      <td>1.0</td>\n",
       "    </tr>\n",
       "  </tbody>\n",
       "</table>\n",
       "</div>"
      ],
      "text/plain": [
       "      Unnamed: 0                                               text  blocked\n",
       "2437       13285               А вот с этого момента поподробнее.\\n      0.0\n",
       "4865       11939  таки бесплатные,но не трудно переадресовать вы...      0.0\n",
       "6175        5217  Не буду же я постоянно в регионы мотаться. Это...      0.0\n",
       "2087        6005  Мало тут чубатых околачивается, теперь еще и о...      1.0\n",
       "8883        6723                   Крысы валят с корабля. На бал.\\n      1.0"
      ]
     },
     "metadata": {},
     "output_type": "display_data"
    },
    {
     "data": {
      "text/html": [
       "<div>\n",
       "<style scoped>\n",
       "    .dataframe tbody tr th:only-of-type {\n",
       "        vertical-align: middle;\n",
       "    }\n",
       "\n",
       "    .dataframe tbody tr th {\n",
       "        vertical-align: top;\n",
       "    }\n",
       "\n",
       "    .dataframe thead th {\n",
       "        text-align: right;\n",
       "    }\n",
       "</style>\n",
       "<table border=\"1\" class=\"dataframe\">\n",
       "  <thead>\n",
       "    <tr style=\"text-align: right;\">\n",
       "      <th></th>\n",
       "      <th>blocked</th>\n",
       "      <th>count</th>\n",
       "    </tr>\n",
       "  </thead>\n",
       "  <tbody>\n",
       "    <tr>\n",
       "      <th>0</th>\n",
       "      <td>0.0</td>\n",
       "      <td>6674</td>\n",
       "    </tr>\n",
       "    <tr>\n",
       "      <th>1</th>\n",
       "      <td>1.0</td>\n",
       "      <td>3326</td>\n",
       "    </tr>\n",
       "  </tbody>\n",
       "</table>\n",
       "</div>"
      ],
      "text/plain": [
       "   blocked  count\n",
       "0      0.0   6674\n",
       "1      1.0   3326"
      ]
     },
     "metadata": {},
     "output_type": "display_data"
    }
   ],
   "source": [
    "temp_df = temp_df.rename(columns={\"comment\": \"text\", \"toxic\": \"blocked\"})\n",
    "display(temp_df.sample(5))\n",
    "display(temp_df.loc[:, temp_df.columns == \"blocked\"].value_counts().reset_index(name=\"count\"))"
   ]
  },
  {
   "cell_type": "markdown",
   "id": "94f47ccc",
   "metadata": {},
   "source": [
    "### Обьединение с основным датасетом"
   ]
  },
  {
   "cell_type": "code",
   "execution_count": 8,
   "id": "772d4373",
   "metadata": {},
   "outputs": [
    {
     "data": {
      "text/html": [
       "<div>\n",
       "<style scoped>\n",
       "    .dataframe tbody tr th:only-of-type {\n",
       "        vertical-align: middle;\n",
       "    }\n",
       "\n",
       "    .dataframe tbody tr th {\n",
       "        vertical-align: top;\n",
       "    }\n",
       "\n",
       "    .dataframe thead th {\n",
       "        text-align: right;\n",
       "    }\n",
       "</style>\n",
       "<table border=\"1\" class=\"dataframe\">\n",
       "  <thead>\n",
       "    <tr style=\"text-align: right;\">\n",
       "      <th></th>\n",
       "      <th>text</th>\n",
       "      <th>blocked</th>\n",
       "      <th>Unnamed: 0</th>\n",
       "    </tr>\n",
       "  </thead>\n",
       "  <tbody>\n",
       "    <tr>\n",
       "      <th>0</th>\n",
       "      <td>Надоели уже попрашайки классов сколько же тут ...</td>\n",
       "      <td>False</td>\n",
       "      <td>4518.0</td>\n",
       "    </tr>\n",
       "    <tr>\n",
       "      <th>1</th>\n",
       "      <td>Мне не нравяться женщины, которые готовы прода...</td>\n",
       "      <td>False</td>\n",
       "      <td>789.0</td>\n",
       "    </tr>\n",
       "    <tr>\n",
       "      <th>2</th>\n",
       "      <td>Эти люди ничего не могут, верхушек нахватали, ...</td>\n",
       "      <td>False</td>\n",
       "      <td>1490.0</td>\n",
       "    </tr>\n",
       "    <tr>\n",
       "      <th>3</th>\n",
       "      <td>Я то за свои слова отвечу, а вот ответишь ли т...</td>\n",
       "      <td>False</td>\n",
       "      <td>2938.0</td>\n",
       "    </tr>\n",
       "    <tr>\n",
       "      <th>4</th>\n",
       "      <td>Уничтожить их бы и всех остальных. Туда же и б...</td>\n",
       "      <td>True</td>\n",
       "      <td>1422.0</td>\n",
       "    </tr>\n",
       "  </tbody>\n",
       "</table>\n",
       "</div>"
      ],
      "text/plain": [
       "                                                text blocked  Unnamed: 0\n",
       "0  Надоели уже попрашайки классов сколько же тут ...   False      4518.0\n",
       "1  Мне не нравяться женщины, которые готовы прода...   False       789.0\n",
       "2  Эти люди ничего не могут, верхушек нахватали, ...   False      1490.0\n",
       "3  Я то за свои слова отвечу, а вот ответишь ли т...   False      2938.0\n",
       "4  Уничтожить их бы и всех остальных. Туда же и б...    True      1422.0"
      ]
     },
     "metadata": {},
     "output_type": "display_data"
    }
   ],
   "source": [
    "main_df = pd.concat([main_df, temp_df])\n",
    "display(main_df.head(5))"
   ]
  },
  {
   "cell_type": "markdown",
   "id": "ca30b7aa",
   "metadata": {},
   "source": [
    "## textdetox/multilingual_toxicity_dataset"
   ]
  },
  {
   "cell_type": "markdown",
   "id": "a96ce683",
   "metadata": {},
   "source": [
    "### Скачивание датасета"
   ]
  },
  {
   "cell_type": "code",
   "execution_count": 9,
   "id": "d4d99caa",
   "metadata": {},
   "outputs": [
    {
     "data": {
      "text/html": [
       "<div>\n",
       "<style scoped>\n",
       "    .dataframe tbody tr th:only-of-type {\n",
       "        vertical-align: middle;\n",
       "    }\n",
       "\n",
       "    .dataframe tbody tr th {\n",
       "        vertical-align: top;\n",
       "    }\n",
       "\n",
       "    .dataframe thead th {\n",
       "        text-align: right;\n",
       "    }\n",
       "</style>\n",
       "<table border=\"1\" class=\"dataframe\">\n",
       "  <thead>\n",
       "    <tr style=\"text-align: right;\">\n",
       "      <th></th>\n",
       "      <th>Unnamed: 0</th>\n",
       "      <th>text</th>\n",
       "      <th>toxic</th>\n",
       "    </tr>\n",
       "  </thead>\n",
       "  <tbody>\n",
       "    <tr>\n",
       "      <th>0</th>\n",
       "      <td>2995</td>\n",
       "      <td>а этот пидар себе богатого мужика походу нашел!!</td>\n",
       "      <td>1</td>\n",
       "    </tr>\n",
       "    <tr>\n",
       "      <th>1</th>\n",
       "      <td>1690</td>\n",
       "      <td>как соблюдаете, хранить в сухом месте по - нов...</td>\n",
       "      <td>0</td>\n",
       "    </tr>\n",
       "    <tr>\n",
       "      <th>2</th>\n",
       "      <td>347</td>\n",
       "      <td>одно воспоминание только осталось, хороший был...</td>\n",
       "      <td>0</td>\n",
       "    </tr>\n",
       "    <tr>\n",
       "      <th>3</th>\n",
       "      <td>3198</td>\n",
       "      <td>разве там советуют на жопу приматывать👎(sr)</td>\n",
       "      <td>1</td>\n",
       "    </tr>\n",
       "    <tr>\n",
       "      <th>4</th>\n",
       "      <td>78</td>\n",
       "      <td>о боже мой... о боже мой... не могу сдержать с...</td>\n",
       "      <td>0</td>\n",
       "    </tr>\n",
       "  </tbody>\n",
       "</table>\n",
       "</div>"
      ],
      "text/plain": [
       "   Unnamed: 0                                               text  toxic\n",
       "0        2995   а этот пидар себе богатого мужика походу нашел!!      1\n",
       "1        1690  как соблюдаете, хранить в сухом месте по - нов...      0\n",
       "2         347  одно воспоминание только осталось, хороший был...      0\n",
       "3        3198        разве там советуют на жопу приматывать👎(sr)      1\n",
       "4          78  о боже мой... о боже мой... не могу сдержать с...      0"
      ]
     },
     "execution_count": 9,
     "metadata": {},
     "output_type": "execute_result"
    }
   ],
   "source": [
    "from vk_mod.data import load_from_hugginface\n",
    "\n",
    "\n",
    "max_rows = 10000\n",
    "dataset_name = \"textdetox/multilingual_toxicity_dataset\"\n",
    "dataset_path = Path(raw_dir, dataset_name.split('/')[-1]).with_suffix(\".csv\")\n",
    "\n",
    "\n",
    "load_from_hugginface(dataset_name, dataset_path, split=\"ru\", max_rows=max_rows)\n",
    "temp_df = pd.read_csv(dataset_path)\n",
    "temp_df.head(5)"
   ]
  },
  {
   "cell_type": "markdown",
   "id": "e5b18e54",
   "metadata": {},
   "source": [
    "### Приведение колонок у нужному виду"
   ]
  },
  {
   "cell_type": "code",
   "execution_count": 10,
   "id": "024aead9",
   "metadata": {},
   "outputs": [
    {
     "data": {
      "text/html": [
       "<div>\n",
       "<style scoped>\n",
       "    .dataframe tbody tr th:only-of-type {\n",
       "        vertical-align: middle;\n",
       "    }\n",
       "\n",
       "    .dataframe tbody tr th {\n",
       "        vertical-align: top;\n",
       "    }\n",
       "\n",
       "    .dataframe thead th {\n",
       "        text-align: right;\n",
       "    }\n",
       "</style>\n",
       "<table border=\"1\" class=\"dataframe\">\n",
       "  <thead>\n",
       "    <tr style=\"text-align: right;\">\n",
       "      <th></th>\n",
       "      <th>Unnamed: 0</th>\n",
       "      <th>text</th>\n",
       "      <th>blocked</th>\n",
       "    </tr>\n",
       "  </thead>\n",
       "  <tbody>\n",
       "    <tr>\n",
       "      <th>4292</th>\n",
       "      <td>2169</td>\n",
       "      <td>дочки, сыночки, младшие сестрёнки и братишки.</td>\n",
       "      <td>0</td>\n",
       "    </tr>\n",
       "    <tr>\n",
       "      <th>2924</th>\n",
       "      <td>2991</td>\n",
       "      <td>вы суки жополизы вместе с горбачёвым и своей г...</td>\n",
       "      <td>1</td>\n",
       "    </tr>\n",
       "    <tr>\n",
       "      <th>314</th>\n",
       "      <td>4327</td>\n",
       "      <td>через неделю разойдетесь, терпилы чей крым бля...</td>\n",
       "      <td>1</td>\n",
       "    </tr>\n",
       "    <tr>\n",
       "      <th>487</th>\n",
       "      <td>1573</td>\n",
       "      <td>это - унижает и оскорбляет достоинство тех сме...</td>\n",
       "      <td>0</td>\n",
       "    </tr>\n",
       "    <tr>\n",
       "      <th>2063</th>\n",
       "      <td>2263</td>\n",
       "      <td>все будет хорошо потому что плохо надоело уже ...</td>\n",
       "      <td>0</td>\n",
       "    </tr>\n",
       "  </tbody>\n",
       "</table>\n",
       "</div>"
      ],
      "text/plain": [
       "      Unnamed: 0                                               text  blocked\n",
       "4292        2169      дочки, сыночки, младшие сестрёнки и братишки.        0\n",
       "2924        2991  вы суки жополизы вместе с горбачёвым и своей г...        1\n",
       "314         4327  через неделю разойдетесь, терпилы чей крым бля...        1\n",
       "487         1573  это - унижает и оскорбляет достоинство тех сме...        0\n",
       "2063        2263  все будет хорошо потому что плохо надоело уже ...        0"
      ]
     },
     "metadata": {},
     "output_type": "display_data"
    },
    {
     "data": {
      "text/html": [
       "<div>\n",
       "<style scoped>\n",
       "    .dataframe tbody tr th:only-of-type {\n",
       "        vertical-align: middle;\n",
       "    }\n",
       "\n",
       "    .dataframe tbody tr th {\n",
       "        vertical-align: top;\n",
       "    }\n",
       "\n",
       "    .dataframe thead th {\n",
       "        text-align: right;\n",
       "    }\n",
       "</style>\n",
       "<table border=\"1\" class=\"dataframe\">\n",
       "  <thead>\n",
       "    <tr style=\"text-align: right;\">\n",
       "      <th></th>\n",
       "      <th>blocked</th>\n",
       "      <th>count</th>\n",
       "    </tr>\n",
       "  </thead>\n",
       "  <tbody>\n",
       "    <tr>\n",
       "      <th>0</th>\n",
       "      <td>0</td>\n",
       "      <td>2500</td>\n",
       "    </tr>\n",
       "    <tr>\n",
       "      <th>1</th>\n",
       "      <td>1</td>\n",
       "      <td>2500</td>\n",
       "    </tr>\n",
       "  </tbody>\n",
       "</table>\n",
       "</div>"
      ],
      "text/plain": [
       "   blocked  count\n",
       "0        0   2500\n",
       "1        1   2500"
      ]
     },
     "metadata": {},
     "output_type": "display_data"
    }
   ],
   "source": [
    "temp_df = temp_df.rename(columns={\"toxic\": \"blocked\"})\n",
    "display(temp_df.sample(5))\n",
    "display(temp_df.loc[:, temp_df.columns == \"blocked\"].value_counts().reset_index(name=\"count\"))"
   ]
  },
  {
   "cell_type": "markdown",
   "id": "4aba7c72",
   "metadata": {},
   "source": [
    "### Обьединение с основным датасетом"
   ]
  },
  {
   "cell_type": "code",
   "execution_count": 11,
   "id": "6c590a86",
   "metadata": {},
   "outputs": [
    {
     "data": {
      "text/html": [
       "<div>\n",
       "<style scoped>\n",
       "    .dataframe tbody tr th:only-of-type {\n",
       "        vertical-align: middle;\n",
       "    }\n",
       "\n",
       "    .dataframe tbody tr th {\n",
       "        vertical-align: top;\n",
       "    }\n",
       "\n",
       "    .dataframe thead th {\n",
       "        text-align: right;\n",
       "    }\n",
       "</style>\n",
       "<table border=\"1\" class=\"dataframe\">\n",
       "  <thead>\n",
       "    <tr style=\"text-align: right;\">\n",
       "      <th></th>\n",
       "      <th>text</th>\n",
       "      <th>blocked</th>\n",
       "      <th>Unnamed: 0</th>\n",
       "    </tr>\n",
       "  </thead>\n",
       "  <tbody>\n",
       "    <tr>\n",
       "      <th>0</th>\n",
       "      <td>Надоели уже попрашайки классов сколько же тут ...</td>\n",
       "      <td>False</td>\n",
       "      <td>4518.0</td>\n",
       "    </tr>\n",
       "    <tr>\n",
       "      <th>1</th>\n",
       "      <td>Мне не нравяться женщины, которые готовы прода...</td>\n",
       "      <td>False</td>\n",
       "      <td>789.0</td>\n",
       "    </tr>\n",
       "    <tr>\n",
       "      <th>2</th>\n",
       "      <td>Эти люди ничего не могут, верхушек нахватали, ...</td>\n",
       "      <td>False</td>\n",
       "      <td>1490.0</td>\n",
       "    </tr>\n",
       "    <tr>\n",
       "      <th>3</th>\n",
       "      <td>Я то за свои слова отвечу, а вот ответишь ли т...</td>\n",
       "      <td>False</td>\n",
       "      <td>2938.0</td>\n",
       "    </tr>\n",
       "    <tr>\n",
       "      <th>4</th>\n",
       "      <td>Уничтожить их бы и всех остальных. Туда же и б...</td>\n",
       "      <td>True</td>\n",
       "      <td>1422.0</td>\n",
       "    </tr>\n",
       "  </tbody>\n",
       "</table>\n",
       "</div>"
      ],
      "text/plain": [
       "                                                text blocked  Unnamed: 0\n",
       "0  Надоели уже попрашайки классов сколько же тут ...   False      4518.0\n",
       "1  Мне не нравяться женщины, которые готовы прода...   False       789.0\n",
       "2  Эти люди ничего не могут, верхушек нахватали, ...   False      1490.0\n",
       "3  Я то за свои слова отвечу, а вот ответишь ли т...   False      2938.0\n",
       "4  Уничтожить их бы и всех остальных. Туда же и б...    True      1422.0"
      ]
     },
     "metadata": {},
     "output_type": "display_data"
    }
   ],
   "source": [
    "main_df = pd.concat([main_df, temp_df])\n",
    "display(main_df.head(5))"
   ]
  },
  {
   "cell_type": "markdown",
   "id": "4e26e6ff",
   "metadata": {},
   "source": [
    "## AlexSham/Toxic_Russian_Comments"
   ]
  },
  {
   "cell_type": "markdown",
   "id": "e413aa10",
   "metadata": {},
   "source": [
    "### Скачивание датасета"
   ]
  },
  {
   "cell_type": "code",
   "execution_count": 12,
   "id": "21cb3068",
   "metadata": {},
   "outputs": [
    {
     "data": {
      "text/html": [
       "<div>\n",
       "<style scoped>\n",
       "    .dataframe tbody tr th:only-of-type {\n",
       "        vertical-align: middle;\n",
       "    }\n",
       "\n",
       "    .dataframe tbody tr th {\n",
       "        vertical-align: top;\n",
       "    }\n",
       "\n",
       "    .dataframe thead th {\n",
       "        text-align: right;\n",
       "    }\n",
       "</style>\n",
       "<table border=\"1\" class=\"dataframe\">\n",
       "  <thead>\n",
       "    <tr style=\"text-align: right;\">\n",
       "      <th></th>\n",
       "      <th>Unnamed: 0</th>\n",
       "      <th>text</th>\n",
       "      <th>label</th>\n",
       "    </tr>\n",
       "  </thead>\n",
       "  <tbody>\n",
       "    <tr>\n",
       "      <th>0</th>\n",
       "      <td>131643</td>\n",
       "      <td>не перевелись еще сыны земли русской ! низкий ...</td>\n",
       "      <td>0</td>\n",
       "    </tr>\n",
       "    <tr>\n",
       "      <th>1</th>\n",
       "      <td>70304</td>\n",
       "      <td>всего по чуть чуть... не поместились</td>\n",
       "      <td>0</td>\n",
       "    </tr>\n",
       "    <tr>\n",
       "      <th>2</th>\n",
       "      <td>47743</td>\n",
       "      <td>а ушки не болят у собачки после ныряния?</td>\n",
       "      <td>0</td>\n",
       "    </tr>\n",
       "    <tr>\n",
       "      <th>3</th>\n",
       "      <td>107870</td>\n",
       "      <td>что то есть там присылать</td>\n",
       "      <td>0</td>\n",
       "    </tr>\n",
       "    <tr>\n",
       "      <th>4</th>\n",
       "      <td>221262</td>\n",
       "      <td>устал позировать</td>\n",
       "      <td>0</td>\n",
       "    </tr>\n",
       "  </tbody>\n",
       "</table>\n",
       "</div>"
      ],
      "text/plain": [
       "   Unnamed: 0                                               text  label\n",
       "0      131643  не перевелись еще сыны земли русской ! низкий ...      0\n",
       "1       70304               всего по чуть чуть... не поместились      0\n",
       "2       47743           а ушки не болят у собачки после ныряния?      0\n",
       "3      107870                          что то есть там присылать      0\n",
       "4      221262                                   устал позировать      0"
      ]
     },
     "execution_count": 12,
     "metadata": {},
     "output_type": "execute_result"
    }
   ],
   "source": [
    "from vk_mod.data import load_from_hugginface\n",
    "\n",
    "\n",
    "max_rows = 10000\n",
    "dataset_name = \"AlexSham/Toxic_Russian_Comments\"\n",
    "dataset_path = Path(raw_dir, dataset_name.split('/')[-1]).with_suffix(\".csv\")\n",
    "\n",
    "\n",
    "load_from_hugginface(dataset_name, dataset_path, max_rows=max_rows)\n",
    "temp_df = pd.read_csv(dataset_path)\n",
    "temp_df.head(5)"
   ]
  },
  {
   "cell_type": "markdown",
   "id": "d12efecd",
   "metadata": {},
   "source": [
    "### Приведение колонок у нужному виду"
   ]
  },
  {
   "cell_type": "code",
   "execution_count": 13,
   "id": "107d0a8e",
   "metadata": {},
   "outputs": [
    {
     "data": {
      "text/html": [
       "<div>\n",
       "<style scoped>\n",
       "    .dataframe tbody tr th:only-of-type {\n",
       "        vertical-align: middle;\n",
       "    }\n",
       "\n",
       "    .dataframe tbody tr th {\n",
       "        vertical-align: top;\n",
       "    }\n",
       "\n",
       "    .dataframe thead th {\n",
       "        text-align: right;\n",
       "    }\n",
       "</style>\n",
       "<table border=\"1\" class=\"dataframe\">\n",
       "  <thead>\n",
       "    <tr style=\"text-align: right;\">\n",
       "      <th></th>\n",
       "      <th>Unnamed: 0</th>\n",
       "      <th>text</th>\n",
       "      <th>blocked</th>\n",
       "    </tr>\n",
       "  </thead>\n",
       "  <tbody>\n",
       "    <tr>\n",
       "      <th>5024</th>\n",
       "      <td>123496</td>\n",
       "      <td>а фото разве не прошлогоднее ?)</td>\n",
       "      <td>0</td>\n",
       "    </tr>\n",
       "    <tr>\n",
       "      <th>4747</th>\n",
       "      <td>171601</td>\n",
       "      <td>я твой</td>\n",
       "      <td>0</td>\n",
       "    </tr>\n",
       "    <tr>\n",
       "      <th>2136</th>\n",
       "      <td>87950</td>\n",
       "      <td>дебил капец стыдно что такие люди есть в полиц...</td>\n",
       "      <td>1</td>\n",
       "    </tr>\n",
       "    <tr>\n",
       "      <th>5661</th>\n",
       "      <td>62822</td>\n",
       "      <td>что заскучвл?</td>\n",
       "      <td>0</td>\n",
       "    </tr>\n",
       "    <tr>\n",
       "      <th>554</th>\n",
       "      <td>222543</td>\n",
       "      <td>ну когда у вас дом взорвется, вам тоже помогут...</td>\n",
       "      <td>0</td>\n",
       "    </tr>\n",
       "  </tbody>\n",
       "</table>\n",
       "</div>"
      ],
      "text/plain": [
       "      Unnamed: 0                                               text  blocked\n",
       "5024      123496                    а фото разве не прошлогоднее ?)        0\n",
       "4747      171601                                             я твой        0\n",
       "2136       87950  дебил капец стыдно что такие люди есть в полиц...        1\n",
       "5661       62822                                      что заскучвл?        0\n",
       "554       222543  ну когда у вас дом взорвется, вам тоже помогут...        0"
      ]
     },
     "metadata": {},
     "output_type": "display_data"
    },
    {
     "data": {
      "text/html": [
       "<div>\n",
       "<style scoped>\n",
       "    .dataframe tbody tr th:only-of-type {\n",
       "        vertical-align: middle;\n",
       "    }\n",
       "\n",
       "    .dataframe tbody tr th {\n",
       "        vertical-align: top;\n",
       "    }\n",
       "\n",
       "    .dataframe thead th {\n",
       "        text-align: right;\n",
       "    }\n",
       "</style>\n",
       "<table border=\"1\" class=\"dataframe\">\n",
       "  <thead>\n",
       "    <tr style=\"text-align: right;\">\n",
       "      <th></th>\n",
       "      <th>blocked</th>\n",
       "      <th>count</th>\n",
       "    </tr>\n",
       "  </thead>\n",
       "  <tbody>\n",
       "    <tr>\n",
       "      <th>0</th>\n",
       "      <td>0</td>\n",
       "      <td>8193</td>\n",
       "    </tr>\n",
       "    <tr>\n",
       "      <th>1</th>\n",
       "      <td>1</td>\n",
       "      <td>1807</td>\n",
       "    </tr>\n",
       "  </tbody>\n",
       "</table>\n",
       "</div>"
      ],
      "text/plain": [
       "   blocked  count\n",
       "0        0   8193\n",
       "1        1   1807"
      ]
     },
     "metadata": {},
     "output_type": "display_data"
    }
   ],
   "source": [
    "temp_df = temp_df.rename(columns={\"label\": \"blocked\"})\n",
    "display(temp_df.sample(5))\n",
    "display(temp_df.loc[:, temp_df.columns == \"blocked\"].value_counts().reset_index(name=\"count\"))"
   ]
  },
  {
   "cell_type": "markdown",
   "id": "db637ace",
   "metadata": {},
   "source": [
    "### Обьединение с основным датасетом"
   ]
  },
  {
   "cell_type": "code",
   "execution_count": 14,
   "id": "56572958",
   "metadata": {},
   "outputs": [
    {
     "data": {
      "text/html": [
       "<div>\n",
       "<style scoped>\n",
       "    .dataframe tbody tr th:only-of-type {\n",
       "        vertical-align: middle;\n",
       "    }\n",
       "\n",
       "    .dataframe tbody tr th {\n",
       "        vertical-align: top;\n",
       "    }\n",
       "\n",
       "    .dataframe thead th {\n",
       "        text-align: right;\n",
       "    }\n",
       "</style>\n",
       "<table border=\"1\" class=\"dataframe\">\n",
       "  <thead>\n",
       "    <tr style=\"text-align: right;\">\n",
       "      <th></th>\n",
       "      <th>text</th>\n",
       "      <th>blocked</th>\n",
       "      <th>Unnamed: 0</th>\n",
       "    </tr>\n",
       "  </thead>\n",
       "  <tbody>\n",
       "    <tr>\n",
       "      <th>0</th>\n",
       "      <td>Надоели уже попрашайки классов сколько же тут ...</td>\n",
       "      <td>False</td>\n",
       "      <td>4518.0</td>\n",
       "    </tr>\n",
       "    <tr>\n",
       "      <th>1</th>\n",
       "      <td>Мне не нравяться женщины, которые готовы прода...</td>\n",
       "      <td>False</td>\n",
       "      <td>789.0</td>\n",
       "    </tr>\n",
       "    <tr>\n",
       "      <th>2</th>\n",
       "      <td>Эти люди ничего не могут, верхушек нахватали, ...</td>\n",
       "      <td>False</td>\n",
       "      <td>1490.0</td>\n",
       "    </tr>\n",
       "    <tr>\n",
       "      <th>3</th>\n",
       "      <td>Я то за свои слова отвечу, а вот ответишь ли т...</td>\n",
       "      <td>False</td>\n",
       "      <td>2938.0</td>\n",
       "    </tr>\n",
       "    <tr>\n",
       "      <th>4</th>\n",
       "      <td>Уничтожить их бы и всех остальных. Туда же и б...</td>\n",
       "      <td>True</td>\n",
       "      <td>1422.0</td>\n",
       "    </tr>\n",
       "  </tbody>\n",
       "</table>\n",
       "</div>"
      ],
      "text/plain": [
       "                                                text blocked  Unnamed: 0\n",
       "0  Надоели уже попрашайки классов сколько же тут ...   False      4518.0\n",
       "1  Мне не нравяться женщины, которые готовы прода...   False       789.0\n",
       "2  Эти люди ничего не могут, верхушек нахватали, ...   False      1490.0\n",
       "3  Я то за свои слова отвечу, а вот ответишь ли т...   False      2938.0\n",
       "4  Уничтожить их бы и всех остальных. Туда же и б...    True      1422.0"
      ]
     },
     "metadata": {},
     "output_type": "display_data"
    }
   ],
   "source": [
    "main_df = pd.concat([main_df, temp_df])\n",
    "display(main_df.head(5))"
   ]
  },
  {
   "cell_type": "markdown",
   "id": "56d40874",
   "metadata": {},
   "source": [
    "# Очитка"
   ]
  },
  {
   "cell_type": "code",
   "execution_count": 15,
   "id": "e9271e69",
   "metadata": {},
   "outputs": [
    {
     "data": {
      "text/html": [
       "<div>\n",
       "<style scoped>\n",
       "    .dataframe tbody tr th:only-of-type {\n",
       "        vertical-align: middle;\n",
       "    }\n",
       "\n",
       "    .dataframe tbody tr th {\n",
       "        vertical-align: top;\n",
       "    }\n",
       "\n",
       "    .dataframe thead th {\n",
       "        text-align: right;\n",
       "    }\n",
       "</style>\n",
       "<table border=\"1\" class=\"dataframe\">\n",
       "  <thead>\n",
       "    <tr style=\"text-align: right;\">\n",
       "      <th></th>\n",
       "      <th>blocked</th>\n",
       "      <th>count</th>\n",
       "    </tr>\n",
       "  </thead>\n",
       "  <tbody>\n",
       "    <tr>\n",
       "      <th>0</th>\n",
       "      <td>0</td>\n",
       "      <td>22087</td>\n",
       "    </tr>\n",
       "    <tr>\n",
       "      <th>1</th>\n",
       "      <td>1</td>\n",
       "      <td>9071</td>\n",
       "    </tr>\n",
       "  </tbody>\n",
       "</table>\n",
       "</div>"
      ],
      "text/plain": [
       "   blocked  count\n",
       "0        0  22087\n",
       "1        1   9071"
      ]
     },
     "metadata": {},
     "output_type": "display_data"
    },
    {
     "name": "stdout",
     "output_type": "stream",
     "text": [
      "(31158, 2)\n"
     ]
    }
   ],
   "source": [
    "main_df = (main_df\n",
    "           .drop(\"Unnamed: 0\", axis=1, errors=\"ignore\")\n",
    "           .drop_duplicates()\n",
    "           .dropna(subset=[\"text\", \"blocked\"]))\n",
    "main_df['blocked'] = main_df['blocked'].astype(int)\n",
    "\n",
    "display(main_df.loc[:, main_df.columns == \"blocked\"].value_counts().reset_index(name=\"count\"))\n",
    "print(main_df.shape)"
   ]
  },
  {
   "cell_type": "markdown",
   "id": "4b0d2b46",
   "metadata": {},
   "source": [
    "# Сохранение"
   ]
  },
  {
   "cell_type": "code",
   "execution_count": 16,
   "id": "20bd8952",
   "metadata": {},
   "outputs": [],
   "source": [
    "preprocessed_path.parent.mkdir(exist_ok=True)\n",
    "main_df.to_csv(preprocessed_path, index=False)"
   ]
  }
 ],
 "metadata": {
  "kernelspec": {
   "display_name": ".venv",
   "language": "python",
   "name": "python3"
  },
  "language_info": {
   "codemirror_mode": {
    "name": "ipython",
    "version": 3
   },
   "file_extension": ".py",
   "mimetype": "text/x-python",
   "name": "python",
   "nbconvert_exporter": "python",
   "pygments_lexer": "ipython3",
   "version": "3.10.6"
  }
 },
 "nbformat": 4,
 "nbformat_minor": 5
}
