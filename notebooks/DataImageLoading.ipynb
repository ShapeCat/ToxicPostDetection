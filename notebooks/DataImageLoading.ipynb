{
 "cells": [
  {
   "cell_type": "markdown",
   "id": "21fff728",
   "metadata": {},
   "source": [
    "# Первичная настройка"
   ]
  },
  {
   "cell_type": "markdown",
   "id": "a4a7c893",
   "metadata": {},
   "source": [
    "## Настройка путей"
   ]
  },
  {
   "cell_type": "code",
   "execution_count": 4,
   "id": "1e78df1b",
   "metadata": {},
   "outputs": [],
   "source": [
    "from pathlib import Path\n",
    "\n",
    "\n",
    "raw_dir = Path(\"../data/raw\")\n",
    "images_dir = Path('../data/images')\n",
    "preprocessed_path = Path(\"../data/preprocessed/image_only.csv\")"
   ]
  },
  {
   "cell_type": "markdown",
   "id": "0246f6cd",
   "metadata": {},
   "source": [
    "## Проверка существования"
   ]
  },
  {
   "cell_type": "code",
   "execution_count": 5,
   "id": "39b42079",
   "metadata": {},
   "outputs": [],
   "source": [
    "import pandas as pd\n",
    "\n",
    "\n",
    "if not preprocessed_path.exists():\n",
    "    main_df = pd.DataFrame(columns=[\"image_name\", \"blocked\"])\n",
    "else: \n",
    "    main_df = pd.read_csv(preprocessed_path)\n",
    "images_dir.mkdir(exist_ok=True)"
   ]
  },
  {
   "cell_type": "markdown",
   "id": "a89b310c",
   "metadata": {},
   "source": [
    "# Загрузка данных"
   ]
  },
  {
   "cell_type": "markdown",
   "id": "e182edfc",
   "metadata": {},
   "source": [
    "## hearmeneigh/e621-rising-v3-small"
   ]
  },
  {
   "cell_type": "markdown",
   "id": "d56812d1",
   "metadata": {},
   "source": [
    "### Скачивание датасета"
   ]
  },
  {
   "cell_type": "code",
   "execution_count": 6,
   "id": "c6195133",
   "metadata": {},
   "outputs": [
    {
     "data": {
      "application/vnd.jupyter.widget-view+json": {
       "model_id": "f108fa84b3d044c6a3266bfd240f9b56",
       "version_major": 2,
       "version_minor": 0
      },
      "text/plain": [
       "Resolving data files:   0%|          | 0/54 [00:00<?, ?it/s]"
      ]
     },
     "metadata": {},
     "output_type": "display_data"
    },
    {
     "data": {
      "application/vnd.jupyter.widget-view+json": {
       "model_id": "55c12e3a1f4e486793f3747e236cc9b5",
       "version_major": 2,
       "version_minor": 0
      },
      "text/plain": [
       "Resolving data files:   0%|          | 0/54 [00:00<?, ?it/s]"
      ]
     },
     "metadata": {},
     "output_type": "display_data"
    },
    {
     "name": "stderr",
     "output_type": "stream",
     "text": [
      "Сохранение записей:   2%|▏         | 500/30000 [00:51<51:03,  9.63row/s]\n",
      "Сохранение записей: 100%|██████████| 30000/30000 [10:13<00:00, 48.92row/s]\n"
     ]
    },
    {
     "data": {
      "text/html": [
       "<div>\n",
       "<style scoped>\n",
       "    .dataframe tbody tr th:only-of-type {\n",
       "        vertical-align: middle;\n",
       "    }\n",
       "\n",
       "    .dataframe tbody tr th {\n",
       "        vertical-align: top;\n",
       "    }\n",
       "\n",
       "    .dataframe thead th {\n",
       "        text-align: right;\n",
       "    }\n",
       "</style>\n",
       "<table border=\"1\" class=\"dataframe\">\n",
       "  <thead>\n",
       "    <tr style=\"text-align: right;\">\n",
       "      <th></th>\n",
       "      <th>source_id</th>\n",
       "      <th>source</th>\n",
       "      <th>image</th>\n",
       "      <th>tags</th>\n",
       "      <th>url</th>\n",
       "      <th>text</th>\n",
       "      <th>selector</th>\n",
       "    </tr>\n",
       "  </thead>\n",
       "  <tbody>\n",
       "    <tr>\n",
       "      <th>0</th>\n",
       "      <td>3724100</td>\n",
       "      <td>e621</td>\n",
       "      <td>&lt;PIL.JpegImagePlugin.JpegImageFile image mode=...</td>\n",
       "      <td>['nude', 'erection', 'mismatched_animal_penis'...</td>\n",
       "      <td>https://static1.e621.net/data/9b/9b/9b9b3a2a14...</td>\n",
       "      <td>nude erection mismatched_animal_penis digital_...</td>\n",
       "      <td>tier-1</td>\n",
       "    </tr>\n",
       "    <tr>\n",
       "      <th>1</th>\n",
       "      <td>2323551</td>\n",
       "      <td>e621</td>\n",
       "      <td>&lt;PIL.JpegImagePlugin.JpegImageFile image mode=...</td>\n",
       "      <td>['brown_fur', 'mammal_humanoid', 'midriff', 't...</td>\n",
       "      <td>https://static1.e621.net/data/b6/73/b673f9bd71...</td>\n",
       "      <td>brown_fur mammal_humanoid midriff topwear solo...</td>\n",
       "      <td>tier-2</td>\n",
       "    </tr>\n",
       "    <tr>\n",
       "      <th>2</th>\n",
       "      <td>3858728</td>\n",
       "      <td>e621</td>\n",
       "      <td>&lt;PIL.JpegImagePlugin.JpegImageFile image mode=...</td>\n",
       "      <td>['favorites_below_1000', 'anthro', 'solo', 'wh...</td>\n",
       "      <td>https://static1.e621.net/data/4c/a6/4ca60e5ac9...</td>\n",
       "      <td>favorites_below_1000 anthro solo white_backgro...</td>\n",
       "      <td>tier-3</td>\n",
       "    </tr>\n",
       "    <tr>\n",
       "      <th>3</th>\n",
       "      <td>3972702</td>\n",
       "      <td>e621</td>\n",
       "      <td>&lt;PIL.JpegImagePlugin.JpegImageFile image mode=...</td>\n",
       "      <td>['open_mouth', 'eyebrows', 'white_body', 'favo...</td>\n",
       "      <td>https://static1.e621.net/data/93/98/9398b7dfb4...</td>\n",
       "      <td>open_mouth eyebrows white_body favorites_above...</td>\n",
       "      <td>tier-2</td>\n",
       "    </tr>\n",
       "    <tr>\n",
       "      <th>4</th>\n",
       "      <td>2535548</td>\n",
       "      <td>e621</td>\n",
       "      <td>&lt;PIL.JpegImagePlugin.JpegImageFile image mode=...</td>\n",
       "      <td>['restraints', 'tail', 'shackles', 'chair', 's...</td>\n",
       "      <td>https://static1.e621.net/data/9e/14/9e1452967b...</td>\n",
       "      <td>restraints tail shackles chair score_above_500...</td>\n",
       "      <td>tier-1</td>\n",
       "    </tr>\n",
       "  </tbody>\n",
       "</table>\n",
       "</div>"
      ],
      "text/plain": [
       "   source_id source                                              image  \\\n",
       "0    3724100   e621  <PIL.JpegImagePlugin.JpegImageFile image mode=...   \n",
       "1    2323551   e621  <PIL.JpegImagePlugin.JpegImageFile image mode=...   \n",
       "2    3858728   e621  <PIL.JpegImagePlugin.JpegImageFile image mode=...   \n",
       "3    3972702   e621  <PIL.JpegImagePlugin.JpegImageFile image mode=...   \n",
       "4    2535548   e621  <PIL.JpegImagePlugin.JpegImageFile image mode=...   \n",
       "\n",
       "                                                tags  \\\n",
       "0  ['nude', 'erection', 'mismatched_animal_penis'...   \n",
       "1  ['brown_fur', 'mammal_humanoid', 'midriff', 't...   \n",
       "2  ['favorites_below_1000', 'anthro', 'solo', 'wh...   \n",
       "3  ['open_mouth', 'eyebrows', 'white_body', 'favo...   \n",
       "4  ['restraints', 'tail', 'shackles', 'chair', 's...   \n",
       "\n",
       "                                                 url  \\\n",
       "0  https://static1.e621.net/data/9b/9b/9b9b3a2a14...   \n",
       "1  https://static1.e621.net/data/b6/73/b673f9bd71...   \n",
       "2  https://static1.e621.net/data/4c/a6/4ca60e5ac9...   \n",
       "3  https://static1.e621.net/data/93/98/9398b7dfb4...   \n",
       "4  https://static1.e621.net/data/9e/14/9e1452967b...   \n",
       "\n",
       "                                                text selector  \n",
       "0  nude erection mismatched_animal_penis digital_...   tier-1  \n",
       "1  brown_fur mammal_humanoid midriff topwear solo...   tier-2  \n",
       "2  favorites_below_1000 anthro solo white_backgro...   tier-3  \n",
       "3  open_mouth eyebrows white_body favorites_above...   tier-2  \n",
       "4  restraints tail shackles chair score_above_500...   tier-1  "
      ]
     },
     "execution_count": 6,
     "metadata": {},
     "output_type": "execute_result"
    }
   ],
   "source": [
    "import csv\n",
    "from tqdm import tqdm\n",
    "from datasets import load_dataset\n",
    "\n",
    "\n",
    "max_rows = 30000\n",
    "dataset_name = \"hearmeneigh/e621-rising-v3-curated\"\n",
    "dataset_path = Path(raw_dir, dataset_name.split('/')[-1]).with_suffix(\".csv\")\n",
    "\n",
    "\n",
    "dataset = load_dataset(dataset_name, split=\"train\", streaming=True)\n",
    "with open(dataset_path, \"w\", encoding=\"utf-8\", newline=\"\") as f:\n",
    "    writer = None\n",
    "    progress = tqdm(total=max_rows, desc=\"Сохранение записей\", unit=\"row\")\n",
    "    for i, example in enumerate(dataset):\n",
    "        if i >= max_rows:\n",
    "            break\n",
    "        if writer is None:\n",
    "            fieldnames = list(example.keys())\n",
    "            writer = csv.DictWriter(f, fieldnames=fieldnames)\n",
    "            writer.writeheader()\n",
    "        \n",
    "        writer.writerow(example)\n",
    "        progress.update(1)\n",
    "    progress.close()\n",
    "\n",
    "temp_df = pd.read_csv(\"../data/raw/e621-rising-v3-curated.csv\")\n",
    "temp_df.head(5)"
   ]
  },
  {
   "cell_type": "markdown",
   "id": "785ff0e9",
   "metadata": {},
   "source": [
    "### Загрузка изображений"
   ]
  },
  {
   "cell_type": "code",
   "execution_count": 7,
   "id": "4996cbfa",
   "metadata": {},
   "outputs": [
    {
     "name": "stderr",
     "output_type": "stream",
     "text": [
      "  8%|▊         | 2539/30000 [1:47:45<21:15:24,  2.79s/it]c:\\Users\\ShapeCat\\source\\repos\\ToxicPostDetection\\.venv\\lib\\site-packages\\PIL\\Image.py:1043: UserWarning: Palette images with Transparency expressed in bytes should be converted to RGBA images\n",
      "  warnings.warn(\n",
      "100%|██████████| 30000/30000 [21:45:33<00:00,  2.61s/it]   \n"
     ]
    },
    {
     "data": {
      "text/html": [
       "<div>\n",
       "<style scoped>\n",
       "    .dataframe tbody tr th:only-of-type {\n",
       "        vertical-align: middle;\n",
       "    }\n",
       "\n",
       "    .dataframe tbody tr th {\n",
       "        vertical-align: top;\n",
       "    }\n",
       "\n",
       "    .dataframe thead th {\n",
       "        text-align: right;\n",
       "    }\n",
       "</style>\n",
       "<table border=\"1\" class=\"dataframe\">\n",
       "  <thead>\n",
       "    <tr style=\"text-align: right;\">\n",
       "      <th></th>\n",
       "      <th>image_name</th>\n",
       "      <th>blocked</th>\n",
       "    </tr>\n",
       "  </thead>\n",
       "  <tbody>\n",
       "    <tr>\n",
       "      <th>3541</th>\n",
       "      <td>e621_3732.png</td>\n",
       "      <td>1</td>\n",
       "    </tr>\n",
       "    <tr>\n",
       "      <th>19575</th>\n",
       "      <td>e621_20654.png</td>\n",
       "      <td>1</td>\n",
       "    </tr>\n",
       "    <tr>\n",
       "      <th>6821</th>\n",
       "      <td>e621_7195.png</td>\n",
       "      <td>1</td>\n",
       "    </tr>\n",
       "    <tr>\n",
       "      <th>12558</th>\n",
       "      <td>e621_13243.png</td>\n",
       "      <td>1</td>\n",
       "    </tr>\n",
       "    <tr>\n",
       "      <th>12540</th>\n",
       "      <td>e621_13225.png</td>\n",
       "      <td>1</td>\n",
       "    </tr>\n",
       "  </tbody>\n",
       "</table>\n",
       "</div>"
      ],
      "text/plain": [
       "           image_name  blocked\n",
       "3541    e621_3732.png        1\n",
       "19575  e621_20654.png        1\n",
       "6821    e621_7195.png        1\n",
       "12558  e621_13243.png        1\n",
       "12540  e621_13225.png        1"
      ]
     },
     "metadata": {},
     "output_type": "display_data"
    },
    {
     "data": {
      "text/html": [
       "<div>\n",
       "<style scoped>\n",
       "    .dataframe tbody tr th:only-of-type {\n",
       "        vertical-align: middle;\n",
       "    }\n",
       "\n",
       "    .dataframe tbody tr th {\n",
       "        vertical-align: top;\n",
       "    }\n",
       "\n",
       "    .dataframe thead th {\n",
       "        text-align: right;\n",
       "    }\n",
       "</style>\n",
       "<table border=\"1\" class=\"dataframe\">\n",
       "  <thead>\n",
       "    <tr style=\"text-align: right;\">\n",
       "      <th></th>\n",
       "      <th>blocked</th>\n",
       "      <th>count</th>\n",
       "    </tr>\n",
       "  </thead>\n",
       "  <tbody>\n",
       "    <tr>\n",
       "      <th>0</th>\n",
       "      <td>1</td>\n",
       "      <td>22727</td>\n",
       "    </tr>\n",
       "    <tr>\n",
       "      <th>1</th>\n",
       "      <td>0</td>\n",
       "      <td>5716</td>\n",
       "    </tr>\n",
       "  </tbody>\n",
       "</table>\n",
       "</div>"
      ],
      "text/plain": [
       "   blocked  count\n",
       "0        1  22727\n",
       "1        0   5716"
      ]
     },
     "metadata": {},
     "output_type": "display_data"
    }
   ],
   "source": [
    "from vk_mod.data import download_image\n",
    "from tqdm import tqdm\n",
    "\n",
    "\n",
    "processed_data = []\n",
    "\n",
    "for index, row in tqdm(temp_df[:max_rows].iterrows(), total=max_rows):\n",
    "    is_explicit = 1 if \"rating_explicit\" in row['tags'] else 0\n",
    "    try:\n",
    "        filename = f\"e621_{index}.png\"\n",
    "        file_path = Path(images_dir, filename)\n",
    "        download_image(row[\"url\"], file_path)    \n",
    "        processed_data.append({\n",
    "            'image_name': filename,\n",
    "            'blocked': is_explicit\n",
    "        })\n",
    "    except Exception as e:\n",
    "        pass\n",
    "\n",
    "temp_df = pd.DataFrame(processed_data)\n",
    "display(temp_df.sample(5))\n",
    "display(temp_df.loc[:, temp_df.columns == \"blocked\"].value_counts().reset_index(name=\"count\"))"
   ]
  },
  {
   "cell_type": "markdown",
   "id": "3f7da392",
   "metadata": {},
   "source": [
    "### Обьединение с основным датасетом"
   ]
  },
  {
   "cell_type": "code",
   "execution_count": 17,
   "id": "bddf2918",
   "metadata": {},
   "outputs": [
    {
     "data": {
      "text/html": [
       "<div>\n",
       "<style scoped>\n",
       "    .dataframe tbody tr th:only-of-type {\n",
       "        vertical-align: middle;\n",
       "    }\n",
       "\n",
       "    .dataframe tbody tr th {\n",
       "        vertical-align: top;\n",
       "    }\n",
       "\n",
       "    .dataframe thead th {\n",
       "        text-align: right;\n",
       "    }\n",
       "</style>\n",
       "<table border=\"1\" class=\"dataframe\">\n",
       "  <thead>\n",
       "    <tr style=\"text-align: right;\">\n",
       "      <th></th>\n",
       "      <th>image_name</th>\n",
       "      <th>blocked</th>\n",
       "    </tr>\n",
       "  </thead>\n",
       "  <tbody>\n",
       "    <tr>\n",
       "      <th>0</th>\n",
       "      <td>e621_0.png</td>\n",
       "      <td>1</td>\n",
       "    </tr>\n",
       "    <tr>\n",
       "      <th>1</th>\n",
       "      <td>e621_1.png</td>\n",
       "      <td>1</td>\n",
       "    </tr>\n",
       "    <tr>\n",
       "      <th>2</th>\n",
       "      <td>e621_2.png</td>\n",
       "      <td>1</td>\n",
       "    </tr>\n",
       "    <tr>\n",
       "      <th>3</th>\n",
       "      <td>e621_3.png</td>\n",
       "      <td>0</td>\n",
       "    </tr>\n",
       "    <tr>\n",
       "      <th>4</th>\n",
       "      <td>e621_4.png</td>\n",
       "      <td>1</td>\n",
       "    </tr>\n",
       "    <tr>\n",
       "      <th>...</th>\n",
       "      <td>...</td>\n",
       "      <td>...</td>\n",
       "    </tr>\n",
       "    <tr>\n",
       "      <th>28438</th>\n",
       "      <td>e621_29994.png</td>\n",
       "      <td>1</td>\n",
       "    </tr>\n",
       "    <tr>\n",
       "      <th>28439</th>\n",
       "      <td>e621_29996.png</td>\n",
       "      <td>1</td>\n",
       "    </tr>\n",
       "    <tr>\n",
       "      <th>28440</th>\n",
       "      <td>e621_29997.png</td>\n",
       "      <td>0</td>\n",
       "    </tr>\n",
       "    <tr>\n",
       "      <th>28441</th>\n",
       "      <td>e621_29998.png</td>\n",
       "      <td>1</td>\n",
       "    </tr>\n",
       "    <tr>\n",
       "      <th>28442</th>\n",
       "      <td>e621_29999.png</td>\n",
       "      <td>1</td>\n",
       "    </tr>\n",
       "  </tbody>\n",
       "</table>\n",
       "<p>85329 rows × 2 columns</p>\n",
       "</div>"
      ],
      "text/plain": [
       "           image_name  blocked\n",
       "0          e621_0.png        1\n",
       "1          e621_1.png        1\n",
       "2          e621_2.png        1\n",
       "3          e621_3.png        0\n",
       "4          e621_4.png        1\n",
       "...               ...      ...\n",
       "28438  e621_29994.png        1\n",
       "28439  e621_29996.png        1\n",
       "28440  e621_29997.png        0\n",
       "28441  e621_29998.png        1\n",
       "28442  e621_29999.png        1\n",
       "\n",
       "[85329 rows x 2 columns]"
      ]
     },
     "metadata": {},
     "output_type": "display_data"
    }
   ],
   "source": [
    "main_df = pd.concat([main_df, temp_df])\n",
    "display(main_df)"
   ]
  },
  {
   "cell_type": "markdown",
   "id": "840ac31d",
   "metadata": {},
   "source": [
    "# Очистка данных"
   ]
  },
  {
   "cell_type": "code",
   "execution_count": 18,
   "id": "8e011c37",
   "metadata": {},
   "outputs": [
    {
     "data": {
      "text/html": [
       "<div>\n",
       "<style scoped>\n",
       "    .dataframe tbody tr th:only-of-type {\n",
       "        vertical-align: middle;\n",
       "    }\n",
       "\n",
       "    .dataframe tbody tr th {\n",
       "        vertical-align: top;\n",
       "    }\n",
       "\n",
       "    .dataframe thead th {\n",
       "        text-align: right;\n",
       "    }\n",
       "</style>\n",
       "<table border=\"1\" class=\"dataframe\">\n",
       "  <thead>\n",
       "    <tr style=\"text-align: right;\">\n",
       "      <th></th>\n",
       "      <th>blocked</th>\n",
       "      <th>count</th>\n",
       "    </tr>\n",
       "  </thead>\n",
       "  <tbody>\n",
       "    <tr>\n",
       "      <th>0</th>\n",
       "      <td>1</td>\n",
       "      <td>22727</td>\n",
       "    </tr>\n",
       "    <tr>\n",
       "      <th>1</th>\n",
       "      <td>0</td>\n",
       "      <td>5716</td>\n",
       "    </tr>\n",
       "  </tbody>\n",
       "</table>\n",
       "</div>"
      ],
      "text/plain": [
       "   blocked  count\n",
       "0        1  22727\n",
       "1        0   5716"
      ]
     },
     "metadata": {},
     "output_type": "display_data"
    },
    {
     "name": "stdout",
     "output_type": "stream",
     "text": [
      "(28443, 2)\n"
     ]
    }
   ],
   "source": [
    "main_df = (main_df\n",
    "           .drop(\"Unnamed: 0\", axis=1, errors=\"ignore\")\n",
    "           .drop_duplicates()\n",
    "           .dropna(subset=[\"image_name\", \"blocked\"]))\n",
    "main_df['blocked'] = main_df['blocked'].astype(int)\n",
    "\n",
    "display(main_df.loc[:, main_df.columns == \"blocked\"].value_counts().reset_index(name=\"count\"))\n",
    "print(main_df.shape)"
   ]
  },
  {
   "cell_type": "markdown",
   "id": "4fb46a5f",
   "metadata": {},
   "source": [
    "# Сохранение"
   ]
  },
  {
   "cell_type": "code",
   "execution_count": 20,
   "id": "b0b3d1cc",
   "metadata": {},
   "outputs": [],
   "source": [
    "preprocessed_path.parent.mkdir(exist_ok=True)\n",
    "main_df.to_csv(preprocessed_path, index=False)"
   ]
  }
 ],
 "metadata": {
  "kernelspec": {
   "display_name": ".venv",
   "language": "python",
   "name": "python3"
  },
  "language_info": {
   "codemirror_mode": {
    "name": "ipython",
    "version": 3
   },
   "file_extension": ".py",
   "mimetype": "text/x-python",
   "name": "python",
   "nbconvert_exporter": "python",
   "pygments_lexer": "ipython3",
   "version": "3.10.6"
  }
 },
 "nbformat": 4,
 "nbformat_minor": 5
}
