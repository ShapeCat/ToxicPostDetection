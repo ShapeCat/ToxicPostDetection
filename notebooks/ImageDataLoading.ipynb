{
 "cells": [
  {
   "cell_type": "markdown",
   "id": "21fff728",
   "metadata": {},
   "source": [
    "# Первичная настройка путей"
   ]
  },
  {
   "cell_type": "code",
   "execution_count": 1,
   "id": "1e78df1b",
   "metadata": {},
   "outputs": [],
   "source": [
    "from pathlib import Path\n",
    "\n",
    "\n",
    "raw_data_path = Path(\"../data/raw\")\n",
    "preprocessed_file = Path(\"../data/preprocessed/image_only.csv\")\n",
    "images_dir = Path('../data/images')"
   ]
  },
  {
   "cell_type": "code",
   "execution_count": 9,
   "id": "39b42079",
   "metadata": {},
   "outputs": [],
   "source": [
    "import pandas as pd\n",
    "if not preprocessed_file.exists():\n",
    "    main_df = pd.DataFrame(columns=[\"image_name\", \"blocked\"])\n",
    "else: \n",
    "    main_df = pd.read_csv(preprocessed_file)"
   ]
  },
  {
   "cell_type": "markdown",
   "id": "a89b310c",
   "metadata": {},
   "source": [
    "# Загрузка данных"
   ]
  },
  {
   "cell_type": "markdown",
   "id": "e182edfc",
   "metadata": {},
   "source": [
    "## hearmeneigh/e621-rising-v3-small"
   ]
  },
  {
   "cell_type": "code",
   "execution_count": null,
   "id": "eaaad274",
   "metadata": {},
   "outputs": [
    {
     "name": "stderr",
     "output_type": "stream",
     "text": [
      "c:\\Users\\ShapeCat\\source\\repos\\ToxicPostDetection\\.venv\\lib\\site-packages\\tqdm\\auto.py:21: TqdmWarning: IProgress not found. Please update jupyter and ipywidgets. See https://ipywidgets.readthedocs.io/en/stable/user_install.html\n",
      "  from .autonotebook import tqdm as notebook_tqdm\n"
     ]
    },
    {
     "data": {
      "text/html": [
       "<div>\n",
       "<style scoped>\n",
       "    .dataframe tbody tr th:only-of-type {\n",
       "        vertical-align: middle;\n",
       "    }\n",
       "\n",
       "    .dataframe tbody tr th {\n",
       "        vertical-align: top;\n",
       "    }\n",
       "\n",
       "    .dataframe thead th {\n",
       "        text-align: right;\n",
       "    }\n",
       "</style>\n",
       "<table border=\"1\" class=\"dataframe\">\n",
       "  <thead>\n",
       "    <tr style=\"text-align: right;\">\n",
       "      <th></th>\n",
       "      <th>Unnamed: 0</th>\n",
       "      <th>source_id</th>\n",
       "      <th>source</th>\n",
       "      <th>image</th>\n",
       "      <th>tags</th>\n",
       "      <th>url</th>\n",
       "      <th>text</th>\n",
       "      <th>selector</th>\n",
       "    </tr>\n",
       "  </thead>\n",
       "  <tbody>\n",
       "    <tr>\n",
       "      <th>0</th>\n",
       "      <td>0</td>\n",
       "      <td>3724100</td>\n",
       "      <td>e621</td>\n",
       "      <td>&lt;PIL.JpegImagePlugin.JpegImageFile image mode=...</td>\n",
       "      <td>['genitals', 'animal_penis', 'humanoid_pointy_...</td>\n",
       "      <td>https://static1.e621.net/data/9b/9b/9b9b3a2a14...</td>\n",
       "      <td>genitals animal_penis humanoid_pointy_ears ani...</td>\n",
       "      <td>tier-1</td>\n",
       "    </tr>\n",
       "    <tr>\n",
       "      <th>1</th>\n",
       "      <td>1</td>\n",
       "      <td>2323551</td>\n",
       "      <td>e621</td>\n",
       "      <td>&lt;PIL.JpegImagePlugin.JpegImageFile image mode=...</td>\n",
       "      <td>['crop_top', 'blush', 'clothed', 'solo', 'wolf...</td>\n",
       "      <td>https://static1.e621.net/data/b6/73/b673f9bd71...</td>\n",
       "      <td>crop_top blush clothed solo wolf_humanoid blac...</td>\n",
       "      <td>tier-2</td>\n",
       "    </tr>\n",
       "    <tr>\n",
       "      <th>2</th>\n",
       "      <td>2</td>\n",
       "      <td>3858728</td>\n",
       "      <td>e621</td>\n",
       "      <td>&lt;PIL.JpegImagePlugin.JpegImageFile image mode=...</td>\n",
       "      <td>['genitals', 'traditional_media_artwork', 'clo...</td>\n",
       "      <td>https://static1.e621.net/data/4c/a6/4ca60e5ac9...</td>\n",
       "      <td>genitals traditional_media_artwork cloven_hoov...</td>\n",
       "      <td>tier-3</td>\n",
       "    </tr>\n",
       "    <tr>\n",
       "      <th>3</th>\n",
       "      <td>3</td>\n",
       "      <td>3972702</td>\n",
       "      <td>e621</td>\n",
       "      <td>&lt;PIL.JpegImagePlugin.JpegImageFile image mode=...</td>\n",
       "      <td>['thigh_highs', 'score_below_500', 'purple_fur...</td>\n",
       "      <td>https://static1.e621.net/data/93/98/9398b7dfb4...</td>\n",
       "      <td>thigh_highs score_below_500 purple_fur chest_t...</td>\n",
       "      <td>tier-2</td>\n",
       "    </tr>\n",
       "    <tr>\n",
       "      <th>4</th>\n",
       "      <td>4</td>\n",
       "      <td>2535548</td>\n",
       "      <td>e621</td>\n",
       "      <td>&lt;PIL.JpegImagePlugin.JpegImageFile image mode=...</td>\n",
       "      <td>['handsfree', 'antlers', 'score_above_500', 's...</td>\n",
       "      <td>https://static1.e621.net/data/9e/14/9e1452967b...</td>\n",
       "      <td>handsfree antlers score_above_500 score_above_...</td>\n",
       "      <td>tier-1</td>\n",
       "    </tr>\n",
       "  </tbody>\n",
       "</table>\n",
       "</div>"
      ],
      "text/plain": [
       "   Unnamed: 0  source_id source  \\\n",
       "0           0    3724100   e621   \n",
       "1           1    2323551   e621   \n",
       "2           2    3858728   e621   \n",
       "3           3    3972702   e621   \n",
       "4           4    2535548   e621   \n",
       "\n",
       "                                               image  \\\n",
       "0  <PIL.JpegImagePlugin.JpegImageFile image mode=...   \n",
       "1  <PIL.JpegImagePlugin.JpegImageFile image mode=...   \n",
       "2  <PIL.JpegImagePlugin.JpegImageFile image mode=...   \n",
       "3  <PIL.JpegImagePlugin.JpegImageFile image mode=...   \n",
       "4  <PIL.JpegImagePlugin.JpegImageFile image mode=...   \n",
       "\n",
       "                                                tags  \\\n",
       "0  ['genitals', 'animal_penis', 'humanoid_pointy_...   \n",
       "1  ['crop_top', 'blush', 'clothed', 'solo', 'wolf...   \n",
       "2  ['genitals', 'traditional_media_artwork', 'clo...   \n",
       "3  ['thigh_highs', 'score_below_500', 'purple_fur...   \n",
       "4  ['handsfree', 'antlers', 'score_above_500', 's...   \n",
       "\n",
       "                                                 url  \\\n",
       "0  https://static1.e621.net/data/9b/9b/9b9b3a2a14...   \n",
       "1  https://static1.e621.net/data/b6/73/b673f9bd71...   \n",
       "2  https://static1.e621.net/data/4c/a6/4ca60e5ac9...   \n",
       "3  https://static1.e621.net/data/93/98/9398b7dfb4...   \n",
       "4  https://static1.e621.net/data/9e/14/9e1452967b...   \n",
       "\n",
       "                                                text selector  \n",
       "0  genitals animal_penis humanoid_pointy_ears ani...   tier-1  \n",
       "1  crop_top blush clothed solo wolf_humanoid blac...   tier-2  \n",
       "2  genitals traditional_media_artwork cloven_hoov...   tier-3  \n",
       "3  thigh_highs score_below_500 purple_fur chest_t...   tier-2  \n",
       "4  handsfree antlers score_above_500 score_above_...   tier-1  "
      ]
     },
     "execution_count": 4,
     "metadata": {},
     "output_type": "execute_result"
    }
   ],
   "source": [
    "from vk_mod.data.download import load_from_huggingface\n",
    "load_from_huggingface(\"hearmeneigh/e621-rising-v3-small\")\n",
    "temp_df = pd.read_csv(\"../data/raw/e621-rising-v3-small.csv\")\n",
    "temp_df.head(5)"
   ]
  },
  {
   "cell_type": "code",
   "execution_count": null,
   "id": "4996cbfa",
   "metadata": {},
   "outputs": [
    {
     "name": "stderr",
     "output_type": "stream",
     "text": [
      "100%|██████████| 3747/3747 [1:59:00<00:00,  1.91s/it]  \n"
     ]
    },
    {
     "data": {
      "text/html": [
       "<div>\n",
       "<style scoped>\n",
       "    .dataframe tbody tr th:only-of-type {\n",
       "        vertical-align: middle;\n",
       "    }\n",
       "\n",
       "    .dataframe tbody tr th {\n",
       "        vertical-align: top;\n",
       "    }\n",
       "\n",
       "    .dataframe thead th {\n",
       "        text-align: right;\n",
       "    }\n",
       "</style>\n",
       "<table border=\"1\" class=\"dataframe\">\n",
       "  <thead>\n",
       "    <tr style=\"text-align: right;\">\n",
       "      <th></th>\n",
       "      <th>image_name</th>\n",
       "      <th>blocked</th>\n",
       "    </tr>\n",
       "  </thead>\n",
       "  <tbody>\n",
       "    <tr>\n",
       "      <th>1445</th>\n",
       "      <td>e621v31521.jpg</td>\n",
       "      <td>1</td>\n",
       "    </tr>\n",
       "    <tr>\n",
       "      <th>3468</th>\n",
       "      <td>e621v33659.jpg</td>\n",
       "      <td>1</td>\n",
       "    </tr>\n",
       "    <tr>\n",
       "      <th>2353</th>\n",
       "      <td>e621v32494.jpg</td>\n",
       "      <td>1</td>\n",
       "    </tr>\n",
       "    <tr>\n",
       "      <th>1592</th>\n",
       "      <td>e621v31680.jpg</td>\n",
       "      <td>0</td>\n",
       "    </tr>\n",
       "    <tr>\n",
       "      <th>1504</th>\n",
       "      <td>e621v31584.jpg</td>\n",
       "      <td>1</td>\n",
       "    </tr>\n",
       "  </tbody>\n",
       "</table>\n",
       "</div>"
      ],
      "text/plain": [
       "          image_name  blocked\n",
       "1445  e621v31521.jpg        1\n",
       "3468  e621v33659.jpg        1\n",
       "2353  e621v32494.jpg        1\n",
       "1592  e621v31680.jpg        0\n",
       "1504  e621v31584.jpg        1"
      ]
     },
     "metadata": {},
     "output_type": "display_data"
    },
    {
     "data": {
      "text/html": [
       "<div>\n",
       "<style scoped>\n",
       "    .dataframe tbody tr th:only-of-type {\n",
       "        vertical-align: middle;\n",
       "    }\n",
       "\n",
       "    .dataframe tbody tr th {\n",
       "        vertical-align: top;\n",
       "    }\n",
       "\n",
       "    .dataframe thead th {\n",
       "        text-align: right;\n",
       "    }\n",
       "</style>\n",
       "<table border=\"1\" class=\"dataframe\">\n",
       "  <thead>\n",
       "    <tr style=\"text-align: right;\">\n",
       "      <th></th>\n",
       "      <th>blocked</th>\n",
       "      <th>count</th>\n",
       "    </tr>\n",
       "  </thead>\n",
       "  <tbody>\n",
       "  </tbody>\n",
       "</table>\n",
       "</div>"
      ],
      "text/plain": [
       "Empty DataFrame\n",
       "Columns: [blocked, count]\n",
       "Index: []"
      ]
     },
     "metadata": {},
     "output_type": "display_data"
    }
   ],
   "source": [
    "import requests\n",
    "from PIL import Image\n",
    "from io import BytesIO\n",
    "from tqdm import tqdm\n",
    "\n",
    "Image.MAX_IMAGE_PIXELS = None\n",
    "\n",
    "images_dir.mkdir(exist_ok=True)\n",
    "processed_data = []\n",
    "\n",
    "for index, row in tqdm(temp_df.iterrows(), total=len(temp_df)):\n",
    "    is_explicit = 1 if 'rating_explicit' in row['tags'] else 0\n",
    "    try:\n",
    "        response = requests.get(row['url'] , timeout=3)\n",
    "        image = Image.open(BytesIO(response.content))\n",
    "        if image.mode != 'RGB':\n",
    "            image = image.convert('RGB')\n",
    "\n",
    "        filename = f\"e621v3{index}.jpg\"     \n",
    "        image.save(Path(images_dir, filename))        \n",
    "        processed_data.append({\n",
    "            'image_name': filename,\n",
    "            'blocked': is_explicit\n",
    "        })\n",
    "    except Exception as e:\n",
    "        #print(f\"Ошибка обработки изображения {row['url']}: {e}\")\n",
    "        pass\n",
    "\n",
    "temp_df = pd.DataFrame(processed_data)\n",
    "display(temp_df.sample(5))\n",
    "display(df.loc[:, df.columns == \"blocked\"].value_counts().reset_index(name=\"count\"))"
   ]
  },
  {
   "cell_type": "code",
   "execution_count": 6,
   "id": "bddf2918",
   "metadata": {},
   "outputs": [
    {
     "data": {
      "text/html": [
       "<div>\n",
       "<style scoped>\n",
       "    .dataframe tbody tr th:only-of-type {\n",
       "        vertical-align: middle;\n",
       "    }\n",
       "\n",
       "    .dataframe tbody tr th {\n",
       "        vertical-align: top;\n",
       "    }\n",
       "\n",
       "    .dataframe thead th {\n",
       "        text-align: right;\n",
       "    }\n",
       "</style>\n",
       "<table border=\"1\" class=\"dataframe\">\n",
       "  <thead>\n",
       "    <tr style=\"text-align: right;\">\n",
       "      <th></th>\n",
       "      <th>image_name</th>\n",
       "      <th>blocked</th>\n",
       "    </tr>\n",
       "  </thead>\n",
       "  <tbody>\n",
       "    <tr>\n",
       "      <th>0</th>\n",
       "      <td>e621v30.jpg</td>\n",
       "      <td>1</td>\n",
       "    </tr>\n",
       "    <tr>\n",
       "      <th>1</th>\n",
       "      <td>e621v31.jpg</td>\n",
       "      <td>1</td>\n",
       "    </tr>\n",
       "    <tr>\n",
       "      <th>2</th>\n",
       "      <td>e621v32.jpg</td>\n",
       "      <td>1</td>\n",
       "    </tr>\n",
       "    <tr>\n",
       "      <th>3</th>\n",
       "      <td>e621v33.jpg</td>\n",
       "      <td>0</td>\n",
       "    </tr>\n",
       "    <tr>\n",
       "      <th>4</th>\n",
       "      <td>e621v34.jpg</td>\n",
       "      <td>1</td>\n",
       "    </tr>\n",
       "    <tr>\n",
       "      <th>...</th>\n",
       "      <td>...</td>\n",
       "      <td>...</td>\n",
       "    </tr>\n",
       "    <tr>\n",
       "      <th>3548</th>\n",
       "      <td>e621v33742.jpg</td>\n",
       "      <td>1</td>\n",
       "    </tr>\n",
       "    <tr>\n",
       "      <th>3549</th>\n",
       "      <td>e621v33743.jpg</td>\n",
       "      <td>0</td>\n",
       "    </tr>\n",
       "    <tr>\n",
       "      <th>3550</th>\n",
       "      <td>e621v33744.jpg</td>\n",
       "      <td>1</td>\n",
       "    </tr>\n",
       "    <tr>\n",
       "      <th>3551</th>\n",
       "      <td>e621v33745.jpg</td>\n",
       "      <td>0</td>\n",
       "    </tr>\n",
       "    <tr>\n",
       "      <th>3552</th>\n",
       "      <td>e621v33746.jpg</td>\n",
       "      <td>1</td>\n",
       "    </tr>\n",
       "  </tbody>\n",
       "</table>\n",
       "<p>3553 rows × 2 columns</p>\n",
       "</div>"
      ],
      "text/plain": [
       "          image_name blocked\n",
       "0        e621v30.jpg       1\n",
       "1        e621v31.jpg       1\n",
       "2        e621v32.jpg       1\n",
       "3        e621v33.jpg       0\n",
       "4        e621v34.jpg       1\n",
       "...              ...     ...\n",
       "3548  e621v33742.jpg       1\n",
       "3549  e621v33743.jpg       0\n",
       "3550  e621v33744.jpg       1\n",
       "3551  e621v33745.jpg       0\n",
       "3552  e621v33746.jpg       1\n",
       "\n",
       "[3553 rows x 2 columns]"
      ]
     },
     "metadata": {},
     "output_type": "display_data"
    }
   ],
   "source": [
    "main_df = pd.concat([main_df, temp_df])\n",
    "display(main_df)"
   ]
  },
  {
   "cell_type": "markdown",
   "id": "840ac31d",
   "metadata": {},
   "source": [
    "# Очистка данных"
   ]
  },
  {
   "cell_type": "code",
   "execution_count": 12,
   "id": "3772b3ed",
   "metadata": {},
   "outputs": [],
   "source": [
    "main_df = (main_df\n",
    "           .drop(\"Unnamed: 0\", axis=1, errors=\"ignore\")\n",
    "           .drop_duplicates()\n",
    "           .dropna(subset=[\"image_name\", \"blocked\"]))\n",
    "main_df['blocked'] = main_df['blocked'].astype(int)"
   ]
  },
  {
   "cell_type": "code",
   "execution_count": 13,
   "id": "8e011c37",
   "metadata": {},
   "outputs": [
    {
     "data": {
      "text/html": [
       "<div>\n",
       "<style scoped>\n",
       "    .dataframe tbody tr th:only-of-type {\n",
       "        vertical-align: middle;\n",
       "    }\n",
       "\n",
       "    .dataframe tbody tr th {\n",
       "        vertical-align: top;\n",
       "    }\n",
       "\n",
       "    .dataframe thead th {\n",
       "        text-align: right;\n",
       "    }\n",
       "</style>\n",
       "<table border=\"1\" class=\"dataframe\">\n",
       "  <thead>\n",
       "    <tr style=\"text-align: right;\">\n",
       "      <th></th>\n",
       "      <th>blocked</th>\n",
       "      <th>count</th>\n",
       "    </tr>\n",
       "  </thead>\n",
       "  <tbody>\n",
       "    <tr>\n",
       "      <th>0</th>\n",
       "      <td>1</td>\n",
       "      <td>2859</td>\n",
       "    </tr>\n",
       "    <tr>\n",
       "      <th>1</th>\n",
       "      <td>0</td>\n",
       "      <td>694</td>\n",
       "    </tr>\n",
       "  </tbody>\n",
       "</table>\n",
       "</div>"
      ],
      "text/plain": [
       "   blocked  count\n",
       "0        1   2859\n",
       "1        0    694"
      ]
     },
     "metadata": {},
     "output_type": "display_data"
    },
    {
     "name": "stdout",
     "output_type": "stream",
     "text": [
      "(3553, 2)\n"
     ]
    }
   ],
   "source": [
    "display(main_df.loc[:, main_df.columns == \"blocked\"].value_counts().reset_index(name=\"count\"))\n",
    "print(main_df.shape)"
   ]
  },
  {
   "cell_type": "markdown",
   "id": "4fb46a5f",
   "metadata": {},
   "source": [
    "# Сохранение"
   ]
  },
  {
   "cell_type": "code",
   "execution_count": 14,
   "id": "b0b3d1cc",
   "metadata": {},
   "outputs": [],
   "source": [
    "preprocessed_file.parent.mkdir(exist_ok=True)\n",
    "main_df.to_csv(preprocessed_file, index=False)"
   ]
  }
 ],
 "metadata": {
  "kernelspec": {
   "display_name": ".venv",
   "language": "python",
   "name": "python3"
  },
  "language_info": {
   "codemirror_mode": {
    "name": "ipython",
    "version": 3
   },
   "file_extension": ".py",
   "mimetype": "text/x-python",
   "name": "python",
   "nbconvert_exporter": "python",
   "pygments_lexer": "ipython3",
   "version": "3.10.6"
  }
 },
 "nbformat": 4,
 "nbformat_minor": 5
}
