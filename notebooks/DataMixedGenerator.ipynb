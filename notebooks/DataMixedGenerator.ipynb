{
 "cells": [
  {
   "cell_type": "code",
   "execution_count": 8,
   "id": "5f4d2666",
   "metadata": {},
   "outputs": [],
   "source": [
    "from pathlib import Path\n",
    "raw_data_path = Path(\"../data/raw\")\n",
    "text_dataset = Path(\"../data/preprocessed/text_only.csv\")\n",
    "image_dataset = Path(\"../data/preprocessed/image_only.csv\")\n",
    "preprocessed_file = Path(\"../data/preprocessed/text-and-image-generated.csv\")\n"
   ]
  },
  {
   "cell_type": "code",
   "execution_count": 9,
   "id": "4d292557",
   "metadata": {},
   "outputs": [],
   "source": [
    "import pandas as pd\n",
    "if not preprocessed_file.exists():\n",
    "    main_df = pd.DataFrame(columns=[\"text\", \"image_name\", \"blocked\"])\n",
    "else: \n",
    "    main_df = pd.read_csv(preprocessed_file)"
   ]
  },
  {
   "cell_type": "code",
   "execution_count": 10,
   "id": "8596ba92",
   "metadata": {},
   "outputs": [],
   "source": [
    "def display_label_stats(df) -> None:\n",
    "    display(df.loc[:, df.columns == \"blocked\"].value_counts().reset_index(name=\"count\"))"
   ]
  },
  {
   "cell_type": "code",
   "execution_count": 11,
   "id": "3d243ad5",
   "metadata": {},
   "outputs": [],
   "source": [
    "import pandas as pd\n",
    "\n",
    "\n",
    "texts = pd.read_csv(text_dataset)  \n",
    "images = pd.read_csv(image_dataset)\n",
    "blocked_texts = texts[texts['blocked'] == 1]\n",
    "non_blocked_texts = texts[texts['blocked'] == 0]\n",
    "blocked_images = images[images['blocked'] == 1]\n",
    "non_blocked_images = images[images['blocked'] == 0]"
   ]
  },
  {
   "cell_type": "code",
   "execution_count": 12,
   "id": "8f79f0a9",
   "metadata": {},
   "outputs": [],
   "source": [
    "def generate_combinations(images:pd.DataFrame, texts:pd.DataFrame, count:int) -> pd.DataFrame:\n",
    "    image_sample = images.sample(n=count, replace=True,random_state=42)\n",
    "    text_sample = texts.sample(n=count, replace=True, random_state=42)\n",
    "    return pd.DataFrame({\n",
    "        'image_name': image_sample['image_name'].values,\n",
    "        'text': text_sample['text'].values,\n",
    "        'blocked': 1\n",
    "    })"
   ]
  },
  {
   "cell_type": "code",
   "execution_count": 13,
   "id": "f3aa0104",
   "metadata": {},
   "outputs": [
    {
     "data": {
      "text/html": [
       "<div>\n",
       "<style scoped>\n",
       "    .dataframe tbody tr th:only-of-type {\n",
       "        vertical-align: middle;\n",
       "    }\n",
       "\n",
       "    .dataframe tbody tr th {\n",
       "        vertical-align: top;\n",
       "    }\n",
       "\n",
       "    .dataframe thead th {\n",
       "        text-align: right;\n",
       "    }\n",
       "</style>\n",
       "<table border=\"1\" class=\"dataframe\">\n",
       "  <thead>\n",
       "    <tr style=\"text-align: right;\">\n",
       "      <th></th>\n",
       "      <th>image_name</th>\n",
       "      <th>text</th>\n",
       "      <th>blocked</th>\n",
       "    </tr>\n",
       "  </thead>\n",
       "  <tbody>\n",
       "    <tr>\n",
       "      <th>0</th>\n",
       "      <td>e621_20863.png</td>\n",
       "      <td>оч крутой вид знакомства</td>\n",
       "      <td>1</td>\n",
       "    </tr>\n",
       "    <tr>\n",
       "      <th>1</th>\n",
       "      <td>e621_1134.png</td>\n",
       "      <td>Какой козырь?Он убил человека...и как последни...</td>\n",
       "      <td>1</td>\n",
       "    </tr>\n",
       "    <tr>\n",
       "      <th>2</th>\n",
       "      <td>e621_7154.png</td>\n",
       "      <td>Ага, ебёшься с девушкой, а вокруг тебя ещё куч...</td>\n",
       "      <td>1</td>\n",
       "    </tr>\n",
       "    <tr>\n",
       "      <th>3</th>\n",
       "      <td>e621_28446.png</td>\n",
       "      <td>1ком кв.в 45 доме на 1 этаже 32, 6кв м без бал...</td>\n",
       "      <td>1</td>\n",
       "    </tr>\n",
       "    <tr>\n",
       "      <th>4</th>\n",
       "      <td>e621_15764.png</td>\n",
       "      <td>в точность тестов не верите, а в точности имму...</td>\n",
       "      <td>1</td>\n",
       "    </tr>\n",
       "    <tr>\n",
       "      <th>...</th>\n",
       "      <td>...</td>\n",
       "      <td>...</td>\n",
       "      <td>...</td>\n",
       "    </tr>\n",
       "    <tr>\n",
       "      <th>4995</th>\n",
       "      <td>e621_20440.png</td>\n",
       "      <td>Спорыню жрали не вдуплялись какды жанна дарк у...</td>\n",
       "      <td>1</td>\n",
       "    </tr>\n",
       "    <tr>\n",
       "      <th>4996</th>\n",
       "      <td>e621_21521.png</td>\n",
       "      <td>а вот трусливый то ты</td>\n",
       "      <td>1</td>\n",
       "    </tr>\n",
       "    <tr>\n",
       "      <th>4997</th>\n",
       "      <td>e621_12080.png</td>\n",
       "      <td>ещё называются спортсмены, садить таких надо!!!</td>\n",
       "      <td>1</td>\n",
       "    </tr>\n",
       "    <tr>\n",
       "      <th>4998</th>\n",
       "      <td>e621_3968.png</td>\n",
       "      <td>чем хорош интернет добавил в черный список и т...</td>\n",
       "      <td>1</td>\n",
       "    </tr>\n",
       "    <tr>\n",
       "      <th>4999</th>\n",
       "      <td>e621_3636.png</td>\n",
       "      <td>ну и отморозок,убийца,мразь.</td>\n",
       "      <td>1</td>\n",
       "    </tr>\n",
       "  </tbody>\n",
       "</table>\n",
       "<p>5000 rows × 3 columns</p>\n",
       "</div>"
      ],
      "text/plain": [
       "          image_name                                               text  \\\n",
       "0     e621_20863.png                           оч крутой вид знакомства   \n",
       "1      e621_1134.png  Какой козырь?Он убил человека...и как последни...   \n",
       "2      e621_7154.png  Ага, ебёшься с девушкой, а вокруг тебя ещё куч...   \n",
       "3     e621_28446.png  1ком кв.в 45 доме на 1 этаже 32, 6кв м без бал...   \n",
       "4     e621_15764.png  в точность тестов не верите, а в точности имму...   \n",
       "...              ...                                                ...   \n",
       "4995  e621_20440.png  Спорыню жрали не вдуплялись какды жанна дарк у...   \n",
       "4996  e621_21521.png                              а вот трусливый то ты   \n",
       "4997  e621_12080.png    ещё называются спортсмены, садить таких надо!!!   \n",
       "4998   e621_3968.png  чем хорош интернет добавил в черный список и т...   \n",
       "4999   e621_3636.png                       ну и отморозок,убийца,мразь.   \n",
       "\n",
       "      blocked  \n",
       "0           1  \n",
       "1           1  \n",
       "2           1  \n",
       "3           1  \n",
       "4           1  \n",
       "...       ...  \n",
       "4995        1  \n",
       "4996        1  \n",
       "4997        1  \n",
       "4998        1  \n",
       "4999        1  \n",
       "\n",
       "[5000 rows x 3 columns]"
      ]
     },
     "execution_count": 13,
     "metadata": {},
     "output_type": "execute_result"
    }
   ],
   "source": [
    "main_df = pd.concat([\n",
    "    generate_combinations(blocked_images, non_blocked_texts, 2500),\n",
    "    generate_combinations(non_blocked_images, blocked_texts, 2500),\n",
    "    ], ignore_index=True).drop_duplicates().dropna()\n",
    "main_df"
   ]
  },
  {
   "cell_type": "code",
   "execution_count": 14,
   "id": "a424d470",
   "metadata": {},
   "outputs": [],
   "source": [
    "preprocessed_file.parent.mkdir(exist_ok=True)\n",
    "main_df.to_csv(preprocessed_file, index=False)"
   ]
  }
 ],
 "metadata": {
  "kernelspec": {
   "display_name": ".venv",
   "language": "python",
   "name": "python3"
  },
  "language_info": {
   "codemirror_mode": {
    "name": "ipython",
    "version": 3
   },
   "file_extension": ".py",
   "mimetype": "text/x-python",
   "name": "python",
   "nbconvert_exporter": "python",
   "pygments_lexer": "ipython3",
   "version": "3.10.6"
  }
 },
 "nbformat": 4,
 "nbformat_minor": 5
}
