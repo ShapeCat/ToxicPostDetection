{
 "cells": [
  {
   "cell_type": "code",
   "execution_count": 21,
   "id": "5f4d2666",
   "metadata": {},
   "outputs": [],
   "source": [
    "from pathlib import Path\n",
    "raw_data_path = Path(\"../data/raw\")\n",
    "text_dataset = Path(\"../data/preprocessed/text_only.csv\")\n",
    "image_dataset = Path(\"../data/preprocessed/image_only.csv\")\n",
    "preprocessed_file = Path(\"../data/preprocessed/text-and-image-generated.csv\")\n"
   ]
  },
  {
   "cell_type": "code",
   "execution_count": 22,
   "id": "4d292557",
   "metadata": {},
   "outputs": [],
   "source": [
    "import pandas as pd\n",
    "if not preprocessed_file.exists():\n",
    "    main_df = pd.DataFrame(columns=[\"text\", \"image_name\", \"blocked\"])\n",
    "else: \n",
    "    main_df = pd.read_csv(preprocessed_file)"
   ]
  },
  {
   "cell_type": "code",
   "execution_count": 23,
   "id": "8596ba92",
   "metadata": {},
   "outputs": [],
   "source": [
    "def display_label_stats(df) -> None:\n",
    "    display(df.loc[:, df.columns == \"blocked\"].value_counts().reset_index(name=\"count\"))"
   ]
  },
  {
   "cell_type": "code",
   "execution_count": 24,
   "id": "3d243ad5",
   "metadata": {},
   "outputs": [],
   "source": [
    "import pandas as pd\n",
    "\n",
    "\n",
    "texts = pd.read_csv(text_dataset)  \n",
    "images = pd.read_csv(image_dataset)\n",
    "blocked_texts = texts[texts['blocked'] == 1]\n",
    "non_blocked_texts = texts[texts['blocked'] == 0]\n",
    "blocked_images = images[images['blocked'] == 1]\n",
    "non_blocked_images = images[images['blocked'] == 0]"
   ]
  },
  {
   "cell_type": "code",
   "execution_count": 25,
   "id": "8f79f0a9",
   "metadata": {},
   "outputs": [],
   "source": [
    "def generate_combinations(images:pd.DataFrame, texts:pd.DataFrame, count:int) -> pd.DataFrame:\n",
    "    image_sample = images.sample(n=count, replace=True,random_state=42)\n",
    "    text_sample = texts.sample(n=count, replace=True, random_state=42)\n",
    "    return pd.DataFrame({\n",
    "        'image_name': image_sample['image_name'].values,\n",
    "        'text': text_sample['text'].values,\n",
    "        'blocked': 1\n",
    "    })"
   ]
  },
  {
   "cell_type": "code",
   "execution_count": 26,
   "id": "f3aa0104",
   "metadata": {},
   "outputs": [
    {
     "data": {
      "text/html": [
       "<div>\n",
       "<style scoped>\n",
       "    .dataframe tbody tr th:only-of-type {\n",
       "        vertical-align: middle;\n",
       "    }\n",
       "\n",
       "    .dataframe tbody tr th {\n",
       "        vertical-align: top;\n",
       "    }\n",
       "\n",
       "    .dataframe thead th {\n",
       "        text-align: right;\n",
       "    }\n",
       "</style>\n",
       "<table border=\"1\" class=\"dataframe\">\n",
       "  <thead>\n",
       "    <tr style=\"text-align: right;\">\n",
       "      <th></th>\n",
       "      <th>image_name</th>\n",
       "      <th>text</th>\n",
       "      <th>blocked</th>\n",
       "    </tr>\n",
       "  </thead>\n",
       "  <tbody>\n",
       "    <tr>\n",
       "      <th>0</th>\n",
       "      <td>e621v31112.jpg</td>\n",
       "      <td>перевела 945 р с карты 1311, в 18.34. передать...</td>\n",
       "      <td>1</td>\n",
       "    </tr>\n",
       "    <tr>\n",
       "      <th>1</th>\n",
       "      <td>e621v31672.jpg</td>\n",
       "      <td>вперед сибирь.</td>\n",
       "      <td>1</td>\n",
       "    </tr>\n",
       "    <tr>\n",
       "      <th>2</th>\n",
       "      <td>e621v31470.jpg</td>\n",
       "      <td>правила хорошие... но, видимо, не совсем идеал...</td>\n",
       "      <td>1</td>\n",
       "    </tr>\n",
       "    <tr>\n",
       "      <th>3</th>\n",
       "      <td>e621v31416.jpg</td>\n",
       "      <td>блин, они еще и советы дают. я по их совету с ...</td>\n",
       "      <td>1</td>\n",
       "    </tr>\n",
       "    <tr>\n",
       "      <th>4</th>\n",
       "      <td>e621v32156.jpg</td>\n",
       "      <td>ливень !</td>\n",
       "      <td>1</td>\n",
       "    </tr>\n",
       "    <tr>\n",
       "      <th>...</th>\n",
       "      <td>...</td>\n",
       "      <td>...</td>\n",
       "      <td>...</td>\n",
       "    </tr>\n",
       "    <tr>\n",
       "      <th>4995</th>\n",
       "      <td>e621v31327.jpg</td>\n",
       "      <td>называю чертей отказывающихся от своей родины ...</td>\n",
       "      <td>1</td>\n",
       "    </tr>\n",
       "    <tr>\n",
       "      <th>4996</th>\n",
       "      <td>e621v31178.jpg</td>\n",
       "      <td>дура шизонутая, тварь, что за родители воспита...</td>\n",
       "      <td>1</td>\n",
       "    </tr>\n",
       "    <tr>\n",
       "      <th>4997</th>\n",
       "      <td>e621v31431.jpg</td>\n",
       "      <td>сука!7 лет в жопе и всё трезубы делают))во ист...</td>\n",
       "      <td>1</td>\n",
       "    </tr>\n",
       "    <tr>\n",
       "      <th>4998</th>\n",
       "      <td>e621v33143.jpg</td>\n",
       "      <td>мочить не задуматься, взять его так же за шею ...</td>\n",
       "      <td>1</td>\n",
       "    </tr>\n",
       "    <tr>\n",
       "      <th>4999</th>\n",
       "      <td>e621v33544.jpg</td>\n",
       "      <td>ещё добавить в жопу, веселей бедет украинская ...</td>\n",
       "      <td>1</td>\n",
       "    </tr>\n",
       "  </tbody>\n",
       "</table>\n",
       "<p>4998 rows × 3 columns</p>\n",
       "</div>"
      ],
      "text/plain": [
       "          image_name                                               text  \\\n",
       "0     e621v31112.jpg  перевела 945 р с карты 1311, в 18.34. передать...   \n",
       "1     e621v31672.jpg                                     вперед сибирь.   \n",
       "2     e621v31470.jpg  правила хорошие... но, видимо, не совсем идеал...   \n",
       "3     e621v31416.jpg  блин, они еще и советы дают. я по их совету с ...   \n",
       "4     e621v32156.jpg                                           ливень !   \n",
       "...              ...                                                ...   \n",
       "4995  e621v31327.jpg  называю чертей отказывающихся от своей родины ...   \n",
       "4996  e621v31178.jpg  дура шизонутая, тварь, что за родители воспита...   \n",
       "4997  e621v31431.jpg  сука!7 лет в жопе и всё трезубы делают))во ист...   \n",
       "4998  e621v33143.jpg  мочить не задуматься, взять его так же за шею ...   \n",
       "4999  e621v33544.jpg  ещё добавить в жопу, веселей бедет украинская ...   \n",
       "\n",
       "      blocked  \n",
       "0           1  \n",
       "1           1  \n",
       "2           1  \n",
       "3           1  \n",
       "4           1  \n",
       "...       ...  \n",
       "4995        1  \n",
       "4996        1  \n",
       "4997        1  \n",
       "4998        1  \n",
       "4999        1  \n",
       "\n",
       "[4998 rows x 3 columns]"
      ]
     },
     "execution_count": 26,
     "metadata": {},
     "output_type": "execute_result"
    }
   ],
   "source": [
    "main_df = pd.concat([\n",
    "    generate_combinations(blocked_images, non_blocked_texts, 2500),\n",
    "    generate_combinations(non_blocked_images, blocked_texts, 2500),\n",
    "    ], ignore_index=True).drop_duplicates().dropna()\n",
    "main_df"
   ]
  },
  {
   "cell_type": "code",
   "execution_count": 27,
   "id": "a424d470",
   "metadata": {},
   "outputs": [],
   "source": [
    "preprocessed_file.parent.mkdir(exist_ok=True)\n",
    "main_df.to_csv(preprocessed_file, index=False)"
   ]
  }
 ],
 "metadata": {
  "kernelspec": {
   "display_name": ".venv",
   "language": "python",
   "name": "python3"
  },
  "language_info": {
   "codemirror_mode": {
    "name": "ipython",
    "version": 3
   },
   "file_extension": ".py",
   "mimetype": "text/x-python",
   "name": "python",
   "nbconvert_exporter": "python",
   "pygments_lexer": "ipython3",
   "version": "3.10.6"
  }
 },
 "nbformat": 4,
 "nbformat_minor": 5
}
