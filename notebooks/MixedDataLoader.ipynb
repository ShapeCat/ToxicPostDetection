{
 "cells": [
  {
   "cell_type": "code",
   "execution_count": 8,
   "id": "3285c3b5",
   "metadata": {},
   "outputs": [],
   "source": [
    "import pandas as pd\n",
    "from pathlib import Path\n",
    "\n",
    "\n",
    "raw_data_path = Path(\"../data/raw\")\n",
    "preprocessed_file = Path(\"../data/preprocessed/text-and-image.csv\")"
   ]
  },
  {
   "cell_type": "code",
   "execution_count": 9,
   "id": "961e4cea",
   "metadata": {},
   "outputs": [],
   "source": [
    "if not preprocessed_file.exists():\n",
    "    main_df = pd.DataFrame(columns=[\"text\", \"image_name\", \"blocked\"])\n",
    "else: \n",
    "    main_df = pd.read_csv(preprocessed_file)"
   ]
  },
  {
   "cell_type": "code",
   "execution_count": 10,
   "id": "7a8c993c",
   "metadata": {},
   "outputs": [],
   "source": [
    "def display_label_stats(df) -> None:\n",
    "    display(df.loc[:, df.columns == \"blocked\"].value_counts().reset_index(name=\"count\"))"
   ]
  },
  {
   "cell_type": "markdown",
   "id": "fb2d49c5",
   "metadata": {},
   "source": [
    "# neuralcatcher/hateful_memes\n",
    "Все изображения загружаются локально из-за ограничения rate limit"
   ]
  },
  {
   "cell_type": "code",
   "execution_count": 11,
   "id": "15a5b003",
   "metadata": {},
   "outputs": [
    {
     "name": "stderr",
     "output_type": "stream",
     "text": [
      "Repo card metadata block was not found. Setting CardData to empty.\n"
     ]
    },
    {
     "data": {
      "text/html": [
       "<div>\n",
       "<style scoped>\n",
       "    .dataframe tbody tr th:only-of-type {\n",
       "        vertical-align: middle;\n",
       "    }\n",
       "\n",
       "    .dataframe tbody tr th {\n",
       "        vertical-align: top;\n",
       "    }\n",
       "\n",
       "    .dataframe thead th {\n",
       "        text-align: right;\n",
       "    }\n",
       "</style>\n",
       "<table border=\"1\" class=\"dataframe\">\n",
       "  <thead>\n",
       "    <tr style=\"text-align: right;\">\n",
       "      <th></th>\n",
       "      <th>Unnamed: 0</th>\n",
       "      <th>id</th>\n",
       "      <th>img</th>\n",
       "      <th>label</th>\n",
       "      <th>text</th>\n",
       "    </tr>\n",
       "  </thead>\n",
       "  <tbody>\n",
       "    <tr>\n",
       "      <th>0</th>\n",
       "      <td>0</td>\n",
       "      <td>42953</td>\n",
       "      <td>img/42953.png</td>\n",
       "      <td>0</td>\n",
       "      <td>its their character not their color that matters</td>\n",
       "    </tr>\n",
       "    <tr>\n",
       "      <th>1</th>\n",
       "      <td>1</td>\n",
       "      <td>23058</td>\n",
       "      <td>img/23058.png</td>\n",
       "      <td>0</td>\n",
       "      <td>don't be afraid to love again everyone is not ...</td>\n",
       "    </tr>\n",
       "    <tr>\n",
       "      <th>2</th>\n",
       "      <td>2</td>\n",
       "      <td>13894</td>\n",
       "      <td>img/13894.png</td>\n",
       "      <td>0</td>\n",
       "      <td>putting bows on your pet</td>\n",
       "    </tr>\n",
       "    <tr>\n",
       "      <th>3</th>\n",
       "      <td>3</td>\n",
       "      <td>37408</td>\n",
       "      <td>img/37408.png</td>\n",
       "      <td>0</td>\n",
       "      <td>i love everything and everybody! except for sq...</td>\n",
       "    </tr>\n",
       "    <tr>\n",
       "      <th>4</th>\n",
       "      <td>4</td>\n",
       "      <td>82403</td>\n",
       "      <td>img/82403.png</td>\n",
       "      <td>0</td>\n",
       "      <td>everybody loves chocolate chip cookies, even h...</td>\n",
       "    </tr>\n",
       "  </tbody>\n",
       "</table>\n",
       "</div>"
      ],
      "text/plain": [
       "   Unnamed: 0     id            img  label  \\\n",
       "0           0  42953  img/42953.png      0   \n",
       "1           1  23058  img/23058.png      0   \n",
       "2           2  13894  img/13894.png      0   \n",
       "3           3  37408  img/37408.png      0   \n",
       "4           4  82403  img/82403.png      0   \n",
       "\n",
       "                                                text  \n",
       "0   its their character not their color that matters  \n",
       "1  don't be afraid to love again everyone is not ...  \n",
       "2                           putting bows on your pet  \n",
       "3  i love everything and everybody! except for sq...  \n",
       "4  everybody loves chocolate chip cookies, even h...  "
      ]
     },
     "execution_count": 11,
     "metadata": {},
     "output_type": "execute_result"
    }
   ],
   "source": [
    "from vk_mod.data.download import load_from_huggingface\n",
    "load_from_huggingface(\"neuralcatcher/hateful_memes\")\n",
    "temp_df = pd.read_csv(Path(raw_data_path, \"hateful_memes.csv\"))\n",
    "temp_df.head(5)"
   ]
  },
  {
   "cell_type": "code",
   "execution_count": 12,
   "id": "8de5c5bd",
   "metadata": {},
   "outputs": [],
   "source": [
    "import argostranslate\n",
    "import argostranslate.package\n",
    "\n",
    "def install_translation_model():\n",
    "    argostranslate.package.update_package_index()\n",
    "    available_packages = argostranslate.package.get_available_packages()\n",
    "    package_to_install = next(\n",
    "        filter(\n",
    "            lambda x: x.from_code == \"en\" and x.to_code == \"ru\",\n",
    "            available_packages\n",
    "        )\n",
    "    )\n",
    "    argostranslate.package.install_from_path(package_to_install.download())\n",
    "\n",
    "install_translation_model()"
   ]
  },
  {
   "cell_type": "code",
   "execution_count": 13,
   "id": "5282635a",
   "metadata": {},
   "outputs": [
    {
     "name": "stderr",
     "output_type": "stream",
     "text": [
      "100%|██████████| 8500/8500 [53:08<00:00,  2.67it/s]  \n"
     ]
    },
    {
     "data": {
      "text/html": [
       "<div>\n",
       "<style scoped>\n",
       "    .dataframe tbody tr th:only-of-type {\n",
       "        vertical-align: middle;\n",
       "    }\n",
       "\n",
       "    .dataframe tbody tr th {\n",
       "        vertical-align: top;\n",
       "    }\n",
       "\n",
       "    .dataframe thead th {\n",
       "        text-align: right;\n",
       "    }\n",
       "</style>\n",
       "<table border=\"1\" class=\"dataframe\">\n",
       "  <thead>\n",
       "    <tr style=\"text-align: right;\">\n",
       "      <th></th>\n",
       "      <th>text</th>\n",
       "      <th>image_name</th>\n",
       "      <th>blocked</th>\n",
       "    </tr>\n",
       "  </thead>\n",
       "  <tbody>\n",
       "    <tr>\n",
       "      <th>4057</th>\n",
       "      <td>если он женится на мне тогда почему он трахает...</td>\n",
       "      <td>81409.png</td>\n",
       "      <td>0</td>\n",
       "    </tr>\n",
       "    <tr>\n",
       "      <th>6852</th>\n",
       "      <td>Познакомься с Джоном Дикарем, играющим главную...</td>\n",
       "      <td>15964.png</td>\n",
       "      <td>1</td>\n",
       "    </tr>\n",
       "    <tr>\n",
       "      <th>7609</th>\n",
       "      <td>Ничего не делать с глобальной бедностью, сидя ...</td>\n",
       "      <td>53810.png</td>\n",
       "      <td>0</td>\n",
       "    </tr>\n",
       "    <tr>\n",
       "      <th>7416</th>\n",
       "      <td>Новый дизайн ремней безопасности: на 45% меньш...</td>\n",
       "      <td>84069.png</td>\n",
       "      <td>1</td>\n",
       "    </tr>\n",
       "    <tr>\n",
       "      <th>1612</th>\n",
       "      <td>Что делать, если правительство финансирует усы...</td>\n",
       "      <td>84209.png</td>\n",
       "      <td>0</td>\n",
       "    </tr>\n",
       "  </tbody>\n",
       "</table>\n",
       "</div>"
      ],
      "text/plain": [
       "                                                   text image_name  blocked\n",
       "4057  если он женится на мне тогда почему он трахает...  81409.png        0\n",
       "6852  Познакомься с Джоном Дикарем, играющим главную...  15964.png        1\n",
       "7609  Ничего не делать с глобальной бедностью, сидя ...  53810.png        0\n",
       "7416  Новый дизайн ремней безопасности: на 45% меньш...  84069.png        1\n",
       "1612  Что делать, если правительство финансирует усы...  84209.png        0"
      ]
     },
     "metadata": {},
     "output_type": "display_data"
    },
    {
     "data": {
      "text/html": [
       "<div>\n",
       "<style scoped>\n",
       "    .dataframe tbody tr th:only-of-type {\n",
       "        vertical-align: middle;\n",
       "    }\n",
       "\n",
       "    .dataframe tbody tr th {\n",
       "        vertical-align: top;\n",
       "    }\n",
       "\n",
       "    .dataframe thead th {\n",
       "        text-align: right;\n",
       "    }\n",
       "</style>\n",
       "<table border=\"1\" class=\"dataframe\">\n",
       "  <thead>\n",
       "    <tr style=\"text-align: right;\">\n",
       "      <th></th>\n",
       "      <th>blocked</th>\n",
       "      <th>count</th>\n",
       "    </tr>\n",
       "  </thead>\n",
       "  <tbody>\n",
       "    <tr>\n",
       "      <th>0</th>\n",
       "      <td>0</td>\n",
       "      <td>5481</td>\n",
       "    </tr>\n",
       "    <tr>\n",
       "      <th>1</th>\n",
       "      <td>1</td>\n",
       "      <td>3019</td>\n",
       "    </tr>\n",
       "  </tbody>\n",
       "</table>\n",
       "</div>"
      ],
      "text/plain": [
       "   blocked  count\n",
       "0        0   5481\n",
       "1        1   3019"
      ]
     },
     "metadata": {},
     "output_type": "display_data"
    }
   ],
   "source": [
    "import argostranslate.translate\n",
    "import pandas as pd\n",
    "from tqdm import tqdm\n",
    "\n",
    "\n",
    "FROM_LANG = \"en\"\n",
    "TO_LANG = \"ru\"\n",
    "\n",
    "processed_data = []\n",
    "for index, row in tqdm(temp_df.iterrows(), total=len(temp_df)):\n",
    "    filename = row['img'].split('/')[-1]\n",
    "    try:\n",
    "        text_ru = argostranslate.translate.translate(\n",
    "            row['text'], \n",
    "            FROM_LANG, \n",
    "            TO_LANG\n",
    "        )\n",
    "        processed_data.append({\n",
    "            'text': text_ru,\n",
    "            'image_name': filename,\n",
    "            'blocked': row['label']\n",
    "        })\n",
    "    except Exception as e:\n",
    "        print(f\"Ошибка перевода для строки {index}: {e}\")\n",
    "\n",
    "temp_df = pd.DataFrame(processed_data)\n",
    "display(temp_df.sample(5))\n",
    "display_label_stats(temp_df)"
   ]
  },
  {
   "cell_type": "code",
   "execution_count": 14,
   "id": "7635f904",
   "metadata": {},
   "outputs": [
    {
     "data": {
      "text/html": [
       "<div>\n",
       "<style scoped>\n",
       "    .dataframe tbody tr th:only-of-type {\n",
       "        vertical-align: middle;\n",
       "    }\n",
       "\n",
       "    .dataframe tbody tr th {\n",
       "        vertical-align: top;\n",
       "    }\n",
       "\n",
       "    .dataframe thead th {\n",
       "        text-align: right;\n",
       "    }\n",
       "</style>\n",
       "<table border=\"1\" class=\"dataframe\">\n",
       "  <thead>\n",
       "    <tr style=\"text-align: right;\">\n",
       "      <th></th>\n",
       "      <th>text</th>\n",
       "      <th>image_name</th>\n",
       "      <th>blocked</th>\n",
       "    </tr>\n",
       "  </thead>\n",
       "  <tbody>\n",
       "    <tr>\n",
       "      <th>0</th>\n",
       "      <td>Его характер, а не цвет имеет значение</td>\n",
       "      <td>42953.png</td>\n",
       "      <td>0</td>\n",
       "    </tr>\n",
       "    <tr>\n",
       "      <th>1</th>\n",
       "      <td>Не бойтесь снова любить, все не такие, как ваш...</td>\n",
       "      <td>23058.png</td>\n",
       "      <td>0</td>\n",
       "    </tr>\n",
       "    <tr>\n",
       "      <th>2</th>\n",
       "      <td>Наносить луки на вашего питомца</td>\n",
       "      <td>13894.png</td>\n",
       "      <td>0</td>\n",
       "    </tr>\n",
       "    <tr>\n",
       "      <th>3</th>\n",
       "      <td>Я люблю все и всех! За исключением белок, я не...</td>\n",
       "      <td>37408.png</td>\n",
       "      <td>0</td>\n",
       "    </tr>\n",
       "    <tr>\n",
       "      <th>4</th>\n",
       "      <td>Все любят шоколадное печенье, даже Гитлер.</td>\n",
       "      <td>82403.png</td>\n",
       "      <td>0</td>\n",
       "    </tr>\n",
       "    <tr>\n",
       "      <th>...</th>\n",
       "      <td>...</td>\n",
       "      <td>...</td>\n",
       "      <td>...</td>\n",
       "    </tr>\n",
       "    <tr>\n",
       "      <th>8495</th>\n",
       "      <td>Никто не хочет меня повесить.</td>\n",
       "      <td>10423.png</td>\n",
       "      <td>1</td>\n",
       "    </tr>\n",
       "    <tr>\n",
       "      <th>8496</th>\n",
       "      <td>Когда Бог дарует вам ребенка после 20 лет брак...</td>\n",
       "      <td>98203.png</td>\n",
       "      <td>1</td>\n",
       "    </tr>\n",
       "    <tr>\n",
       "      <th>8497</th>\n",
       "      <td>Социальные сети: равенство! Позитивность тела!...</td>\n",
       "      <td>36947.png</td>\n",
       "      <td>1</td>\n",
       "    </tr>\n",
       "    <tr>\n",
       "      <th>8498</th>\n",
       "      <td>Плохой день? Ты можешь быть сиамским близнецом...</td>\n",
       "      <td>16492.png</td>\n",
       "      <td>1</td>\n",
       "    </tr>\n",
       "    <tr>\n",
       "      <th>8499</th>\n",
       "      <td>Я тоже ненавижу мусульман, они слишком серьезн...</td>\n",
       "      <td>15937.png</td>\n",
       "      <td>1</td>\n",
       "    </tr>\n",
       "  </tbody>\n",
       "</table>\n",
       "<p>8500 rows × 3 columns</p>\n",
       "</div>"
      ],
      "text/plain": [
       "                                                   text image_name blocked\n",
       "0                Его характер, а не цвет имеет значение  42953.png       0\n",
       "1     Не бойтесь снова любить, все не такие, как ваш...  23058.png       0\n",
       "2                       Наносить луки на вашего питомца  13894.png       0\n",
       "3     Я люблю все и всех! За исключением белок, я не...  37408.png       0\n",
       "4            Все любят шоколадное печенье, даже Гитлер.  82403.png       0\n",
       "...                                                 ...        ...     ...\n",
       "8495                      Никто не хочет меня повесить.  10423.png       1\n",
       "8496  Когда Бог дарует вам ребенка после 20 лет брак...  98203.png       1\n",
       "8497  Социальные сети: равенство! Позитивность тела!...  36947.png       1\n",
       "8498  Плохой день? Ты можешь быть сиамским близнецом...  16492.png       1\n",
       "8499  Я тоже ненавижу мусульман, они слишком серьезн...  15937.png       1\n",
       "\n",
       "[8500 rows x 3 columns]"
      ]
     },
     "metadata": {},
     "output_type": "display_data"
    },
    {
     "data": {
      "text/html": [
       "<div>\n",
       "<style scoped>\n",
       "    .dataframe tbody tr th:only-of-type {\n",
       "        vertical-align: middle;\n",
       "    }\n",
       "\n",
       "    .dataframe tbody tr th {\n",
       "        vertical-align: top;\n",
       "    }\n",
       "\n",
       "    .dataframe thead th {\n",
       "        text-align: right;\n",
       "    }\n",
       "</style>\n",
       "<table border=\"1\" class=\"dataframe\">\n",
       "  <thead>\n",
       "    <tr style=\"text-align: right;\">\n",
       "      <th></th>\n",
       "      <th>blocked</th>\n",
       "      <th>count</th>\n",
       "    </tr>\n",
       "  </thead>\n",
       "  <tbody>\n",
       "    <tr>\n",
       "      <th>0</th>\n",
       "      <td>0</td>\n",
       "      <td>5481</td>\n",
       "    </tr>\n",
       "    <tr>\n",
       "      <th>1</th>\n",
       "      <td>1</td>\n",
       "      <td>3019</td>\n",
       "    </tr>\n",
       "  </tbody>\n",
       "</table>\n",
       "</div>"
      ],
      "text/plain": [
       "   blocked  count\n",
       "0        0   5481\n",
       "1        1   3019"
      ]
     },
     "metadata": {},
     "output_type": "display_data"
    }
   ],
   "source": [
    "main_df = pd.concat([main_df, temp_df])\n",
    "display(main_df)\n",
    "display_label_stats(main_df)"
   ]
  },
  {
   "cell_type": "markdown",
   "id": "8a6f7940",
   "metadata": {},
   "source": [
    "# Final"
   ]
  },
  {
   "cell_type": "markdown",
   "id": "d9aba04d",
   "metadata": {},
   "source": [
    "## Clean"
   ]
  },
  {
   "cell_type": "code",
   "execution_count": 15,
   "id": "5e21c2e9",
   "metadata": {},
   "outputs": [],
   "source": [
    "main_df = (main_df\n",
    "           .drop(\"Unnamed: 0\", axis=1, errors=\"ignore\")           \n",
    "           .drop_duplicates()\n",
    "           .dropna(subset=[\"text\", \"image_name\", \"blocked\"]))\n",
    "main_df['blocked'] = main_df['blocked'].astype(int)"
   ]
  },
  {
   "cell_type": "code",
   "execution_count": 16,
   "id": "3a5f79f6",
   "metadata": {},
   "outputs": [
    {
     "data": {
      "text/html": [
       "<div>\n",
       "<style scoped>\n",
       "    .dataframe tbody tr th:only-of-type {\n",
       "        vertical-align: middle;\n",
       "    }\n",
       "\n",
       "    .dataframe tbody tr th {\n",
       "        vertical-align: top;\n",
       "    }\n",
       "\n",
       "    .dataframe thead th {\n",
       "        text-align: right;\n",
       "    }\n",
       "</style>\n",
       "<table border=\"1\" class=\"dataframe\">\n",
       "  <thead>\n",
       "    <tr style=\"text-align: right;\">\n",
       "      <th></th>\n",
       "      <th>blocked</th>\n",
       "      <th>count</th>\n",
       "    </tr>\n",
       "  </thead>\n",
       "  <tbody>\n",
       "    <tr>\n",
       "      <th>0</th>\n",
       "      <td>0</td>\n",
       "      <td>5481</td>\n",
       "    </tr>\n",
       "    <tr>\n",
       "      <th>1</th>\n",
       "      <td>1</td>\n",
       "      <td>3019</td>\n",
       "    </tr>\n",
       "  </tbody>\n",
       "</table>\n",
       "</div>"
      ],
      "text/plain": [
       "   blocked  count\n",
       "0        0   5481\n",
       "1        1   3019"
      ]
     },
     "metadata": {},
     "output_type": "display_data"
    },
    {
     "name": "stdout",
     "output_type": "stream",
     "text": [
      "(8500, 3)\n"
     ]
    }
   ],
   "source": [
    "display_label_stats(main_df)\n",
    "print(main_df.shape)"
   ]
  },
  {
   "cell_type": "markdown",
   "id": "06032ec9",
   "metadata": {},
   "source": [
    "## Save"
   ]
  },
  {
   "cell_type": "code",
   "execution_count": 17,
   "id": "cfb940a0",
   "metadata": {},
   "outputs": [],
   "source": [
    "preprocessed_file.parent.mkdir(exist_ok=True)\n",
    "main_df.to_csv(preprocessed_file, index=False)"
   ]
  }
 ],
 "metadata": {
  "kernelspec": {
   "display_name": ".venv",
   "language": "python",
   "name": "python3"
  },
  "language_info": {
   "codemirror_mode": {
    "name": "ipython",
    "version": 3
   },
   "file_extension": ".py",
   "mimetype": "text/x-python",
   "name": "python",
   "nbconvert_exporter": "python",
   "pygments_lexer": "ipython3",
   "version": "3.10.6"
  }
 },
 "nbformat": 4,
 "nbformat_minor": 5
}
