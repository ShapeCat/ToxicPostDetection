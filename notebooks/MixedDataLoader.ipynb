{
 "cells": [
  {
   "cell_type": "markdown",
   "id": "3bf84450",
   "metadata": {},
   "source": [
    "# Первичная настройка"
   ]
  },
  {
   "cell_type": "markdown",
   "id": "d876a0b2",
   "metadata": {},
   "source": [
    "## Настройка путей"
   ]
  },
  {
   "cell_type": "code",
   "execution_count": 6,
   "id": "3285c3b5",
   "metadata": {},
   "outputs": [],
   "source": [
    "import pandas as pd\n",
    "from pathlib import Path\n",
    "\n",
    "\n",
    "raw_dir  = Path(\"../data/raw\")\n",
    "images_dir = Path('../data/images')\n",
    "preprocessed_path = Path(\"../data/preprocessed/text-and-image.csv\")"
   ]
  },
  {
   "cell_type": "markdown",
   "id": "87509b47",
   "metadata": {},
   "source": [
    "## Проверка существоания"
   ]
  },
  {
   "cell_type": "code",
   "execution_count": 54,
   "id": "961e4cea",
   "metadata": {},
   "outputs": [],
   "source": [
    "if not preprocessed_path.exists():\n",
    "    main_df = pd.DataFrame(columns=[\"text\", \"image_name\", \"blocked\"])\n",
    "else: \n",
    "    main_df = pd.read_csv(preprocessed_path)\n",
    "images_dir.mkdir(exist_ok=True)"
   ]
  },
  {
   "cell_type": "markdown",
   "id": "ea500d66",
   "metadata": {},
   "source": [
    "# Загрузка данных"
   ]
  },
  {
   "cell_type": "markdown",
   "id": "fb2d49c5",
   "metadata": {},
   "source": [
    "## neuralcatcher/hateful_memes\n",
    "Все изображения загружаются локально из-за ограничения rate limit  \n",
    "Ссылка: https://huggingface.co/datasets/neuralcatcher/hateful_memes"
   ]
  },
  {
   "cell_type": "markdown",
   "id": "34ced962",
   "metadata": {},
   "source": [
    "### Скачивание датасета"
   ]
  },
  {
   "cell_type": "code",
   "execution_count": null,
   "id": "099bb91b",
   "metadata": {},
   "outputs": [
    {
     "name": "stderr",
     "output_type": "stream",
     "text": [
      "Repo card metadata block was not found. Setting CardData to empty.\n"
     ]
    },
    {
     "data": {
      "text/html": [
       "<div>\n",
       "<style scoped>\n",
       "    .dataframe tbody tr th:only-of-type {\n",
       "        vertical-align: middle;\n",
       "    }\n",
       "\n",
       "    .dataframe tbody tr th {\n",
       "        vertical-align: top;\n",
       "    }\n",
       "\n",
       "    .dataframe thead th {\n",
       "        text-align: right;\n",
       "    }\n",
       "</style>\n",
       "<table border=\"1\" class=\"dataframe\">\n",
       "  <thead>\n",
       "    <tr style=\"text-align: right;\">\n",
       "      <th></th>\n",
       "      <th>Unnamed: 0</th>\n",
       "      <th>id</th>\n",
       "      <th>img</th>\n",
       "      <th>label</th>\n",
       "      <th>text</th>\n",
       "    </tr>\n",
       "  </thead>\n",
       "  <tbody>\n",
       "    <tr>\n",
       "      <th>0</th>\n",
       "      <td>454</td>\n",
       "      <td>87049</td>\n",
       "      <td>img/87049.png</td>\n",
       "      <td>0</td>\n",
       "      <td>pauline hanson warns: obey our our rules our r...</td>\n",
       "    </tr>\n",
       "    <tr>\n",
       "      <th>1</th>\n",
       "      <td>773</td>\n",
       "      <td>10328</td>\n",
       "      <td>img/10328.png</td>\n",
       "      <td>1</td>\n",
       "      <td>how dikes look when they're in line paying for...</td>\n",
       "    </tr>\n",
       "    <tr>\n",
       "      <th>2</th>\n",
       "      <td>5989</td>\n",
       "      <td>16439</td>\n",
       "      <td>img/16439.png</td>\n",
       "      <td>1</td>\n",
       "      <td>cannibalism</td>\n",
       "    </tr>\n",
       "    <tr>\n",
       "      <th>3</th>\n",
       "      <td>2071</td>\n",
       "      <td>64320</td>\n",
       "      <td>img/64320.png</td>\n",
       "      <td>1</td>\n",
       "      <td>i said glass of juice not gas the jews</td>\n",
       "    </tr>\n",
       "    <tr>\n",
       "      <th>4</th>\n",
       "      <td>3704</td>\n",
       "      <td>4915</td>\n",
       "      <td>img/04915.png</td>\n",
       "      <td>0</td>\n",
       "      <td>they want this not beause they love you they n...</td>\n",
       "    </tr>\n",
       "  </tbody>\n",
       "</table>\n",
       "</div>"
      ],
      "text/plain": [
       "   Unnamed: 0     id            img  label  \\\n",
       "0         454  87049  img/87049.png      0   \n",
       "1         773  10328  img/10328.png      1   \n",
       "2        5989  16439  img/16439.png      1   \n",
       "3        2071  64320  img/64320.png      1   \n",
       "4        3704   4915  img/04915.png      0   \n",
       "\n",
       "                                                text  \n",
       "0  pauline hanson warns: obey our our rules our r...  \n",
       "1  how dikes look when they're in line paying for...  \n",
       "2                                        cannibalism  \n",
       "3             i said glass of juice not gas the jews  \n",
       "4  they want this not beause they love you they n...  "
      ]
     },
     "execution_count": 8,
     "metadata": {},
     "output_type": "execute_result"
    }
   ],
   "source": [
    "from vk_mod.data import load_from_hugginface\n",
    "\n",
    "\n",
    "max_rows = 5000\n",
    "dataset_name = \"neuralcatcher/hateful_memes\"\n",
    "ds_images_dir = Path('../data/raw/hateful_memes')\n",
    "dataset_path = Path(raw_dir, dataset_name.split('/')[-1]).with_suffix(\".csv\")\n",
    "\n",
    "\n",
    "load_from_hugginface(dataset_name, dataset_path, max_rows=max_rows)\n",
    "temp_df = pd.read_csv(dataset_path)\n",
    "temp_df.head(5)"
   ]
  },
  {
   "cell_type": "markdown",
   "id": "53e61e52",
   "metadata": {},
   "source": [
    "### Установка переводчика"
   ]
  },
  {
   "cell_type": "code",
   "execution_count": 9,
   "id": "8de5c5bd",
   "metadata": {},
   "outputs": [],
   "source": [
    "import argostranslate\n",
    "import argostranslate.package\n",
    "\n",
    "\n",
    "def install_translation_model():\n",
    "    argostranslate.package.update_package_index()\n",
    "    available_packages = argostranslate.package.get_available_packages()\n",
    "    package_to_install = next(\n",
    "        filter(\n",
    "            lambda x: x.from_code == \"en\" and x.to_code == \"ru\",\n",
    "            available_packages\n",
    "        )\n",
    "    )\n",
    "    argostranslate.package.install_from_path(package_to_install.download())\n",
    "\n",
    "install_translation_model()"
   ]
  },
  {
   "cell_type": "markdown",
   "id": "b4bd7380",
   "metadata": {},
   "source": [
    "### Перевод текстов"
   ]
  },
  {
   "cell_type": "code",
   "execution_count": 10,
   "id": "5282635a",
   "metadata": {},
   "outputs": [
    {
     "name": "stderr",
     "output_type": "stream",
     "text": [
      "100%|██████████| 5000/5000 [36:26<00:00,  2.29it/s]  \n"
     ]
    },
    {
     "data": {
      "text/html": [
       "<div>\n",
       "<style scoped>\n",
       "    .dataframe tbody tr th:only-of-type {\n",
       "        vertical-align: middle;\n",
       "    }\n",
       "\n",
       "    .dataframe tbody tr th {\n",
       "        vertical-align: top;\n",
       "    }\n",
       "\n",
       "    .dataframe thead th {\n",
       "        text-align: right;\n",
       "    }\n",
       "</style>\n",
       "<table border=\"1\" class=\"dataframe\">\n",
       "  <thead>\n",
       "    <tr style=\"text-align: right;\">\n",
       "      <th></th>\n",
       "      <th>text</th>\n",
       "      <th>image_name</th>\n",
       "      <th>blocked</th>\n",
       "    </tr>\n",
       "  </thead>\n",
       "  <tbody>\n",
       "    <tr>\n",
       "      <th>4834</th>\n",
       "      <td>Чувак, прекрати курить, это навредит тебе.</td>\n",
       "      <td>19427.png</td>\n",
       "      <td>0</td>\n",
       "    </tr>\n",
       "    <tr>\n",
       "      <th>3429</th>\n",
       "      <td>Слышу ли я флейты, барабаны и саш</td>\n",
       "      <td>59047.png</td>\n",
       "      <td>0</td>\n",
       "    </tr>\n",
       "    <tr>\n",
       "      <th>4436</th>\n",
       "      <td>А потом Трамп сказал, что я действительно умны...</td>\n",
       "      <td>09657.png</td>\n",
       "      <td>0</td>\n",
       "    </tr>\n",
       "    <tr>\n",
       "      <th>3257</th>\n",
       "      <td>Я собиралась пошутить над мусульманами, но они...</td>\n",
       "      <td>95763.png</td>\n",
       "      <td>1</td>\n",
       "    </tr>\n",
       "    <tr>\n",
       "      <th>4981</th>\n",
       "      <td>Если жизнь черных действительно имеет значение...</td>\n",
       "      <td>72084.png</td>\n",
       "      <td>1</td>\n",
       "    </tr>\n",
       "  </tbody>\n",
       "</table>\n",
       "</div>"
      ],
      "text/plain": [
       "                                                   text image_name  blocked\n",
       "4834         Чувак, прекрати курить, это навредит тебе.  19427.png        0\n",
       "3429                  Слышу ли я флейты, барабаны и саш  59047.png        0\n",
       "4436  А потом Трамп сказал, что я действительно умны...  09657.png        0\n",
       "3257  Я собиралась пошутить над мусульманами, но они...  95763.png        1\n",
       "4981  Если жизнь черных действительно имеет значение...  72084.png        1"
      ]
     },
     "metadata": {},
     "output_type": "display_data"
    },
    {
     "data": {
      "text/html": [
       "<div>\n",
       "<style scoped>\n",
       "    .dataframe tbody tr th:only-of-type {\n",
       "        vertical-align: middle;\n",
       "    }\n",
       "\n",
       "    .dataframe tbody tr th {\n",
       "        vertical-align: top;\n",
       "    }\n",
       "\n",
       "    .dataframe thead th {\n",
       "        text-align: right;\n",
       "    }\n",
       "</style>\n",
       "<table border=\"1\" class=\"dataframe\">\n",
       "  <thead>\n",
       "    <tr style=\"text-align: right;\">\n",
       "      <th></th>\n",
       "      <th>blocked</th>\n",
       "      <th>count</th>\n",
       "    </tr>\n",
       "  </thead>\n",
       "  <tbody>\n",
       "    <tr>\n",
       "      <th>0</th>\n",
       "      <td>0</td>\n",
       "      <td>3228</td>\n",
       "    </tr>\n",
       "    <tr>\n",
       "      <th>1</th>\n",
       "      <td>1</td>\n",
       "      <td>1772</td>\n",
       "    </tr>\n",
       "  </tbody>\n",
       "</table>\n",
       "</div>"
      ],
      "text/plain": [
       "   blocked  count\n",
       "0        0   3228\n",
       "1        1   1772"
      ]
     },
     "metadata": {},
     "output_type": "display_data"
    }
   ],
   "source": [
    "import argostranslate.translate\n",
    "import pandas as pd\n",
    "from tqdm import tqdm\n",
    "\n",
    "\n",
    "processed_data = []\n",
    "for index, row in tqdm(temp_df.iterrows(), total=len(temp_df)):\n",
    "    filename = row['img'].split('/')[-1]\n",
    "    try:\n",
    "        text_ru = argostranslate.translate.translate(\n",
    "            row['text'], \n",
    "            from_code=\"en\", \n",
    "            to_code=\"ru\"\n",
    "        )\n",
    "        processed_data.append({\n",
    "            'text': text_ru,\n",
    "            'image_name': filename,\n",
    "            'blocked': row['label']\n",
    "        })\n",
    "    except Exception as e:\n",
    "        print(f\"Ошибка перевода для строки {index}: {e}\")\n",
    "\n",
    "temp_df = pd.DataFrame(processed_data)\n",
    "display(temp_df.sample(5))\n",
    "display(temp_df.loc[:, temp_df.columns == \"blocked\"].value_counts().reset_index(name=\"count\"))"
   ]
  },
  {
   "cell_type": "markdown",
   "id": "f291cf0f",
   "metadata": {},
   "source": [
    "### Перенос изображений"
   ]
  },
  {
   "cell_type": "code",
   "execution_count": 32,
   "id": "8f76e03c",
   "metadata": {},
   "outputs": [
    {
     "name": "stderr",
     "output_type": "stream",
     "text": [
      "100%|██████████| 5000/5000 [00:08<00:00, 594.84it/s]\n"
     ]
    },
    {
     "data": {
      "text/html": [
       "<div>\n",
       "<style scoped>\n",
       "    .dataframe tbody tr th:only-of-type {\n",
       "        vertical-align: middle;\n",
       "    }\n",
       "\n",
       "    .dataframe tbody tr th {\n",
       "        vertical-align: top;\n",
       "    }\n",
       "\n",
       "    .dataframe thead th {\n",
       "        text-align: right;\n",
       "    }\n",
       "</style>\n",
       "<table border=\"1\" class=\"dataframe\">\n",
       "  <thead>\n",
       "    <tr style=\"text-align: right;\">\n",
       "      <th></th>\n",
       "      <th>text</th>\n",
       "      <th>image_name</th>\n",
       "      <th>blocked</th>\n",
       "    </tr>\n",
       "  </thead>\n",
       "  <tbody>\n",
       "    <tr>\n",
       "      <th>2659</th>\n",
       "      <td>Когда вы случайно желаете «сладких снов» своем...</td>\n",
       "      <td>23174.png</td>\n",
       "      <td>1</td>\n",
       "    </tr>\n",
       "    <tr>\n",
       "      <th>1829</th>\n",
       "      <td>кот Брюса Дженнера</td>\n",
       "      <td>70356.png</td>\n",
       "      <td>1</td>\n",
       "    </tr>\n",
       "    <tr>\n",
       "      <th>1330</th>\n",
       "      <td>Я положил \"обезьяну\" в изнасилование</td>\n",
       "      <td>49807.png</td>\n",
       "      <td>0</td>\n",
       "    </tr>\n",
       "    <tr>\n",
       "      <th>872</th>\n",
       "      <td>Хороший день для селфи</td>\n",
       "      <td>94731.png</td>\n",
       "      <td>0</td>\n",
       "    </tr>\n",
       "    <tr>\n",
       "      <th>2062</th>\n",
       "      <td>Хватит дурачиться.</td>\n",
       "      <td>80927.png</td>\n",
       "      <td>0</td>\n",
       "    </tr>\n",
       "  </tbody>\n",
       "</table>\n",
       "</div>"
      ],
      "text/plain": [
       "                                                   text image_name  blocked\n",
       "2659  Когда вы случайно желаете «сладких снов» своем...  23174.png        1\n",
       "1829                                 кот Брюса Дженнера  70356.png        1\n",
       "1330               Я положил \"обезьяну\" в изнасилование  49807.png        0\n",
       "872                              Хороший день для селфи  94731.png        0\n",
       "2062                                 Хватит дурачиться.  80927.png        0"
      ]
     },
     "metadata": {},
     "output_type": "display_data"
    },
    {
     "data": {
      "text/html": [
       "<div>\n",
       "<style scoped>\n",
       "    .dataframe tbody tr th:only-of-type {\n",
       "        vertical-align: middle;\n",
       "    }\n",
       "\n",
       "    .dataframe tbody tr th {\n",
       "        vertical-align: top;\n",
       "    }\n",
       "\n",
       "    .dataframe thead th {\n",
       "        text-align: right;\n",
       "    }\n",
       "</style>\n",
       "<table border=\"1\" class=\"dataframe\">\n",
       "  <thead>\n",
       "    <tr style=\"text-align: right;\">\n",
       "      <th></th>\n",
       "      <th>blocked</th>\n",
       "      <th>count</th>\n",
       "    </tr>\n",
       "  </thead>\n",
       "  <tbody>\n",
       "    <tr>\n",
       "      <th>0</th>\n",
       "      <td>0</td>\n",
       "      <td>2538</td>\n",
       "    </tr>\n",
       "    <tr>\n",
       "      <th>1</th>\n",
       "      <td>1</td>\n",
       "      <td>1404</td>\n",
       "    </tr>\n",
       "  </tbody>\n",
       "</table>\n",
       "</div>"
      ],
      "text/plain": [
       "   blocked  count\n",
       "0        0   2538\n",
       "1        1   1404"
      ]
     },
     "metadata": {},
     "output_type": "display_data"
    }
   ],
   "source": [
    "import shutil\n",
    "from tqdm import tqdm\n",
    "\n",
    "cleaned_data = []\n",
    "for index, row in tqdm(temp_df.iterrows(), total=len(temp_df)):\n",
    "    initial_path = Path(ds_images_dir, row[\"image_name\"])\n",
    "    target_path = Path(images_dir, row[\"image_name\"])\n",
    "    try:\n",
    "        shutil.copy(initial_path, target_path)\n",
    "        cleaned_data.append({\n",
    "            'text': row[\"text\"],\n",
    "            'image_name': row[\"image_name\"],\n",
    "            'blocked': row[\"blocked\"]\n",
    "        })\n",
    "    except Exception as e:\n",
    "        pass\n",
    "temp_df = pd.DataFrame(cleaned_data)\n",
    "display(temp_df.sample(5))\n",
    "display(temp_df.loc[:, temp_df.columns == \"blocked\"].value_counts().reset_index(name=\"count\"))"
   ]
  },
  {
   "cell_type": "markdown",
   "id": "0ef779a7",
   "metadata": {},
   "source": [
    "### Обьединение с основным датасетом"
   ]
  },
  {
   "cell_type": "code",
   "execution_count": 33,
   "id": "7635f904",
   "metadata": {},
   "outputs": [
    {
     "data": {
      "text/html": [
       "<div>\n",
       "<style scoped>\n",
       "    .dataframe tbody tr th:only-of-type {\n",
       "        vertical-align: middle;\n",
       "    }\n",
       "\n",
       "    .dataframe tbody tr th {\n",
       "        vertical-align: top;\n",
       "    }\n",
       "\n",
       "    .dataframe thead th {\n",
       "        text-align: right;\n",
       "    }\n",
       "</style>\n",
       "<table border=\"1\" class=\"dataframe\">\n",
       "  <thead>\n",
       "    <tr style=\"text-align: right;\">\n",
       "      <th></th>\n",
       "      <th>Unnamed: 0</th>\n",
       "      <th>text</th>\n",
       "      <th>image_name</th>\n",
       "      <th>blocked</th>\n",
       "    </tr>\n",
       "  </thead>\n",
       "  <tbody>\n",
       "    <tr>\n",
       "      <th>38212</th>\n",
       "      <td>29712.0</td>\n",
       "      <td>Этот ниггер тупой           https://t.co/OGvw5...</td>\n",
       "      <td>1115786429974700033.jpg</td>\n",
       "      <td>0</td>\n",
       "    </tr>\n",
       "    <tr>\n",
       "      <th>7967</th>\n",
       "      <td>7967.0</td>\n",
       "      <td>Я буду ненавидеть то, как я говорю, я гарантир...</td>\n",
       "      <td>72805.png</td>\n",
       "      <td>0</td>\n",
       "    </tr>\n",
       "    <tr>\n",
       "      <th>57925</th>\n",
       "      <td>49425.0</td>\n",
       "      <td>Познакомьтесь с новейшим теоретиком заговора в...</td>\n",
       "      <td>1045032938243534848.jpg</td>\n",
       "      <td>0</td>\n",
       "    </tr>\n",
       "    <tr>\n",
       "      <th>29233</th>\n",
       "      <td>20733.0</td>\n",
       "      <td>Припаркованная сука нигга https://t.co/IpxtFknrQH</td>\n",
       "      <td>1113149506659512320.jpg</td>\n",
       "      <td>0</td>\n",
       "    </tr>\n",
       "    <tr>\n",
       "      <th>53219</th>\n",
       "      <td>44719.0</td>\n",
       "      <td>@EmonieMonaee 5’8... но Лил Нигга заставил мен...</td>\n",
       "      <td>1114256906124767232.jpg</td>\n",
       "      <td>0</td>\n",
       "    </tr>\n",
       "  </tbody>\n",
       "</table>\n",
       "</div>"
      ],
      "text/plain": [
       "       Unnamed: 0                                               text  \\\n",
       "38212     29712.0  Этот ниггер тупой           https://t.co/OGvw5...   \n",
       "7967       7967.0  Я буду ненавидеть то, как я говорю, я гарантир...   \n",
       "57925     49425.0  Познакомьтесь с новейшим теоретиком заговора в...   \n",
       "29233     20733.0  Припаркованная сука нигга https://t.co/IpxtFknrQH   \n",
       "53219     44719.0  @EmonieMonaee 5’8... но Лил Нигга заставил мен...   \n",
       "\n",
       "                    image_name  blocked  \n",
       "38212  1115786429974700033.jpg        0  \n",
       "7967                 72805.png        0  \n",
       "57925  1045032938243534848.jpg        0  \n",
       "29233  1113149506659512320.jpg        0  \n",
       "53219  1114256906124767232.jpg        0  "
      ]
     },
     "metadata": {},
     "output_type": "display_data"
    }
   ],
   "source": [
    "main_df = pd.concat([main_df, temp_df])\n",
    "display(main_df.sample(5))"
   ]
  },
  {
   "cell_type": "markdown",
   "id": "b60e26b7",
   "metadata": {},
   "source": [
    "## victorcallejasf/multimodal-hate-speech\n",
    "Датасет загружается локально из-за размера  \n",
    "Ссылка: https://www.kaggle.com/datasets/victorcallejasf/multimodal-hate-speech"
   ]
  },
  {
   "cell_type": "markdown",
   "id": "ff548def",
   "metadata": {},
   "source": [
    "### Скачивание датасета"
   ]
  },
  {
   "cell_type": "code",
   "execution_count": 38,
   "id": "b6525f70",
   "metadata": {},
   "outputs": [],
   "source": [
    "import json\n",
    "from pathlib import Path\n",
    "\n",
    "\n",
    "dataset_path = Path(\"../data/raw/MMHS150K_GT.json\")\n",
    "ds_images_dir = Path(\"../data/raw/MMHS150K/img_resized\")\n",
    "with open(dataset_path, 'r', encoding='utf-8') as f:\n",
    "    data_dict = json.load(f)"
   ]
  },
  {
   "cell_type": "markdown",
   "id": "7f10be61",
   "metadata": {},
   "source": [
    "### Перевод текстов"
   ]
  },
  {
   "cell_type": "code",
   "execution_count": 42,
   "id": "6e123f2f",
   "metadata": {},
   "outputs": [
    {
     "name": "stderr",
     "output_type": "stream",
     "text": [
      "  0%|          | 0/27000 [00:00<?, ?it/s]"
     ]
    },
    {
     "name": "stderr",
     "output_type": "stream",
     "text": [
      "100%|██████████| 27000/27000 [6:04:46<00:00,  1.23it/s]   \n"
     ]
    },
    {
     "data": {
      "text/html": [
       "<div>\n",
       "<style scoped>\n",
       "    .dataframe tbody tr th:only-of-type {\n",
       "        vertical-align: middle;\n",
       "    }\n",
       "\n",
       "    .dataframe tbody tr th {\n",
       "        vertical-align: top;\n",
       "    }\n",
       "\n",
       "    .dataframe thead th {\n",
       "        text-align: right;\n",
       "    }\n",
       "</style>\n",
       "<table border=\"1\" class=\"dataframe\">\n",
       "  <thead>\n",
       "    <tr style=\"text-align: right;\">\n",
       "      <th></th>\n",
       "      <th>image_name</th>\n",
       "      <th>text</th>\n",
       "      <th>blocked</th>\n",
       "    </tr>\n",
       "  </thead>\n",
       "  <tbody>\n",
       "    <tr>\n",
       "      <th>2082</th>\n",
       "      <td>1105565344347770880.jpg</td>\n",
       "      <td>Когда один нигга стоит в турни https://t.co/RC...</td>\n",
       "      <td>0</td>\n",
       "    </tr>\n",
       "    <tr>\n",
       "      <th>5728</th>\n",
       "      <td>1110268253153255424.jpg</td>\n",
       "      <td>Молодой нигга Блиссссед! https://t.co/hlAzKUdBmq</td>\n",
       "      <td>0</td>\n",
       "    </tr>\n",
       "    <tr>\n",
       "      <th>26401</th>\n",
       "      <td>1054515930514878464.jpg</td>\n",
       "      <td>@tetsupay @tsubasa_yozawa Высококачественный t...</td>\n",
       "      <td>0</td>\n",
       "    </tr>\n",
       "    <tr>\n",
       "      <th>4401</th>\n",
       "      <td>1063734190842081280.jpg</td>\n",
       "      <td>Я только что поняла, что Элмер Фадд - чертова ...</td>\n",
       "      <td>1</td>\n",
       "    </tr>\n",
       "    <tr>\n",
       "      <th>16630</th>\n",
       "      <td>1116078230761558016.jpg</td>\n",
       "      <td>Юртта мир Чиханда мир мой ниггер https://t.co/...</td>\n",
       "      <td>0</td>\n",
       "    </tr>\n",
       "  </tbody>\n",
       "</table>\n",
       "</div>"
      ],
      "text/plain": [
       "                    image_name  \\\n",
       "2082   1105565344347770880.jpg   \n",
       "5728   1110268253153255424.jpg   \n",
       "26401  1054515930514878464.jpg   \n",
       "4401   1063734190842081280.jpg   \n",
       "16630  1116078230761558016.jpg   \n",
       "\n",
       "                                                    text  blocked  \n",
       "2082   Когда один нигга стоит в турни https://t.co/RC...        0  \n",
       "5728    Молодой нигга Блиссссед! https://t.co/hlAzKUdBmq        0  \n",
       "26401  @tetsupay @tsubasa_yozawa Высококачественный t...        0  \n",
       "4401   Я только что поняла, что Элмер Фадд - чертова ...        1  \n",
       "16630  Юртта мир Чиханда мир мой ниггер https://t.co/...        0  "
      ]
     },
     "metadata": {},
     "output_type": "display_data"
    },
    {
     "data": {
      "text/html": [
       "<div>\n",
       "<style scoped>\n",
       "    .dataframe tbody tr th:only-of-type {\n",
       "        vertical-align: middle;\n",
       "    }\n",
       "\n",
       "    .dataframe tbody tr th {\n",
       "        vertical-align: top;\n",
       "    }\n",
       "\n",
       "    .dataframe thead th {\n",
       "        text-align: right;\n",
       "    }\n",
       "</style>\n",
       "<table border=\"1\" class=\"dataframe\">\n",
       "  <thead>\n",
       "    <tr style=\"text-align: right;\">\n",
       "      <th></th>\n",
       "      <th>blocked</th>\n",
       "      <th>count</th>\n",
       "    </tr>\n",
       "  </thead>\n",
       "  <tbody>\n",
       "    <tr>\n",
       "      <th>0</th>\n",
       "      <td>0</td>\n",
       "      <td>19258</td>\n",
       "    </tr>\n",
       "    <tr>\n",
       "      <th>1</th>\n",
       "      <td>1</td>\n",
       "      <td>7742</td>\n",
       "    </tr>\n",
       "  </tbody>\n",
       "</table>\n",
       "</div>"
      ],
      "text/plain": [
       "   blocked  count\n",
       "0        0  19258\n",
       "1        1   7742"
      ]
     },
     "metadata": {},
     "output_type": "display_data"
    }
   ],
   "source": [
    "import argostranslate.translate\n",
    "from tqdm import tqdm\n",
    "from itertools import islice\n",
    "\n",
    "max_items = 27000\n",
    "procesesed_data = []\n",
    "\n",
    "for index, row in tqdm(islice(data_dict.items(), max_items), total=max_items):\n",
    "    text = argostranslate.translate.translate(\n",
    "                                        row['tweet_text'],\n",
    "                                        from_code=\"en\",\n",
    "                                        to_code=\"ru\"\n",
    "                                        )\n",
    "    labels = [1 for label in row['labels'] if label != 0]\n",
    "    label = 1 if sum(labels) >= 2 else 0\n",
    "    filename = f\"{index}.jpg\"\n",
    "    procesesed_data.append({\n",
    "        \"image_name\": filename,\n",
    "        \"text\": text,\n",
    "        \"blocked\": label\n",
    "    })\n",
    "temp_df = pd.DataFrame(procesesed_data)\n",
    "display(temp_df.sample(5))\n",
    "display(temp_df.loc[:, temp_df.columns == \"blocked\"].value_counts().reset_index(name=\"count\"))"
   ]
  },
  {
   "cell_type": "markdown",
   "id": "49ba0093",
   "metadata": {},
   "source": [
    "### Перенос изображений"
   ]
  },
  {
   "cell_type": "code",
   "execution_count": 44,
   "id": "416cbfce",
   "metadata": {},
   "outputs": [
    {
     "name": "stderr",
     "output_type": "stream",
     "text": [
      "100%|██████████| 27000/27000 [01:13<00:00, 368.67it/s]\n"
     ]
    },
    {
     "data": {
      "text/html": [
       "<div>\n",
       "<style scoped>\n",
       "    .dataframe tbody tr th:only-of-type {\n",
       "        vertical-align: middle;\n",
       "    }\n",
       "\n",
       "    .dataframe tbody tr th {\n",
       "        vertical-align: top;\n",
       "    }\n",
       "\n",
       "    .dataframe thead th {\n",
       "        text-align: right;\n",
       "    }\n",
       "</style>\n",
       "<table border=\"1\" class=\"dataframe\">\n",
       "  <thead>\n",
       "    <tr style=\"text-align: right;\">\n",
       "      <th></th>\n",
       "      <th>text</th>\n",
       "      <th>image_name</th>\n",
       "      <th>blocked</th>\n",
       "    </tr>\n",
       "  </thead>\n",
       "  <tbody>\n",
       "    <tr>\n",
       "      <th>4921</th>\n",
       "      <td>Вы можете спорить со своими родителями Buh cas...</td>\n",
       "      <td>1114185027040968704.jpg</td>\n",
       "      <td>1</td>\n",
       "    </tr>\n",
       "    <tr>\n",
       "      <th>10004</th>\n",
       "      <td>RT me if you think I'm a pathetic faggot https...</td>\n",
       "      <td>1105493926780248070.jpg</td>\n",
       "      <td>1</td>\n",
       "    </tr>\n",
       "    <tr>\n",
       "      <th>12171</th>\n",
       "      <td>Этот ниггер думал, что это фотография. https:/...</td>\n",
       "      <td>1113974771967041536.jpg</td>\n",
       "      <td>1</td>\n",
       "    </tr>\n",
       "    <tr>\n",
       "      <th>25292</th>\n",
       "      <td>Они любят меня, потому что я холодный, и вы не...</td>\n",
       "      <td>1114725029420457984.jpg</td>\n",
       "      <td>0</td>\n",
       "    </tr>\n",
       "    <tr>\n",
       "      <th>18940</th>\n",
       "      <td>Сдаться сегодня? https://t.co/6t4nqzpMF1</td>\n",
       "      <td>1108091721005436928.jpg</td>\n",
       "      <td>1</td>\n",
       "    </tr>\n",
       "  </tbody>\n",
       "</table>\n",
       "</div>"
      ],
      "text/plain": [
       "                                                    text  \\\n",
       "4921   Вы можете спорить со своими родителями Buh cas...   \n",
       "10004  RT me if you think I'm a pathetic faggot https...   \n",
       "12171  Этот ниггер думал, что это фотография. https:/...   \n",
       "25292  Они любят меня, потому что я холодный, и вы не...   \n",
       "18940           Сдаться сегодня? https://t.co/6t4nqzpMF1   \n",
       "\n",
       "                    image_name  blocked  \n",
       "4921   1114185027040968704.jpg        1  \n",
       "10004  1105493926780248070.jpg        1  \n",
       "12171  1113974771967041536.jpg        1  \n",
       "25292  1114725029420457984.jpg        0  \n",
       "18940  1108091721005436928.jpg        1  "
      ]
     },
     "metadata": {},
     "output_type": "display_data"
    },
    {
     "data": {
      "text/html": [
       "<div>\n",
       "<style scoped>\n",
       "    .dataframe tbody tr th:only-of-type {\n",
       "        vertical-align: middle;\n",
       "    }\n",
       "\n",
       "    .dataframe tbody tr th {\n",
       "        vertical-align: top;\n",
       "    }\n",
       "\n",
       "    .dataframe thead th {\n",
       "        text-align: right;\n",
       "    }\n",
       "</style>\n",
       "<table border=\"1\" class=\"dataframe\">\n",
       "  <thead>\n",
       "    <tr style=\"text-align: right;\">\n",
       "      <th></th>\n",
       "      <th>blocked</th>\n",
       "      <th>count</th>\n",
       "    </tr>\n",
       "  </thead>\n",
       "  <tbody>\n",
       "    <tr>\n",
       "      <th>0</th>\n",
       "      <td>0</td>\n",
       "      <td>19258</td>\n",
       "    </tr>\n",
       "    <tr>\n",
       "      <th>1</th>\n",
       "      <td>1</td>\n",
       "      <td>7742</td>\n",
       "    </tr>\n",
       "  </tbody>\n",
       "</table>\n",
       "</div>"
      ],
      "text/plain": [
       "   blocked  count\n",
       "0        0  19258\n",
       "1        1   7742"
      ]
     },
     "metadata": {},
     "output_type": "display_data"
    }
   ],
   "source": [
    "import shutil\n",
    "from tqdm import tqdm\n",
    "\n",
    "\n",
    "cleaned_data = []\n",
    "for index, row in tqdm(temp_df.iterrows(), total=len(temp_df)):\n",
    "    initial_path = Path(ds_images_dir, row[\"image_name\"])\n",
    "    target_path = Path(images_dir, row[\"image_name\"])\n",
    "    try:\n",
    "        shutil.copy(initial_path, target_path)\n",
    "        cleaned_data.append({\n",
    "            'text': row[\"text\"],\n",
    "            'image_name': row[\"image_name\"],\n",
    "            'blocked': row[\"blocked\"]\n",
    "        })\n",
    "    except Exception as e:\n",
    "        pass\n",
    "temp_df = pd.DataFrame(cleaned_data)\n",
    "display(temp_df.sample(5))\n",
    "display(temp_df.loc[:, temp_df.columns == \"blocked\"].value_counts().reset_index(name=\"count\"))"
   ]
  },
  {
   "cell_type": "code",
   "execution_count": 55,
   "id": "cc9535a8",
   "metadata": {},
   "outputs": [
    {
     "data": {
      "text/html": [
       "<div>\n",
       "<style scoped>\n",
       "    .dataframe tbody tr th:only-of-type {\n",
       "        vertical-align: middle;\n",
       "    }\n",
       "\n",
       "    .dataframe tbody tr th {\n",
       "        vertical-align: top;\n",
       "    }\n",
       "\n",
       "    .dataframe thead th {\n",
       "        text-align: right;\n",
       "    }\n",
       "</style>\n",
       "<table border=\"1\" class=\"dataframe\">\n",
       "  <thead>\n",
       "    <tr style=\"text-align: right;\">\n",
       "      <th></th>\n",
       "      <th>text</th>\n",
       "      <th>image_name</th>\n",
       "      <th>blocked</th>\n",
       "    </tr>\n",
       "  </thead>\n",
       "  <tbody>\n",
       "    <tr>\n",
       "      <th>0</th>\n",
       "      <td>@FriskDontMiss Нигга https://t.co/cAsaLWEpue</td>\n",
       "      <td>1114679353714016256.jpg</td>\n",
       "      <td>1</td>\n",
       "    </tr>\n",
       "    <tr>\n",
       "      <th>1</th>\n",
       "      <td>Мои лошади отсталые https://t.co/HYhqc6d5WN</td>\n",
       "      <td>1063020048816660480.jpg</td>\n",
       "      <td>1</td>\n",
       "    </tr>\n",
       "    <tr>\n",
       "      <th>2</th>\n",
       "      <td>\"NIGGA ON MA MOMMA YOUNGBOY BE SPITTING REAL S...</td>\n",
       "      <td>1108927368075374593.jpg</td>\n",
       "      <td>0</td>\n",
       "    </tr>\n",
       "    <tr>\n",
       "      <th>3</th>\n",
       "      <td>RT xxSuGVNGxx: Я наткнулся на эту СВЕРХОВУЮ НЬ...</td>\n",
       "      <td>1114558534635618305.jpg</td>\n",
       "      <td>0</td>\n",
       "    </tr>\n",
       "    <tr>\n",
       "      <th>4</th>\n",
       "      <td>Все зовут тебя Ниггер! https://t.co/6mguJ6KIBF</td>\n",
       "      <td>1035252480215592966.jpg</td>\n",
       "      <td>1</td>\n",
       "    </tr>\n",
       "    <tr>\n",
       "      <th>...</th>\n",
       "      <td>...</td>\n",
       "      <td>...</td>\n",
       "      <td>...</td>\n",
       "    </tr>\n",
       "    <tr>\n",
       "      <th>26995</th>\n",
       "      <td>#HEEJIN: права дамб! https://t.co/YPh16vwbkv</td>\n",
       "      <td>1115362312582516738.jpg</td>\n",
       "      <td>0</td>\n",
       "    </tr>\n",
       "    <tr>\n",
       "      <th>26996</th>\n",
       "      <td>Wtf my nigga #PS4share https://t.co/QeUYQYASZy...</td>\n",
       "      <td>1107008893304127493.jpg</td>\n",
       "      <td>0</td>\n",
       "    </tr>\n",
       "    <tr>\n",
       "      <th>26997</th>\n",
       "      <td>@MenaaSzn @SaeddyJ Lmaoooooooooo nigga said ru...</td>\n",
       "      <td>1108918680795131906.jpg</td>\n",
       "      <td>0</td>\n",
       "    </tr>\n",
       "    <tr>\n",
       "      <th>26998</th>\n",
       "      <td>@CNN Я знал, что мы должны бояться того, что о...</td>\n",
       "      <td>1037251470847029248.jpg</td>\n",
       "      <td>1</td>\n",
       "    </tr>\n",
       "    <tr>\n",
       "      <th>26999</th>\n",
       "      <td>Думаю, я сделаю бутерброд, как бедный ниггер. ...</td>\n",
       "      <td>1110385861856817153.jpg</td>\n",
       "      <td>0</td>\n",
       "    </tr>\n",
       "  </tbody>\n",
       "</table>\n",
       "<p>27000 rows × 3 columns</p>\n",
       "</div>"
      ],
      "text/plain": [
       "                                                    text  \\\n",
       "0           @FriskDontMiss Нигга https://t.co/cAsaLWEpue   \n",
       "1            Мои лошади отсталые https://t.co/HYhqc6d5WN   \n",
       "2      \"NIGGA ON MA MOMMA YOUNGBOY BE SPITTING REAL S...   \n",
       "3      RT xxSuGVNGxx: Я наткнулся на эту СВЕРХОВУЮ НЬ...   \n",
       "4         Все зовут тебя Ниггер! https://t.co/6mguJ6KIBF   \n",
       "...                                                  ...   \n",
       "26995       #HEEJIN: права дамб! https://t.co/YPh16vwbkv   \n",
       "26996  Wtf my nigga #PS4share https://t.co/QeUYQYASZy...   \n",
       "26997  @MenaaSzn @SaeddyJ Lmaoooooooooo nigga said ru...   \n",
       "26998  @CNN Я знал, что мы должны бояться того, что о...   \n",
       "26999  Думаю, я сделаю бутерброд, как бедный ниггер. ...   \n",
       "\n",
       "                    image_name blocked  \n",
       "0      1114679353714016256.jpg       1  \n",
       "1      1063020048816660480.jpg       1  \n",
       "2      1108927368075374593.jpg       0  \n",
       "3      1114558534635618305.jpg       0  \n",
       "4      1035252480215592966.jpg       1  \n",
       "...                        ...     ...  \n",
       "26995  1115362312582516738.jpg       0  \n",
       "26996  1107008893304127493.jpg       0  \n",
       "26997  1108918680795131906.jpg       0  \n",
       "26998  1037251470847029248.jpg       1  \n",
       "26999  1110385861856817153.jpg       0  \n",
       "\n",
       "[27000 rows x 3 columns]"
      ]
     },
     "metadata": {},
     "output_type": "display_data"
    }
   ],
   "source": [
    "main_df = pd.concat([main_df, temp_df])\n",
    "display(main_df)"
   ]
  },
  {
   "cell_type": "markdown",
   "id": "8a6f7940",
   "metadata": {},
   "source": [
    "# Final"
   ]
  },
  {
   "cell_type": "markdown",
   "id": "d9aba04d",
   "metadata": {},
   "source": [
    "## Clean"
   ]
  },
  {
   "cell_type": "code",
   "execution_count": 56,
   "id": "5e21c2e9",
   "metadata": {},
   "outputs": [],
   "source": [
    "main_df = (main_df\n",
    "           .drop(\"Unnamed: 0\", axis=1, errors=\"ignore\")           \n",
    "           .drop_duplicates()\n",
    "           .dropna(subset=[\"text\", \"image_name\", \"blocked\"]))\n",
    "main_df['blocked'] = main_df['blocked'].astype(int)"
   ]
  },
  {
   "cell_type": "code",
   "execution_count": 57,
   "id": "3a5f79f6",
   "metadata": {},
   "outputs": [
    {
     "data": {
      "text/html": [
       "<div>\n",
       "<style scoped>\n",
       "    .dataframe tbody tr th:only-of-type {\n",
       "        vertical-align: middle;\n",
       "    }\n",
       "\n",
       "    .dataframe tbody tr th {\n",
       "        vertical-align: top;\n",
       "    }\n",
       "\n",
       "    .dataframe thead th {\n",
       "        text-align: right;\n",
       "    }\n",
       "</style>\n",
       "<table border=\"1\" class=\"dataframe\">\n",
       "  <thead>\n",
       "    <tr style=\"text-align: right;\">\n",
       "      <th></th>\n",
       "      <th>blocked</th>\n",
       "      <th>count</th>\n",
       "    </tr>\n",
       "  </thead>\n",
       "  <tbody>\n",
       "    <tr>\n",
       "      <th>0</th>\n",
       "      <td>0</td>\n",
       "      <td>19258</td>\n",
       "    </tr>\n",
       "    <tr>\n",
       "      <th>1</th>\n",
       "      <td>1</td>\n",
       "      <td>7742</td>\n",
       "    </tr>\n",
       "  </tbody>\n",
       "</table>\n",
       "</div>"
      ],
      "text/plain": [
       "   blocked  count\n",
       "0        0  19258\n",
       "1        1   7742"
      ]
     },
     "metadata": {},
     "output_type": "display_data"
    },
    {
     "name": "stdout",
     "output_type": "stream",
     "text": [
      "(27000, 3)\n"
     ]
    }
   ],
   "source": [
    "display(main_df.loc[:, main_df.columns == \"blocked\"].value_counts().reset_index(name=\"count\"))\n",
    "print(main_df.shape)"
   ]
  },
  {
   "cell_type": "markdown",
   "id": "06032ec9",
   "metadata": {},
   "source": [
    "## Save"
   ]
  },
  {
   "cell_type": "code",
   "execution_count": 58,
   "id": "cfb940a0",
   "metadata": {},
   "outputs": [],
   "source": [
    "preprocessed_path.parent.mkdir(exist_ok=True)\n",
    "main_df.to_csv(preprocessed_path, index=False)"
   ]
  }
 ],
 "metadata": {
  "kernelspec": {
   "display_name": ".venv",
   "language": "python",
   "name": "python3"
  },
  "language_info": {
   "codemirror_mode": {
    "name": "ipython",
    "version": 3
   },
   "file_extension": ".py",
   "mimetype": "text/x-python",
   "name": "python",
   "nbconvert_exporter": "python",
   "pygments_lexer": "ipython3",
   "version": "3.10.6"
  }
 },
 "nbformat": 4,
 "nbformat_minor": 5
}
