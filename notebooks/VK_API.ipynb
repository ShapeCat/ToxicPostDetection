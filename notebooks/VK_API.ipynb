{
 "cells": [
  {
   "cell_type": "code",
   "execution_count": 1,
   "metadata": {},
   "outputs": [
    {
     "name": "stdout",
     "output_type": "stream",
     "text": [
      "Проверка настроек:\n",
      "    APP_ID: True\n",
      "    ACCESS_TOKEN: True\n",
      "    APP_SERVICE_KEY: True\n",
      "    COMMUNITY_ID: True\n",
      "    ADMIN_ID: True\n",
      "    COMMUNITY_KEY: True\n",
      "\n"
     ]
    }
   ],
   "source": [
    "from vk_mod.utils.environment import load_env\n",
    "\n",
    "\n",
    "app_id = int(load_env(\"APP_ID\"))\n",
    "access_token = load_env(\"ACCESS_TOKEN\")\n",
    "app_service_key = load_env(\"APP_SERVICE_KEY\")\n",
    "community_id = int(load_env(\"COMMUNITY_ID\"))\n",
    "admin_id = int(load_env(\"ADMIN_ID\"))\n",
    "community_key = load_env(\"COMMUNITY_KEY\")\n",
    "\n",
    "print(f'''Проверка настроек:\n",
    "    APP_ID: {bool(app_id)}\n",
    "    ACCESS_TOKEN: {bool(access_token)}\n",
    "    APP_SERVICE_KEY: {bool(app_service_key)}\n",
    "    COMMUNITY_ID: {bool(community_id)}\n",
    "    ADMIN_ID: {bool(admin_id)}\n",
    "    COMMUNITY_KEY: {bool(community_key)}\n",
    "''')"
   ]
  },
  {
   "cell_type": "code",
   "execution_count": 2,
   "metadata": {},
   "outputs": [],
   "source": [
    "def display_post(post_data:dict) -> None:\n",
    "    print(f'''\n",
    "        Id: {post_data[\"id\"]}\n",
    "        Время публикации: {post_data['date']}\n",
    "        Текст: {post_data[\"text\"]}\n",
    "        Приложения: {post_data[\"attachments\"][0][\"type\"] if post_data[\"attachments\"] else None}\n",
    "        Владелец: {post_data[\"from_id\"]}\n",
    "        Комментарии: {len(post_data[\"comments\"]) if post_data[\"attachments\"] else None}\n",
    "    ''')\n",
    "\n",
    "\n",
    "def display_commentary(commantrary_data:dict) -> None:\n",
    "        print(f'''\n",
    "        Id: {commantrary_data[\"id\"]}\n",
    "        Время публикации: {commantrary_data['date']}\n",
    "        Id поста: {commantrary_data['post_id']}\n",
    "        Текст: {commantrary_data[\"text\"]}\n",
    "        Владелец: {commantrary_data[\"from_id\"]}\n",
    "    ''')\n",
    "        \n",
    "def display_message(message:dict) -> None:\n",
    "        print(f'''\n",
    "        Id: {message[\"id\"]}\n",
    "        cmid: {message[\"conversation_message_id\"]}\n",
    "        Чат: {message[\"peer_id\"]}\n",
    "        Время публикации: {message['date']}\n",
    "        Текст: {message[\"text\"]}\n",
    "        Приложения: {message[\"attachments\"][0][\"type\"] if message[\"attachments\"] else None}\n",
    "        Владелец: {message[\"from_id\"]}\n",
    "    ''')"
   ]
  },
  {
   "cell_type": "code",
   "execution_count": 3,
   "metadata": {},
   "outputs": [],
   "source": [
    "import random, time\n",
    "from vk_mod.api import VK_API\n",
    "\n",
    "\n",
    "vk_api = VK_API(access_token, community_key, app_service_key, admin_id)"
   ]
  },
  {
   "cell_type": "code",
   "execution_count": 4,
   "metadata": {},
   "outputs": [
    {
     "name": "stdout",
     "output_type": "stream",
     "text": [
      "Всего постов: 5\n",
      "Последние посты:\n",
      "\n",
      "        Id: 13\n",
      "        Время публикации: 1743329486\n",
      "        Текст: post\n",
      "        Приложения: None\n",
      "        Владелец: -229873554\n",
      "        Комментарии: None\n",
      "    \n",
      "\n",
      "        Id: 4\n",
      "        Время публикации: 1743012192\n",
      "        Текст: Пост 4\n",
      "        Приложения: None\n",
      "        Владелец: -229873554\n",
      "        Комментарии: None\n",
      "    \n",
      "\n",
      "        Id: 3\n",
      "        Время публикации: 1743012184\n",
      "        Текст: Пост 3\n",
      "        Приложения: None\n",
      "        Владелец: -229873554\n",
      "        Комментарии: None\n",
      "    \n"
     ]
    }
   ],
   "source": [
    "wall_posts = vk_api.wall.get_wall_posts(community_id)\n",
    "\n",
    "print(f\"Всего постов: {len(wall_posts)}\")\n",
    "print(\"Последние посты:\")\n",
    "for post in wall_posts[:3]:\n",
    "    display_post(post)\n",
    "time.sleep(1)"
   ]
  },
  {
   "cell_type": "code",
   "execution_count": 5,
   "metadata": {},
   "outputs": [
    {
     "name": "stdout",
     "output_type": "stream",
     "text": [
      "Случаные 3 поста взятые по их Id:\n",
      "\n",
      "        Id: 1\n",
      "        Время публикации: 1743012165\n",
      "        Текст: Тестовый пост с картинкой\n",
      "        Приложения: photo\n",
      "        Владелец: -229873554\n",
      "        Комментарии: 5\n",
      "    \n",
      "\n",
      "        Id: 13\n",
      "        Время публикации: 1743329486\n",
      "        Текст: post\n",
      "        Приложения: None\n",
      "        Владелец: -229873554\n",
      "        Комментарии: None\n",
      "    \n",
      "\n",
      "        Id: 4\n",
      "        Время публикации: 1743012192\n",
      "        Текст: Пост 4\n",
      "        Приложения: None\n",
      "        Владелец: -229873554\n",
      "        Комментарии: None\n",
      "    \n"
     ]
    }
   ],
   "source": [
    "print(\"Случаные 3 поста взятые по их Id:\")\n",
    "for i in random.sample([post[\"id\"] for post in wall_posts], 3):    \n",
    "    post = vk_api.wall.get_post_by_id(i, community_id)\n",
    "    display_post(post)\n",
    "time.sleep(1)"
   ]
  },
  {
   "cell_type": "code",
   "execution_count": 6,
   "metadata": {},
   "outputs": [
    {
     "name": "stdout",
     "output_type": "stream",
     "text": [
      "Пост:\n",
      "\n",
      "        Id: 1\n",
      "        Время публикации: 1743012165\n",
      "        Текст: Тестовый пост с картинкой\n",
      "        Приложения: photo\n",
      "        Владелец: -229873554\n",
      "        Комментарии: 5\n",
      "    \n",
      "Последние 3 комментария к нему:\n",
      "\n",
      "        Id: 5\n",
      "        Время публикации: 1743012209\n",
      "        Id поста: 1\n",
      "        Текст: Комментарий 1\n",
      "        Владелец: 282286498\n",
      "    \n",
      "\n",
      "        Id: 6\n",
      "        Время публикации: 1743012214\n",
      "        Id поста: 1\n",
      "        Текст: Комментарий 2\n",
      "        Владелец: 282286498\n",
      "    \n"
     ]
    }
   ],
   "source": [
    "post = vk_api.wall.get_post_by_id(1, community_id)\n",
    "post_comments = vk_api.wall.get_post_comments(post[\"id\"], community_id)\n",
    "\n",
    "print(\"Пост:\")\n",
    "display_post(post)\n",
    "print(\"Последние 3 комментария к нему:\")\n",
    "for comment in post_comments[:3]:\n",
    "    display_commentary(comment)\n",
    "time.sleep(1)"
   ]
  },
  {
   "cell_type": "code",
   "execution_count": 7,
   "metadata": {},
   "outputs": [
    {
     "name": "stdout",
     "output_type": "stream",
     "text": [
      "Всего постов: 3\n",
      "Последние посты:\n",
      "\n",
      "        Id: 13\n",
      "        Время публикации: 1743329486\n",
      "        Текст: post\n",
      "        Приложения: None\n",
      "        Владелец: -229873554\n",
      "        Комментарии: None\n",
      "\n",
      "\n",
      "        Id: 4\n",
      "        Время публикации: 1743012192\n",
      "        Текст: Пост 4\n",
      "        Приложения: None\n",
      "        Владелец: -229873554\n",
      "        Комментарии: None\n",
      "\n",
      "\n",
      "        Id: 3\n",
      "        Время публикации: 1743012184\n",
      "        Текст: Пост 3\n",
      "        Приложения: None\n",
      "        Владелец: -229873554\n",
      "        Комментарии: None\n",
      "\n"
     ]
    }
   ],
   "source": [
    "last_update = 1743012176\n",
    "new_posts = vk_api.wall.get_new_posts_since(community_id, last_update)\n",
    "\n",
    "print(f\"Всего постов: {len(new_posts)}\")\n",
    "print(\"Последние посты:\")\n",
    "for post in new_posts[:3]:\n",
    "    print(f'''\n",
    "        Id: {post[\"id\"]}\n",
    "        Время публикации: {post['date']}\n",
    "        Текст: {post[\"text\"]}\n",
    "        Приложения: {post[\"attachments\"][0][\"type\"] if post[\"attachments\"] else None}\n",
    "        Владелец: {post[\"from_id\"]}\n",
    "        Комментарии: {len(post[\"comments\"]) if post[\"attachments\"] else None}\n",
    "''')\n",
    "time.sleep(1)"
   ]
  },
  {
   "cell_type": "code",
   "execution_count": 8,
   "metadata": {},
   "outputs": [
    {
     "name": "stdout",
     "output_type": "stream",
     "text": [
      "Id отправленного сообщения: 24\n"
     ]
    }
   ],
   "source": [
    "message_id = vk_api.chat.send_message_to_admin(\"Тестовое сообщение\")\n",
    "\n",
    "print(f\"Id отправленного сообщения: {message_id}\")"
   ]
  },
  {
   "cell_type": "code",
   "execution_count": 9,
   "metadata": {},
   "outputs": [
    {
     "name": "stdout",
     "output_type": "stream",
     "text": [
      "Всего сообщейний в чате: 10\n",
      "Первые 3 сообщения\n",
      "\n",
      "        Id: 24\n",
      "        cmid: 22\n",
      "        Чат: 282286498\n",
      "        Время публикации: 1746407900\n",
      "        Текст: Тестовое сообщение\n",
      "        Приложения: None\n",
      "        Владелец: -229873554\n",
      "    \n",
      "\n",
      "        Id: 23\n",
      "        cmid: 21\n",
      "        Чат: 282286498\n",
      "        Время публикации: 1744187203\n",
      "        Текст: Тестовое сообщение\n",
      "        Приложения: None\n",
      "        Владелец: -229873554\n",
      "    \n",
      "\n",
      "        Id: 21\n",
      "        cmid: 19\n",
      "        Чат: 282286498\n",
      "        Время публикации: 1744186370\n",
      "        Текст: Тестовое сообщение\n",
      "        Приложения: None\n",
      "        Владелец: -229873554\n",
      "    \n"
     ]
    }
   ],
   "source": [
    "messages = vk_api.chat.get_all_chat_messages()\n",
    "\n",
    "print(f\"Всего сообщейний в чате: {len(messages)}\")\n",
    "print(\"Первые 3 сообщения\")\n",
    "for message in messages[:3]:\n",
    "    display_message(message)"
   ]
  },
  {
   "cell_type": "code",
   "execution_count": 10,
   "metadata": {},
   "outputs": [
    {
     "name": "stdout",
     "output_type": "stream",
     "text": [
      "\n",
      "        Id: 24\n",
      "        cmid: 22\n",
      "        Чат: 282286498\n",
      "        Время публикации: 1746407900\n",
      "        Текст: Тестовое сообщение\n",
      "        Приложения: None\n",
      "        Владелец: -229873554\n",
      "    \n"
     ]
    }
   ],
   "source": [
    "id_to_delete = messages[0][\"conversation_message_id\"]\n",
    "message = vk_api.chat.get_message_by_id(id_to_delete)[0]\n",
    "\n",
    "display_message(message)"
   ]
  },
  {
   "cell_type": "code",
   "execution_count": 11,
   "metadata": {},
   "outputs": [
    {
     "data": {
      "text/plain": [
       "[{'peer_id': 282286498, 'conversation_message_id': 22, 'response': 1}]"
      ]
     },
     "execution_count": 11,
     "metadata": {},
     "output_type": "execute_result"
    }
   ],
   "source": [
    "vk_api.chat.delete_message(id_to_delete)"
   ]
  },
  {
   "cell_type": "code",
   "execution_count": 13,
   "metadata": {},
   "outputs": [
    {
     "name": "stdout",
     "output_type": "stream",
     "text": [
      "1\n"
     ]
    }
   ],
   "source": [
    "edited_id = vk_api.chat.edit_message(10, \"Измененное тестовое сообщение\")\n",
    "print(edited_id)"
   ]
  }
 ],
 "metadata": {
  "kernelspec": {
   "display_name": ".venv",
   "language": "python",
   "name": "python3"
  },
  "language_info": {
   "codemirror_mode": {
    "name": "ipython",
    "version": 3
   },
   "file_extension": ".py",
   "mimetype": "text/x-python",
   "name": "python",
   "nbconvert_exporter": "python",
   "pygments_lexer": "ipython3",
   "version": "3.10.6"
  }
 },
 "nbformat": 4,
 "nbformat_minor": 2
}
