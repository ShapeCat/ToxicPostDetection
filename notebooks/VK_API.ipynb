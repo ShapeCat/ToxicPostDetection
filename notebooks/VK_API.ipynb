{
 "cells": [
  {
   "cell_type": "markdown",
   "metadata": {},
   "source": [
    "# Подготовка"
   ]
  },
  {
   "cell_type": "markdown",
   "metadata": {},
   "source": [
    "## Загрузка ключей"
   ]
  },
  {
   "cell_type": "code",
   "execution_count": null,
   "metadata": {},
   "outputs": [
    {
     "name": "stdout",
     "output_type": "stream",
     "text": [
      "Проверка загрузки конфигурации:\n",
      "    ACCESS_TOKEN: True\n",
      "    COMMUNITY_ID: True\n",
      "    COMMUNITY_KEY: True\n",
      "    ADMIN_ID: True\n",
      "\n"
     ]
    }
   ],
   "source": [
    "from pathlib import Path\n",
    "from vk_mod.utils.environment import load_config\n",
    "\n",
    "config_file =  Path('../config.ini')\n",
    "\n",
    "access_token = load_config(\"ApiKeys\", \"ACCESS_TOKEN\", config_file)\n",
    "community_key = load_config(\"ApiKeys\", \"COMMUNITY_KEY\", config_file)\n",
    "community_id = load_config(\"CommunutyInfo\", \"COMMUNITY_ID\", config_file, return_type=\"int\")\n",
    "adminId = load_config(\"AdminId\", \"ADMIN_ID\", config_file, return_type=\"int\")\n",
    "\n",
    "print(f'''Проверка загрузки конфигурации:\n",
    "    ACCESS_TOKEN: {bool(access_token)}\n",
    "    COMMUNITY_ID: {bool(community_id)}\n",
    "    COMMUNITY_KEY: {bool(community_key)}\n",
    "    ADMIN_ID: {bool(adminId)}\n",
    "''')"
   ]
  },
  {
   "cell_type": "markdown",
   "metadata": {},
   "source": [
    "# Проверка методов"
   ]
  },
  {
   "cell_type": "markdown",
   "metadata": {},
   "source": [
    "## Инициализация API"
   ]
  },
  {
   "cell_type": "code",
   "execution_count": 2,
   "metadata": {},
   "outputs": [],
   "source": [
    "import time, random\n",
    "from vk_mod.api import VK_API\n",
    "\n",
    "\n",
    "vk_api = VK_API(community_key, access_token)"
   ]
  },
  {
   "cell_type": "markdown",
   "metadata": {},
   "source": [
    "## Стена сообщества"
   ]
  },
  {
   "cell_type": "markdown",
   "metadata": {},
   "source": [
    "### Получение всех постов"
   ]
  },
  {
   "cell_type": "code",
   "execution_count": 7,
   "metadata": {},
   "outputs": [
    {
     "data": {
      "text/plain": [
       "'Всего постов: 2'"
      ]
     },
     "metadata": {},
     "output_type": "display_data"
    },
    {
     "data": {
      "text/plain": [
       "[{'inner_type': 'wall_wallpost',\n",
       "  'ads_easy_promote': {'type': 1,\n",
       "   'text': '',\n",
       "   'label_text': 'Ждём команды, чтобы начать продвижение',\n",
       "   'button_text': 'Продвигать',\n",
       "   'is_ad_not_easy': False},\n",
       "  'can_edit': 1,\n",
       "  'created_by': 282286498,\n",
       "  'can_delete': 1,\n",
       "  'can_pin': 1,\n",
       "  'donut': {'is_donut': False},\n",
       "  'comments': {'can_post': 1,\n",
       "   'can_close': 1,\n",
       "   'can_view': 1,\n",
       "   'count': 0,\n",
       "   'groups_can_post': True},\n",
       "  'marked_as_ads': 0,\n",
       "  'activity': {'type': 'repost_to_story', 'discriminator': 'share_to_story'},\n",
       "  'zoom_text': True,\n",
       "  'hash': 'ZvreUhwCC4J78XkpWoPfnIwohVrm',\n",
       "  'type': 'post',\n",
       "  'push_subscription': {'is_subscribed': False},\n",
       "  'post_author_data': {'author': 282286498},\n",
       "  'attachments': [],\n",
       "  'date': 1750561640,\n",
       "  'from_id': -229873554,\n",
       "  'id': 102,\n",
       "  'is_favorite': False,\n",
       "  'likes': {'can_like': 1,\n",
       "   'count': 0,\n",
       "   'user_likes': 0,\n",
       "   'can_publish': 1,\n",
       "   'repost_disabled': False},\n",
       "  'reaction_set_id': 'reactions',\n",
       "  'owner_id': -229873554,\n",
       "  'post_source': {'type': 'api'},\n",
       "  'post_type': 'post',\n",
       "  'reposts': {'count': 0,\n",
       "   'wall_count': 0,\n",
       "   'mail_count': 0,\n",
       "   'user_reposted': 0},\n",
       "  'text': 'sdfghhtyhgb',\n",
       "  'track_code': '0xabcdefomdfZrMLkF8dJ5Bn_irGMYwpBTNHIio0wDhKLR1j-cMoGwhsTG4qQfhiqkrjL4hm6lPyUSNppjaINYBh-XXyXPhMhzzyJKZt_Hb3IWEWvqdhUnMo6w'},\n",
       " {'inner_type': 'wall_wallpost',\n",
       "  'ads_easy_promote': {'type': 1,\n",
       "   'text': '',\n",
       "   'label_text': 'Ждём команды, чтобы начать продвижение',\n",
       "   'button_text': 'Продвигать',\n",
       "   'is_ad_not_easy': False},\n",
       "  'can_edit': 1,\n",
       "  'created_by': 282286498,\n",
       "  'can_delete': 1,\n",
       "  'can_pin': 1,\n",
       "  'donut': {'is_donut': False},\n",
       "  'comments': {'can_post': 1,\n",
       "   'can_close': 1,\n",
       "   'can_view': 1,\n",
       "   'count': 0,\n",
       "   'groups_can_post': True},\n",
       "  'marked_as_ads': 0,\n",
       "  'activity': {'type': 'repost_to_story', 'discriminator': 'share_to_story'},\n",
       "  'zoom_text': True,\n",
       "  'hash': 'SrRsjyLsn72jFN788TGyTg4S89Dg',\n",
       "  'type': 'post',\n",
       "  'push_subscription': {'is_subscribed': False},\n",
       "  'post_author_data': {'author': 282286498},\n",
       "  'attachments': [],\n",
       "  'date': 1750561501,\n",
       "  'from_id': -229873554,\n",
       "  'id': 101,\n",
       "  'is_favorite': False,\n",
       "  'likes': {'can_like': 1,\n",
       "   'count': 0,\n",
       "   'user_likes': 0,\n",
       "   'can_publish': 1,\n",
       "   'repost_disabled': False},\n",
       "  'reaction_set_id': 'reactions',\n",
       "  'owner_id': -229873554,\n",
       "  'post_source': {'type': 'api'},\n",
       "  'post_type': 'post',\n",
       "  'reposts': {'count': 0,\n",
       "   'wall_count': 0,\n",
       "   'mail_count': 0,\n",
       "   'user_reposted': 0},\n",
       "  'text': 'sdfghjk',\n",
       "  'track_code': '0xabcdefomdfZrMLkF8dJ5Bn_irGMYwpBTNHIio0wDhKLR1j-cMoGwhsT24rQfhiqkrjL4hm6lPyUSNppjaINYBh-XXyXPhMhzzyJKZt_Hb3IWEWvqfhTXMo6w'}]"
      ]
     },
     "metadata": {},
     "output_type": "display_data"
    }
   ],
   "source": [
    "wall_posts = vk_api.wall.get_all(community_id)\n",
    "display(f\"Всего постов: {len(wall_posts)}\")\n",
    "display(wall_posts)\n",
    "time.sleep(1)"
   ]
  },
  {
   "cell_type": "markdown",
   "metadata": {},
   "source": [
    "### Получение постов по id"
   ]
  },
  {
   "cell_type": "code",
   "execution_count": 8,
   "metadata": {},
   "outputs": [
    {
     "data": {
      "text/plain": [
       "{'inner_type': 'wall_wallpost',\n",
       " 'ads_easy_promote': {'type': 1,\n",
       "  'text': '',\n",
       "  'label_text': 'Ждём команды, чтобы начать продвижение',\n",
       "  'button_text': 'Продвигать',\n",
       "  'is_ad_not_easy': False},\n",
       " 'can_edit': 1,\n",
       " 'created_by': 282286498,\n",
       " 'can_delete': 1,\n",
       " 'can_pin': 1,\n",
       " 'donut': {'is_donut': False},\n",
       " 'comments': {'can_post': 1,\n",
       "  'can_close': 1,\n",
       "  'can_view': 1,\n",
       "  'count': 0,\n",
       "  'groups_can_post': True},\n",
       " 'marked_as_ads': 0,\n",
       " 'activity': {'type': 'repost_to_story', 'discriminator': 'share_to_story'},\n",
       " 'zoom_text': True,\n",
       " 'hash': 'SrRsjyLsn72jFN788TGyTg4S89Dg',\n",
       " 'type': 'post',\n",
       " 'post_author_data': {'author': 282286498},\n",
       " 'attachments': [],\n",
       " 'date': 1750561501,\n",
       " 'from_id': -229873554,\n",
       " 'id': 101,\n",
       " 'is_favorite': False,\n",
       " 'likes': {'can_like': 1,\n",
       "  'count': 0,\n",
       "  'user_likes': 0,\n",
       "  'can_publish': 1,\n",
       "  'repost_disabled': False},\n",
       " 'reaction_set_id': 'reactions',\n",
       " 'owner_id': -229873554,\n",
       " 'post_source': {'type': 'api'},\n",
       " 'post_type': 'post',\n",
       " 'reposts': {'count': 0, 'wall_count': 0, 'mail_count': 0, 'user_reposted': 0},\n",
       " 'text': 'sdfghjk',\n",
       " 'track_code': '0xabcdefomdfZrMLkF8dJ5Bn_irGMYwpBTNHIio0wDhKLR1j-cMoGwhsT24qQfhiqkrjL4hm6lPyUSNppjaINYBh-XXyXPhMhzzyJKZt_Hb3IWEWvQi0iHMo6w'}"
      ]
     },
     "metadata": {},
     "output_type": "display_data"
    }
   ],
   "source": [
    "post_id = random.choice([post[\"id\"] for post in wall_posts])\n",
    "post = vk_api.wall.get_by_id(community_id, post_id)\n",
    "display(post)\n",
    "time.sleep(1)"
   ]
  },
  {
   "cell_type": "markdown",
   "metadata": {},
   "source": [
    "### Получение комментариев под постом"
   ]
  },
  {
   "cell_type": "code",
   "execution_count": 9,
   "metadata": {},
   "outputs": [
    {
     "name": "stdout",
     "output_type": "stream",
     "text": [
      "Комментариев под постом: 0\n"
     ]
    },
    {
     "data": {
      "text/plain": [
       "[]"
      ]
     },
     "metadata": {},
     "output_type": "display_data"
    }
   ],
   "source": [
    "comments = vk_api.wall.get_comments(community_id, post_id)\n",
    "print(f\"Комментариев под постом: {len(comments)}\")\n",
    "display(comments)\n",
    "time.sleep(1)"
   ]
  },
  {
   "cell_type": "markdown",
   "metadata": {},
   "source": [
    "### Получение постов с определенной даты"
   ]
  },
  {
   "cell_type": "code",
   "execution_count": 10,
   "metadata": {},
   "outputs": [
    {
     "name": "stdout",
     "output_type": "stream",
     "text": [
      "Всего постов c 2025-03-26 21:02:56: 2\n"
     ]
    },
    {
     "data": {
      "text/plain": [
       "[{'inner_type': 'wall_wallpost',\n",
       "  'ads_easy_promote': {'type': 1,\n",
       "   'text': '',\n",
       "   'label_text': 'Ждём команды, чтобы начать продвижение',\n",
       "   'button_text': 'Продвигать',\n",
       "   'is_ad_not_easy': False},\n",
       "  'can_edit': 1,\n",
       "  'created_by': 282286498,\n",
       "  'can_delete': 1,\n",
       "  'can_pin': 1,\n",
       "  'donut': {'is_donut': False},\n",
       "  'comments': {'can_post': 1,\n",
       "   'can_close': 1,\n",
       "   'can_view': 1,\n",
       "   'count': 0,\n",
       "   'groups_can_post': True},\n",
       "  'marked_as_ads': 0,\n",
       "  'activity': {'type': 'repost_to_story', 'discriminator': 'share_to_story'},\n",
       "  'zoom_text': True,\n",
       "  'hash': 'ZvreUhwCC4J78XkpWoPfnIwohVrm',\n",
       "  'type': 'post',\n",
       "  'push_subscription': {'is_subscribed': False},\n",
       "  'post_author_data': {'author': 282286498},\n",
       "  'attachments': [],\n",
       "  'date': 1750561640,\n",
       "  'from_id': -229873554,\n",
       "  'id': 102,\n",
       "  'is_favorite': False,\n",
       "  'likes': {'can_like': 1,\n",
       "   'count': 0,\n",
       "   'user_likes': 0,\n",
       "   'can_publish': 1,\n",
       "   'repost_disabled': False},\n",
       "  'reaction_set_id': 'reactions',\n",
       "  'owner_id': -229873554,\n",
       "  'post_source': {'type': 'api'},\n",
       "  'post_type': 'post',\n",
       "  'reposts': {'count': 0,\n",
       "   'wall_count': 0,\n",
       "   'mail_count': 0,\n",
       "   'user_reposted': 0},\n",
       "  'text': 'sdfghhtyhgb',\n",
       "  'track_code': '0xabcdefomdfZrMLkF8dJ5Bn_irGMYwpBTNHIio0wDhKLR1j-cMoGwhsTG4qQfhiqkrjL4hm6lPyUSNppjaINYBh-XXyXPhMhzzyJKZt_Hb3IWEWvKutNXMo6w'},\n",
       " {'inner_type': 'wall_wallpost',\n",
       "  'ads_easy_promote': {'type': 1,\n",
       "   'text': '',\n",
       "   'label_text': 'Ждём команды, чтобы начать продвижение',\n",
       "   'button_text': 'Продвигать',\n",
       "   'is_ad_not_easy': False},\n",
       "  'can_edit': 1,\n",
       "  'created_by': 282286498,\n",
       "  'can_delete': 1,\n",
       "  'can_pin': 1,\n",
       "  'donut': {'is_donut': False},\n",
       "  'comments': {'can_post': 1,\n",
       "   'can_close': 1,\n",
       "   'can_view': 1,\n",
       "   'count': 0,\n",
       "   'groups_can_post': True},\n",
       "  'marked_as_ads': 0,\n",
       "  'activity': {'type': 'repost_to_story', 'discriminator': 'share_to_story'},\n",
       "  'zoom_text': True,\n",
       "  'hash': 'SrRsjyLsn72jFN788TGyTg4S89Dg',\n",
       "  'type': 'post',\n",
       "  'push_subscription': {'is_subscribed': False},\n",
       "  'post_author_data': {'author': 282286498},\n",
       "  'attachments': [],\n",
       "  'date': 1750561501,\n",
       "  'from_id': -229873554,\n",
       "  'id': 101,\n",
       "  'is_favorite': False,\n",
       "  'likes': {'can_like': 1,\n",
       "   'count': 0,\n",
       "   'user_likes': 0,\n",
       "   'can_publish': 1,\n",
       "   'repost_disabled': False},\n",
       "  'reaction_set_id': 'reactions',\n",
       "  'owner_id': -229873554,\n",
       "  'post_source': {'type': 'api'},\n",
       "  'post_type': 'post',\n",
       "  'reposts': {'count': 0,\n",
       "   'wall_count': 0,\n",
       "   'mail_count': 0,\n",
       "   'user_reposted': 0},\n",
       "  'text': 'sdfghjk',\n",
       "  'track_code': '0xabcdefomdfZrMLkF8dJ5Bn_irGMYwpBTNHIio0wDhKLR1j-cMoGwhsT24rQfhiqkrjL4hm6lPyUSNppjaINYBh-XXyXPhMhzzyJKZt_Hb3IWEWvKhZnHMo6w'}]"
      ]
     },
     "metadata": {},
     "output_type": "display_data"
    }
   ],
   "source": [
    "import datetime\n",
    "last_update = 1743012176\n",
    "new_posts = vk_api.wall.get_all_since(community_id, last_update)\n",
    "date = datetime.datetime.fromtimestamp(last_update)\n",
    "print(f\"Всего постов c {date}: {len(new_posts)}\")\n",
    "display(new_posts)\n",
    "time.sleep(1)"
   ]
  },
  {
   "cell_type": "markdown",
   "metadata": {},
   "source": [
    "### Удаление поста"
   ]
  },
  {
   "cell_type": "code",
   "execution_count": 11,
   "metadata": {},
   "outputs": [
    {
     "data": {
      "text/plain": [
       "1"
      ]
     },
     "execution_count": 11,
     "metadata": {},
     "output_type": "execute_result"
    }
   ],
   "source": [
    "id_to_delete = new_posts[0][\"id\"]\n",
    "vk_api.wall.delete(community_id, id_to_delete)"
   ]
  },
  {
   "cell_type": "markdown",
   "metadata": {},
   "source": [
    "## Чаты"
   ]
  },
  {
   "cell_type": "markdown",
   "metadata": {},
   "source": [
    "### Отправить сообщение"
   ]
  },
  {
   "cell_type": "code",
   "execution_count": 12,
   "metadata": {},
   "outputs": [
    {
     "data": {
      "text/plain": [
       "150"
      ]
     },
     "execution_count": 12,
     "metadata": {},
     "output_type": "execute_result"
    }
   ],
   "source": [
    "status_check_template = '''\n",
    "{separator}\n",
    "Статус сервиса: {status}\n",
    "Статус отслеживания: {longpoll_status}\n",
    "\n",
    "Отследиваемое сообщество: {community_id}\n",
    "Администрация сообщества: {admin_id}\n",
    "\n",
    "Ключ сообщества: {community_key}\n",
    "Ключ администратора: {admin_key}\n",
    "{separator}\n",
    "'''\n",
    "\n",
    "vk_api.chat.send(adminId,\n",
    "                 status_check_template.format(\n",
    "                     status=\"OK\",\n",
    "                     longpoll_status=\"Выключено\",\n",
    "                     community_id=community_id,\n",
    "                     admin_id=adminId,\n",
    "                     community_key= \"OK\" if bool(community_key) else \"Не работает\",\n",
    "                     admin_key= \"OK\" if bool(access_token) else \"Не работает\",\n",
    "                     separator='-'*100\n",
    "                     ))"
   ]
  },
  {
   "cell_type": "markdown",
   "metadata": {},
   "source": [
    "### Получение всех сообщений из чата"
   ]
  },
  {
   "cell_type": "code",
   "execution_count": 13,
   "metadata": {},
   "outputs": [
    {
     "data": {
      "text/plain": [
       "[{'date': 1750561671,\n",
       "  'from_id': -229873554,\n",
       "  'id': 150,\n",
       "  'version': 10000496,\n",
       "  'out': 1,\n",
       "  'important': False,\n",
       "  'is_hidden': False,\n",
       "  'attachments': [],\n",
       "  'conversation_message_id': 140,\n",
       "  'fwd_messages': [],\n",
       "  'text': '----------------------------------------------------------------------------------------------------\\nСтатус сервиса: OK\\nСтатус отслеживания: Выключено\\n\\nОтследиваемое сообщество: 229873554\\nАдминистрация сообщества: 282286498\\n\\nКлюч сообщества: OK\\nКлюч администратора: OK\\n----------------------------------------------------------------------------------------------------',\n",
       "  'peer_id': 282286498,\n",
       "  'random_id': 35443},\n",
       " {'date': 1750561279,\n",
       "  'from_id': -229873554,\n",
       "  'id': 149,\n",
       "  'version': 10000496,\n",
       "  'out': 1,\n",
       "  'important': False,\n",
       "  'is_hidden': False,\n",
       "  'attachments': [],\n",
       "  'conversation_message_id': 139,\n",
       "  'fwd_messages': [],\n",
       "  'text': '----------------------------------------------------------------------------------------------------\\nСтатус сервиса: OK\\nСтатус отслеживания: Выключено\\n\\nОтследиваемое сообщество: 229873554\\nАдминистрация сообщества: 282286498\\n\\nКлюч сообщества: OK\\nКлюч администратора: OK\\n----------------------------------------------------------------------------------------------------',\n",
       "  'peer_id': 282286498,\n",
       "  'random_id': 53672},\n",
       " {'date': 1750560874,\n",
       "  'from_id': -229873554,\n",
       "  'id': 147,\n",
       "  'version': 10000496,\n",
       "  'out': 1,\n",
       "  'important': False,\n",
       "  'is_hidden': False,\n",
       "  'attachments': [],\n",
       "  'conversation_message_id': 137,\n",
       "  'fwd_messages': [],\n",
       "  'text': '---------------------------------------------------------------------\\nСтатус сервиса: OK\\nСтатус отслеживания: Выключено\\n\\nОтследиваемое сообщество: 229873554\\nАдминистрация сообщества: 282286498\\n\\nКлюч сообщества: OK\\nКлюч администратора: OK\\n---------------------------------------------------------------------',\n",
       "  'peer_id': 282286498,\n",
       "  'random_id': 27919},\n",
       " {'date': 1750560868,\n",
       "  'from_id': -229873554,\n",
       "  'id': 146,\n",
       "  'version': 10000496,\n",
       "  'out': 1,\n",
       "  'important': False,\n",
       "  'is_hidden': False,\n",
       "  'attachments': [],\n",
       "  'conversation_message_id': 136,\n",
       "  'fwd_messages': [],\n",
       "  'text': '---------------------------------------------------------------------\\nСтатус сервиса: OK\\nСтатус отслеживания: Выключено\\n\\nОтследиваемое сообщество: 229873554\\nАдминистрация сообщества: 282286498\\n\\nКлюч сообщества: OK\\nКлюч администратора: OK\\n---------------------------------------------------------------------',\n",
       "  'peer_id': 282286498,\n",
       "  'random_id': 45761},\n",
       " {'date': 1750547351,\n",
       "  'from_id': -229873554,\n",
       "  'id': 145,\n",
       "  'version': 10000496,\n",
       "  'out': 1,\n",
       "  'important': False,\n",
       "  'is_hidden': False,\n",
       "  'attachments': [],\n",
       "  'conversation_message_id': 135,\n",
       "  'fwd_messages': [],\n",
       "  'text': 'Обнаружено потенциальное нарушение\\n----------------------------------------------------------------------------------------------------\\nСсылка на пост:\\nhttps://vk.com/wall-229873554_100\\nId Автора: Роман Смирнов (https://vk.com/youneedinformation)\\nТекст: Аро\\nПроцет уверенности: 2.9999999329447746%\\n----------------------------------------------------------------------------------------------------',\n",
       "  'peer_id': 282286498,\n",
       "  'random_id': 69159},\n",
       " {'date': 1750547206,\n",
       "  'from_id': -229873554,\n",
       "  'id': 144,\n",
       "  'version': 10000496,\n",
       "  'out': 1,\n",
       "  'important': False,\n",
       "  'is_hidden': False,\n",
       "  'attachments': [{'type': 'link',\n",
       "    'link': {'url': 'https://vk.com/club229873554',\n",
       "     'title': 'Test Site',\n",
       "     'caption': '2 подписчика',\n",
       "     'description': '',\n",
       "     'photo': {'album_id': 0,\n",
       "      'date': 0,\n",
       "      'id': 0,\n",
       "      'owner_id': 0,\n",
       "      'sizes': [{'height': 50,\n",
       "        'type': 's',\n",
       "        'width': 50,\n",
       "        'url': 'https://sun9-61.userapi.com/impg/hV2sUZg3H8_i7YovgNIe3wWzVyeH0obdWHIPLw/lj-AKosjN2o.jpg?quality=96&as=32x32,48x48,72x72,108x108,160x160,240x240,360x360&sign=f133d4595e430c3e3abf13fc9723556b&u=UkBdT-3DOkMvj3c-FILPN7zDqae5-a8vlvejtFKqv0Y&cs=50x50'},\n",
       "       {'height': 100,\n",
       "        'type': 'o',\n",
       "        'width': 100,\n",
       "        'url': 'https://sun9-61.userapi.com/impg/hV2sUZg3H8_i7YovgNIe3wWzVyeH0obdWHIPLw/lj-AKosjN2o.jpg?quality=96&as=32x32,48x48,72x72,108x108,160x160,240x240,360x360&sign=f133d4595e430c3e3abf13fc9723556b&u=UkBdT-3DOkMvj3c-FILPN7zDqae5-a8vlvejtFKqv0Y&cs=100x100'},\n",
       "       {'height': 200,\n",
       "        'type': 'm',\n",
       "        'width': 200,\n",
       "        'url': 'https://sun9-61.userapi.com/impg/hV2sUZg3H8_i7YovgNIe3wWzVyeH0obdWHIPLw/lj-AKosjN2o.jpg?quality=96&as=32x32,48x48,72x72,108x108,160x160,240x240,360x360&sign=f133d4595e430c3e3abf13fc9723556b&u=UkBdT-3DOkMvj3c-FILPN7zDqae5-a8vlvejtFKqv0Y&cs=200x200'}],\n",
       "      'has_tags': False},\n",
       "     'button': {'title': 'Открыть',\n",
       "      'action': {'type': 'open_url',\n",
       "       'url': 'https://vk.com/club229873554'}}}}],\n",
       "  'conversation_message_id': 134,\n",
       "  'fwd_messages': [],\n",
       "  'text': '----------------------------------------------------------------------------------------------------\\nСтатус сервера: OK\\nСтатус отслеживания: OK\\n\\nОтследиваемое сообщество: Test Site (https://vk.com/club229873554)\\nАдминистрация сообщества: Роман Смирнов (https://vk.com/youneedinformation)\\n\\nКлюч сообщества: Работает\\nКлюч администратора: Работает\\n----------------------------------------------------------------------------------------------------',\n",
       "  'peer_id': 282286498,\n",
       "  'random_id': 28790},\n",
       " {'date': 1750547206,\n",
       "  'from_id': 282286498,\n",
       "  'id': 143,\n",
       "  'version': 10000496,\n",
       "  'out': 0,\n",
       "  'important': False,\n",
       "  'is_hidden': False,\n",
       "  'attachments': [],\n",
       "  'conversation_message_id': 133,\n",
       "  'fwd_messages': [],\n",
       "  'text': 'Статус',\n",
       "  'peer_id': 282286498,\n",
       "  'random_id': 0},\n",
       " {'date': 1750547141,\n",
       "  'from_id': -229873554,\n",
       "  'id': 142,\n",
       "  'version': 10000496,\n",
       "  'out': 1,\n",
       "  'important': False,\n",
       "  'is_hidden': False,\n",
       "  'attachments': [{'type': 'link',\n",
       "    'link': {'url': 'https://vk.com/club229873554',\n",
       "     'title': 'Test Site',\n",
       "     'caption': '2 подписчика',\n",
       "     'description': '',\n",
       "     'photo': {'album_id': 0,\n",
       "      'date': 0,\n",
       "      'id': 0,\n",
       "      'owner_id': 0,\n",
       "      'sizes': [{'height': 50,\n",
       "        'type': 's',\n",
       "        'width': 50,\n",
       "        'url': 'https://sun9-61.userapi.com/impg/hV2sUZg3H8_i7YovgNIe3wWzVyeH0obdWHIPLw/lj-AKosjN2o.jpg?quality=96&as=32x32,48x48,72x72,108x108,160x160,240x240,360x360&sign=f133d4595e430c3e3abf13fc9723556b&u=UkBdT-3DOkMvj3c-FILPN7zDqae5-a8vlvejtFKqv0Y&cs=50x50'},\n",
       "       {'height': 100,\n",
       "        'type': 'o',\n",
       "        'width': 100,\n",
       "        'url': 'https://sun9-61.userapi.com/impg/hV2sUZg3H8_i7YovgNIe3wWzVyeH0obdWHIPLw/lj-AKosjN2o.jpg?quality=96&as=32x32,48x48,72x72,108x108,160x160,240x240,360x360&sign=f133d4595e430c3e3abf13fc9723556b&u=UkBdT-3DOkMvj3c-FILPN7zDqae5-a8vlvejtFKqv0Y&cs=100x100'},\n",
       "       {'height': 200,\n",
       "        'type': 'm',\n",
       "        'width': 200,\n",
       "        'url': 'https://sun9-61.userapi.com/impg/hV2sUZg3H8_i7YovgNIe3wWzVyeH0obdWHIPLw/lj-AKosjN2o.jpg?quality=96&as=32x32,48x48,72x72,108x108,160x160,240x240,360x360&sign=f133d4595e430c3e3abf13fc9723556b&u=UkBdT-3DOkMvj3c-FILPN7zDqae5-a8vlvejtFKqv0Y&cs=200x200'}],\n",
       "      'has_tags': False},\n",
       "     'button': {'title': 'Открыть',\n",
       "      'action': {'type': 'open_url',\n",
       "       'url': 'https://vk.com/club229873554'}}}}],\n",
       "  'conversation_message_id': 132,\n",
       "  'fwd_messages': [],\n",
       "  'text': '----------------------------------------------------------------------------------------------------\\nСтатус сервера: OK\\nСтатус отслеживания: OK\\n\\nОтследиваемое сообщество: Test Site (https://vk.com/club229873554)\\nАдминистрация сообщества: Роман Смирнов (https://vk.com/youneedinformation)\\n\\nКлюч сообщества: Работает\\nКлюч администратора: Работает\\n----------------------------------------------------------------------------------------------------',\n",
       "  'peer_id': 282286498,\n",
       "  'random_id': 56193},\n",
       " {'date': 1750547140,\n",
       "  'from_id': 282286498,\n",
       "  'id': 141,\n",
       "  'version': 10000496,\n",
       "  'out': 0,\n",
       "  'important': False,\n",
       "  'is_hidden': False,\n",
       "  'attachments': [],\n",
       "  'conversation_message_id': 131,\n",
       "  'fwd_messages': [],\n",
       "  'text': 'Статус',\n",
       "  'peer_id': 282286498,\n",
       "  'random_id': 0},\n",
       " {'date': 1750546948,\n",
       "  'from_id': 282286498,\n",
       "  'id': 140,\n",
       "  'version': 10000496,\n",
       "  'out': 0,\n",
       "  'important': False,\n",
       "  'is_hidden': False,\n",
       "  'attachments': [],\n",
       "  'conversation_message_id': 130,\n",
       "  'fwd_messages': [],\n",
       "  'text': 'Статус',\n",
       "  'peer_id': 282286498,\n",
       "  'random_id': 0},\n",
       " {'date': 1750543464,\n",
       "  'from_id': 282286498,\n",
       "  'id': 139,\n",
       "  'version': 10000496,\n",
       "  'out': 0,\n",
       "  'important': False,\n",
       "  'is_hidden': False,\n",
       "  'attachments': [],\n",
       "  'conversation_message_id': 129,\n",
       "  'fwd_messages': [],\n",
       "  'text': 'Статус',\n",
       "  'peer_id': 282286498,\n",
       "  'random_id': 0}]"
      ]
     },
     "execution_count": 13,
     "metadata": {},
     "output_type": "execute_result"
    }
   ],
   "source": [
    "messages = vk_api.chat.get_all(adminId)\n",
    "messages"
   ]
  },
  {
   "cell_type": "markdown",
   "metadata": {},
   "source": [
    "### Получение сообщения из чата по id"
   ]
  },
  {
   "cell_type": "code",
   "execution_count": 14,
   "metadata": {},
   "outputs": [
    {
     "data": {
      "text/plain": [
       "{'date': 1750561671,\n",
       " 'from_id': -229873554,\n",
       " 'id': 150,\n",
       " 'version': 10000496,\n",
       " 'out': 1,\n",
       " 'important': False,\n",
       " 'is_hidden': False,\n",
       " 'attachments': [],\n",
       " 'conversation_message_id': 140,\n",
       " 'fwd_messages': [],\n",
       " 'text': '----------------------------------------------------------------------------------------------------\\nСтатус сервиса: OK\\nСтатус отслеживания: Выключено\\n\\nОтследиваемое сообщество: 229873554\\nАдминистрация сообщества: 282286498\\n\\nКлюч сообщества: OK\\nКлюч администратора: OK\\n----------------------------------------------------------------------------------------------------',\n",
       " 'peer_id': 282286498,\n",
       " 'random_id': 35443}"
      ]
     },
     "execution_count": 14,
     "metadata": {},
     "output_type": "execute_result"
    }
   ],
   "source": [
    "id_to_delete = messages[0][\"id\"]\n",
    "vk_api.chat.get_by_id(id_to_delete)"
   ]
  },
  {
   "cell_type": "markdown",
   "metadata": {},
   "source": [
    "### Удаление сообщения"
   ]
  },
  {
   "cell_type": "code",
   "execution_count": 15,
   "metadata": {},
   "outputs": [
    {
     "data": {
      "text/plain": [
       "True"
      ]
     },
     "execution_count": 15,
     "metadata": {},
     "output_type": "execute_result"
    }
   ],
   "source": [
    "vk_api.chat.delete(adminId, id_to_delete)"
   ]
  },
  {
   "cell_type": "markdown",
   "metadata": {},
   "source": [
    "### Редактирование сообщения"
   ]
  },
  {
   "cell_type": "code",
   "execution_count": 18,
   "metadata": {},
   "outputs": [
    {
     "data": {
      "text/plain": [
       "True"
      ]
     },
     "execution_count": 18,
     "metadata": {},
     "output_type": "execute_result"
    }
   ],
   "source": [
    "vk_api.chat.edit(adminId, messages[-1][\"id\"], \"Измененное тестовое сообщение\")"
   ]
  },
  {
   "cell_type": "markdown",
   "metadata": {},
   "source": [
    "## Пользователи"
   ]
  },
  {
   "cell_type": "markdown",
   "metadata": {},
   "source": [
    "### Получение всей информации"
   ]
  },
  {
   "cell_type": "code",
   "execution_count": 19,
   "metadata": {},
   "outputs": [
    {
     "data": {
      "text/plain": [
       "{'id': 282286498,\n",
       " 'nickname': '',\n",
       " 'domain': 'youneedinformation',\n",
       " 'bdate': '3.12',\n",
       " 'city': {'id': 1711760, 'title': 'Frankfort'},\n",
       " 'photo_200': 'https://sun9-26.userapi.com/s/v1/ig1/jnKrTT1ZWfc_Khk4m2H2yIUXAFrs2oN0W218FMAHQvNYrHyjm9QbrwUaVwzi8wnp1GHDZLdW.jpg?quality=96&crop=28,28,227,227&as=32x32,48x48,72x72,108x108,160x160&ava=1&cs=200x200',\n",
       " 'photo_max': 'https://sun9-26.userapi.com/s/v1/ig1/jnKrTT1ZWfc_Khk4m2H2yIUXAFrs2oN0W218FMAHQvNYrHyjm9QbrwUaVwzi8wnp1GHDZLdW.jpg?quality=96&crop=28,28,227,227&as=32x32,48x48,72x72,108x108,160x160&ava=1&cs=400x400',\n",
       " 'photo_200_orig': 'https://sun9-26.userapi.com/s/v1/ig1/jnKrTT1ZWfc_Khk4m2H2yIUXAFrs2oN0W218FMAHQvNYrHyjm9QbrwUaVwzi8wnp1GHDZLdW.jpg?quality=96&crop=28,28,227,227&as=32x32,48x48,72x72,108x108,160x160&ava=1&cs=240x240',\n",
       " 'photo_400_orig': 'https://sun9-26.userapi.com/s/v1/ig1/jnKrTT1ZWfc_Khk4m2H2yIUXAFrs2oN0W218FMAHQvNYrHyjm9QbrwUaVwzi8wnp1GHDZLdW.jpg?quality=96&crop=28,28,227,227&as=32x32,48x48,72x72,108x108,160x160&ava=1&cs=240x240',\n",
       " 'photo_max_orig': 'https://sun9-26.userapi.com/s/v1/ig1/jnKrTT1ZWfc_Khk4m2H2yIUXAFrs2oN0W218FMAHQvNYrHyjm9QbrwUaVwzi8wnp1GHDZLdW.jpg?quality=96&crop=28,28,227,227&as=32x32,48x48,72x72,108x108,160x160&ava=1&cs=240x240',\n",
       " 'photo_id': '282286498_456239250',\n",
       " 'has_photo': 1,\n",
       " 'has_mobile': 1,\n",
       " 'is_friend': 0,\n",
       " 'can_post': 0,\n",
       " 'can_see_all_posts': 1,\n",
       " 'can_see_audio': 0,\n",
       " 'can_write_private_message': 1,\n",
       " 'can_send_friend_request': 1,\n",
       " 'can_be_invited_group': True,\n",
       " 'site': '',\n",
       " 'status': '[Redacted]',\n",
       " 'last_seen': {'platform': 7, 'time': 1750561596},\n",
       " 'crop_photo': {'photo': {'album_id': -6,\n",
       "   'date': 1523184468,\n",
       "   'id': 456239250,\n",
       "   'owner_id': 282286498,\n",
       "   'post_id': 866,\n",
       "   'sizes': [{'height': 73,\n",
       "     'type': 's',\n",
       "     'width': 72,\n",
       "     'url': 'https://sun9-26.userapi.com/s/v1/ig1/mfwTweEhVLWmd_EPQptBI1nTGWD2rZDsc6vaEv_VrvU9FkAnRhD9zg6jbMVi6YzKNFnGljOG.jpg?quality=96&as=32x32,48x49,72x73,108x110,160x162,240x243,284x288&from=bu&cs=72x0'},\n",
       "    {'height': 162,\n",
       "     'type': 'm',\n",
       "     'width': 160,\n",
       "     'url': 'https://sun9-26.userapi.com/s/v1/ig1/mfwTweEhVLWmd_EPQptBI1nTGWD2rZDsc6vaEv_VrvU9FkAnRhD9zg6jbMVi6YzKNFnGljOG.jpg?quality=96&as=32x32,48x49,72x73,108x110,160x162,240x243,284x288&from=bu&cs=160x0'},\n",
       "    {'height': 288,\n",
       "     'type': 'x',\n",
       "     'width': 284,\n",
       "     'url': 'https://sun9-26.userapi.com/s/v1/ig1/mfwTweEhVLWmd_EPQptBI1nTGWD2rZDsc6vaEv_VrvU9FkAnRhD9zg6jbMVi6YzKNFnGljOG.jpg?quality=96&as=32x32,48x49,72x73,108x110,160x162,240x243,284x288&from=bu&cs=284x0'},\n",
       "    {'height': 288,\n",
       "     'type': 'y',\n",
       "     'width': 284,\n",
       "     'url': 'https://sun9-26.userapi.com/s/v1/ig1/mfwTweEhVLWmd_EPQptBI1nTGWD2rZDsc6vaEv_VrvU9FkAnRhD9zg6jbMVi6YzKNFnGljOG.jpg?quality=96&as=32x32,48x49,72x73,108x110,160x162,240x243,284x288&from=bu&cs=284x0'},\n",
       "    {'height': 110,\n",
       "     'type': 'o',\n",
       "     'width': 108,\n",
       "     'url': 'https://sun9-26.userapi.com/s/v1/ig1/mfwTweEhVLWmd_EPQptBI1nTGWD2rZDsc6vaEv_VrvU9FkAnRhD9zg6jbMVi6YzKNFnGljOG.jpg?quality=96&as=32x32,48x49,72x73,108x110,160x162,240x243,284x288&from=bu&cs=108x0'},\n",
       "    {'height': 243,\n",
       "     'type': 'p',\n",
       "     'width': 240,\n",
       "     'url': 'https://sun9-26.userapi.com/s/v1/ig1/mfwTweEhVLWmd_EPQptBI1nTGWD2rZDsc6vaEv_VrvU9FkAnRhD9zg6jbMVi6YzKNFnGljOG.jpg?quality=96&as=32x32,48x49,72x73,108x110,160x162,240x243,284x288&from=bu&cs=240x0'},\n",
       "    {'height': 288,\n",
       "     'type': 'base',\n",
       "     'width': 284,\n",
       "     'url': 'https://sun9-26.userapi.com/s/v1/ig1/mfwTweEhVLWmd_EPQptBI1nTGWD2rZDsc6vaEv_VrvU9FkAnRhD9zg6jbMVi6YzKNFnGljOG.jpg?quality=96&as=32x32,48x49,72x73,108x110,160x162,240x243,284x288&from=bu'}],\n",
       "   'square_crop': '28,28,227',\n",
       "   'text': '',\n",
       "   'web_view_token': '7cae7857ff4a5965e3',\n",
       "   'has_tags': False,\n",
       "   'orig_photo': {'height': 288,\n",
       "    'type': 'base',\n",
       "    'url': 'https://sun9-26.userapi.com/s/v1/ig1/mfwTweEhVLWmd_EPQptBI1nTGWD2rZDsc6vaEv_VrvU9FkAnRhD9zg6jbMVi6YzKNFnGljOG.jpg?quality=96&as=32x32,48x49,72x73,108x110,160x162,240x243,284x288&from=bu',\n",
       "    'width': 284}},\n",
       "  'crop': {'x': 0.0, 'y': 0.0, 'x2': 100.0, 'y2': 100.0},\n",
       "  'rect': {'x': 9.86, 'y': 9.72, 'x2': 89.79, 'y2': 88.54}},\n",
       " 'followers_count': 55,\n",
       " 'blacklisted': 0,\n",
       " 'blacklisted_by_me': 0,\n",
       " 'is_hidden_from_feed': 0,\n",
       " 'is_verified': False,\n",
       " 'sex': 2,\n",
       " 'screen_name': 'youneedinformation',\n",
       " 'photo_50': 'https://sun9-26.userapi.com/s/v1/ig1/jnKrTT1ZWfc_Khk4m2H2yIUXAFrs2oN0W218FMAHQvNYrHyjm9QbrwUaVwzi8wnp1GHDZLdW.jpg?quality=96&crop=28,28,227,227&as=32x32,48x48,72x72,108x108,160x160&ava=1&cs=50x50',\n",
       " 'photo_100': 'https://sun9-26.userapi.com/s/v1/ig1/jnKrTT1ZWfc_Khk4m2H2yIUXAFrs2oN0W218FMAHQvNYrHyjm9QbrwUaVwzi8wnp1GHDZLdW.jpg?quality=96&crop=28,28,227,227&as=32x32,48x48,72x72,108x108,160x160&ava=1&cs=100x100',\n",
       " 'online': 1,\n",
       " 'verified': 0,\n",
       " 'friend_status': 0,\n",
       " 'first_name': 'Роман',\n",
       " 'last_name': 'Смирнов',\n",
       " 'can_access_closed': True,\n",
       " 'is_closed': False}"
      ]
     },
     "execution_count": 19,
     "metadata": {},
     "output_type": "execute_result"
    }
   ],
   "source": [
    "vk_api.user.get_info(adminId, [\n",
    "\t\"activities\",\n",
    "    \"about\",\n",
    "    \"blacklisted\",\n",
    "    \"blacklisted_by_me\",\n",
    "    \"books\",\n",
    "    \"bdate\",\n",
    "    \"can_be_invited_group\",\n",
    "    \"can_post\",\n",
    "    \"can_see_all_posts\",\n",
    "    \"can_see_audio\",\n",
    "    \"can_send_friend_request\",\n",
    "    \"can_write_private_message\",\n",
    "    \"career\",\n",
    "#    \"common_count\", # Ограничено для неавторизованных\n",
    "    \"connections\",\n",
    "    \"contacts\",\n",
    "    \"city\",\n",
    "    \"crop_photo\",\n",
    "    \"domain\",\n",
    "    \"education\",\n",
    "    \"exports\",\n",
    "    \"followers_count\",\n",
    "    \"friend_status\",\n",
    "    \"has_photo\",\n",
    "    \"has_mobile\",\n",
    "    \"home_town\",\n",
    "    \"photo_100\",\n",
    "    \"photo_200\",\n",
    "    \"photo_200_orig\",\n",
    "    \"photo_400_orig\",\n",
    "    \"photo_50\",\n",
    "    \"sex\",\n",
    "    \"site\",\n",
    "    \"schools\",\n",
    "    \"screen_name\",\n",
    "    \"status\",\n",
    "    \"verified\",\n",
    "    \"games\",\n",
    "    \"interests\",\n",
    "    \"is_favorite\",\n",
    "    \"is_friend\",\n",
    "    \"is_hidden_from_feed\",\n",
    "    \"last_seen\",\n",
    "    \"maiden_name\",\n",
    "    \"military\",\n",
    "    \"movies\",\n",
    "    \"music\",\n",
    "    \"nickname\",\n",
    "    \"occupation\",\n",
    "    \"online\",\n",
    "    \"personal\",\n",
    "    \"photo_id\",\n",
    "    \"photo_max\",\n",
    "    \"photo_max_orig\",\n",
    "    \"quotes\",\n",
    "    \"relation\",\n",
    "    \"relatives\",\n",
    "    \"timezone\",\n",
    "    \"tv\",\n",
    "    \"universities\",\n",
    "    \"is_verified\"\n",
    "    ]\n",
    ")\n"
   ]
  },
  {
   "cell_type": "markdown",
   "metadata": {},
   "source": [
    "### Получение имени пользвателя по id"
   ]
  },
  {
   "cell_type": "code",
   "execution_count": 21,
   "metadata": {},
   "outputs": [
    {
     "data": {
      "text/plain": [
       "'Роман Смирнов'"
      ]
     },
     "execution_count": 21,
     "metadata": {},
     "output_type": "execute_result"
    }
   ],
   "source": [
    "vk_api.user.get_name(adminId)"
   ]
  },
  {
   "cell_type": "markdown",
   "metadata": {},
   "source": [
    "### Получение юзернейма на пользователя"
   ]
  },
  {
   "cell_type": "code",
   "execution_count": 22,
   "metadata": {},
   "outputs": [
    {
     "data": {
      "text/plain": [
       "'youneedinformation'"
      ]
     },
     "execution_count": 22,
     "metadata": {},
     "output_type": "execute_result"
    }
   ],
   "source": [
    "vk_api.user.get_screen_name(adminId)"
   ]
  },
  {
   "cell_type": "markdown",
   "metadata": {},
   "source": [
    "### Получение ссылки на пользователя"
   ]
  },
  {
   "cell_type": "code",
   "execution_count": 23,
   "metadata": {},
   "outputs": [
    {
     "data": {
      "text/plain": [
       "'https://vk.com/youneedinformation'"
      ]
     },
     "execution_count": 23,
     "metadata": {},
     "output_type": "execute_result"
    }
   ],
   "source": [
    "vk_api.user.get_link(adminId)"
   ]
  },
  {
   "cell_type": "markdown",
   "metadata": {},
   "source": [
    "## Сообщества"
   ]
  },
  {
   "cell_type": "markdown",
   "metadata": {},
   "source": [
    "### Получение всей информации"
   ]
  },
  {
   "cell_type": "code",
   "execution_count": 24,
   "metadata": {},
   "outputs": [
    {
     "data": {
      "text/plain": [
       "{'id': 229873554,\n",
       " 'city': {'id': 1711760, 'title': 'Frankfort'},\n",
       " 'description': '',\n",
       " 'members_count': 2,\n",
       " 'counters': [],\n",
       " 'cover': {'enabled': 0},\n",
       " 'activity': 'Программирование',\n",
       " 'status': '',\n",
       " 'links': [],\n",
       " 'contacts': [{'user_id': 282286498}],\n",
       " 'site': '',\n",
       " 'name': 'Test Site',\n",
       " 'screen_name': 'club229873554',\n",
       " 'is_closed': 0,\n",
       " 'type': 'group',\n",
       " 'verified': 0,\n",
       " 'photo_50': 'https://sun9-61.userapi.com/impg/hV2sUZg3H8_i7YovgNIe3wWzVyeH0obdWHIPLw/lj-AKosjN2o.jpg?quality=96&as=32x32,48x48,72x72,108x108,160x160,240x240,360x360&sign=f133d4595e430c3e3abf13fc9723556b&u=UkBdT-3DOkMvj3c-FILPN7zDqae5-a8vlvejtFKqv0Y&cs=50x50',\n",
       " 'photo_100': 'https://sun9-61.userapi.com/impg/hV2sUZg3H8_i7YovgNIe3wWzVyeH0obdWHIPLw/lj-AKosjN2o.jpg?quality=96&as=32x32,48x48,72x72,108x108,160x160,240x240,360x360&sign=f133d4595e430c3e3abf13fc9723556b&u=UkBdT-3DOkMvj3c-FILPN7zDqae5-a8vlvejtFKqv0Y&cs=100x100',\n",
       " 'photo_200': 'https://sun9-61.userapi.com/impg/hV2sUZg3H8_i7YovgNIe3wWzVyeH0obdWHIPLw/lj-AKosjN2o.jpg?quality=96&as=32x32,48x48,72x72,108x108,160x160,240x240,360x360&sign=f133d4595e430c3e3abf13fc9723556b&u=UkBdT-3DOkMvj3c-FILPN7zDqae5-a8vlvejtFKqv0Y&cs=200x200',\n",
       " 'market': {'enabled': 0,\n",
       "  'has_not_in_market_tab': False,\n",
       "  'has_moderation_rejected_tab': False}}"
      ]
     },
     "execution_count": 24,
     "metadata": {},
     "output_type": "execute_result"
    }
   ],
   "source": [
    "vk_api.community.get_info(community_id, [\n",
    "    \"activity\",\n",
    "    \"ban_info\",\n",
    "    \"can_post\",\n",
    "    \"can_see_all_posts\",\n",
    "    \"city\",\n",
    "    \"contacts\",\n",
    "    \"counters\",\n",
    "    \"country\",\n",
    "    \"cover\",\n",
    "    \"description\",\n",
    "    \"finish_date\",\n",
    "    \"fixed_post\",\n",
    "    \"links\",\n",
    "    \"market\",\n",
    "    \"members_count\",\n",
    "    \"place\",\n",
    "    \"site\",\n",
    "    \"start_date\",\n",
    "    \"status\",\n",
    "    \"verified\",\n",
    "    \"wiki_page\"\n",
    "])"
   ]
  },
  {
   "cell_type": "markdown",
   "metadata": {},
   "source": [
    "### Получение названия"
   ]
  },
  {
   "cell_type": "code",
   "execution_count": 25,
   "metadata": {},
   "outputs": [
    {
     "data": {
      "text/plain": [
       "'Test Site'"
      ]
     },
     "execution_count": 25,
     "metadata": {},
     "output_type": "execute_result"
    }
   ],
   "source": [
    "vk_api.community.get_name(community_id)"
   ]
  },
  {
   "cell_type": "markdown",
   "metadata": {},
   "source": [
    "### Получение ссылки"
   ]
  },
  {
   "cell_type": "code",
   "execution_count": 26,
   "metadata": {},
   "outputs": [
    {
     "data": {
      "text/plain": [
       "'https://vk.com/club229873554'"
      ]
     },
     "execution_count": 26,
     "metadata": {},
     "output_type": "execute_result"
    }
   ],
   "source": [
    "vk_api.community.get_link(community_id)"
   ]
  }
 ],
 "metadata": {
  "kernelspec": {
   "display_name": ".venv",
   "language": "python",
   "name": "python3"
  },
  "language_info": {
   "codemirror_mode": {
    "name": "ipython",
    "version": 3
   },
   "file_extension": ".py",
   "mimetype": "text/x-python",
   "name": "python",
   "nbconvert_exporter": "python",
   "pygments_lexer": "ipython3",
   "version": "3.10.6"
  }
 },
 "nbformat": 4,
 "nbformat_minor": 2
}
