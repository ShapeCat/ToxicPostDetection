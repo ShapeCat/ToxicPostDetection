{
 "cells": [
  {
   "cell_type": "code",
   "execution_count": 6,
   "metadata": {},
   "outputs": [
    {
     "name": "stdout",
     "output_type": "stream",
     "text": [
      "Note: you may need to restart the kernel to use updated packages.\n"
     ]
    }
   ],
   "source": [
    "%pip install -q vk_api python-dotenv"
   ]
  },
  {
   "cell_type": "code",
   "execution_count": 7,
   "metadata": {},
   "outputs": [],
   "source": [
    "import sys, os\n",
    "sys.path.append(os.path.abspath('../'))"
   ]
  },
  {
   "cell_type": "code",
   "execution_count": 11,
   "metadata": {},
   "outputs": [
    {
     "name": "stdout",
     "output_type": "stream",
     "text": [
      "Loading check:\n",
      "\tsecret_key: True\n",
      "\tservice_key: True\n",
      "\tcommunity_key: True\n",
      "\tadmin_userid: True\n"
     ]
    }
   ],
   "source": [
    "from src.utils.environment import load_env\n",
    "\n",
    "secret_key = load_env(\"SECRET_KEY\")\n",
    "service_key = load_env(\"SERVICE_KEY\")\n",
    "community_key = load_env(\"COMMUNITY_KEY\")\n",
    "admin_userid = load_env(\"ADMIN_ID\")\n",
    "print(f\"Loading check:\\n\\tsecret_key: {bool(secret_key)}\\n\\tservice_key: {bool(service_key)}\\n\\tcommunity_key: {bool(community_key)}\\n\\tadmin_userid: {bool(admin_userid)}\")"
   ]
  },
  {
   "cell_type": "code",
   "execution_count": 9,
   "metadata": {},
   "outputs": [
    {
     "name": "stdout",
     "output_type": "stream",
     "text": [
      "Имя: Роман Смирнов, ID: 282286498, Текст: Test\n",
      "Имя: Роман Смирнов, ID: 282286498, Текст: stop\n"
     ]
    }
   ],
   "source": [
    "import vk_api\n",
    "from vk_api.longpoll import VkLongPoll, VkEventType\n",
    "\n",
    "vk_session = vk_api.VkApi(token=community_key)\n",
    "give = vk_session.get_api()\n",
    "longpoll = VkLongPoll(vk_session)\n",
    "\n",
    "\n",
    "\n",
    "def blasthack(id, text):\n",
    "    vk_session.method('messages.send', {'user_id' : id, 'message' : text, 'random_id': 0})\n",
    "\n",
    "\n",
    "for event in longpoll.listen():\n",
    "    if event.type == VkEventType.MESSAGE_NEW:\n",
    "        if event.to_me:\n",
    "            message = event.text\n",
    "            user_id = event.user_id\n",
    "            user_info = give.users.get(user_ids=user_id)[0]\n",
    "            user_name = f\"{user_info['first_name']} {user_info['last_name']}\"\n",
    "            print(f\"Имя: {user_name}, ID: {user_id}, Текст: {message}\")\n",
    "            if message == \"stop\":\n",
    "                break"
   ]
  }
 ],
 "metadata": {
  "kernelspec": {
   "display_name": "Python 3",
   "language": "python",
   "name": "python3"
  },
  "language_info": {
   "codemirror_mode": {
    "name": "ipython",
    "version": 3
   },
   "file_extension": ".py",
   "mimetype": "text/x-python",
   "name": "python",
   "nbconvert_exporter": "python",
   "pygments_lexer": "ipython3",
   "version": "3.12.8"
  }
 },
 "nbformat": 4,
 "nbformat_minor": 2
}
